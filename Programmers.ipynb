{
 "cells": [
  {
   "cell_type": "markdown",
   "id": "fca5ac5d-1c2e-4af8-8dc3-b1de4af9ddb7",
   "metadata": {
    "tags": []
   },
   "source": [
    "# 2024-06-19"
   ]
  },
  {
   "cell_type": "markdown",
   "id": "dc3993a7-ec12-43aa-8c74-8c8e0dcf5ca2",
   "metadata": {
    "jp-MarkdownHeadingCollapsed": true,
    "tags": []
   },
   "source": [
    "## 두 개 뽑아서 더하기\n",
    "https://school.programmers.co.kr/learn/courses/30/lessons/68644"
   ]
  },
  {
   "cell_type": "code",
   "execution_count": 1,
   "id": "f49a547b-50a1-412a-ae3b-6fab6f6cbc13",
   "metadata": {
    "tags": []
   },
   "outputs": [],
   "source": [
    "def solution(numbers):\n",
    "    # 중복 제거를 위해 집합 사용\n",
    "    answer = set()\n",
    "    \n",
    "    for i in range(len(numbers)):\n",
    "        for j in range(i+1, len(numbers)):\n",
    "            # 모든 조합의 합을 구하여 추가\n",
    "            answer.add(numbers[i]+numbers[j])\n",
    "    \n",
    "    # 집합을 리스트로 변환하고 정렬하여 반환\n",
    "    return sorted(answer)"
   ]
  },
  {
   "cell_type": "markdown",
   "id": "b2d8057d-30db-4130-92d3-870c79fbb68c",
   "metadata": {
    "tags": []
   },
   "source": [
    "# 2024-06-20"
   ]
  },
  {
   "cell_type": "markdown",
   "id": "bca9fad5-87b4-4adf-9169-7d8cd461ec80",
   "metadata": {
    "jp-MarkdownHeadingCollapsed": true,
    "tags": []
   },
   "source": [
    "## K번째 수\n",
    "https://school.programmers.co.kr/learn/courses/30/lessons/42748"
   ]
  },
  {
   "cell_type": "code",
   "execution_count": null,
   "id": "441f474d-9b71-4df8-a825-03ff709bf508",
   "metadata": {},
   "outputs": [],
   "source": [
    "def solution(array, commands):\n",
    "    answer = []\n",
    "    \n",
    "    for command in commands:\n",
    "        # command unapcking\n",
    "        i, j, k = command\n",
    "        \n",
    "        # slicing 후 sort\n",
    "        tmp = sorted(array[i-1:j])\n",
    "        \n",
    "        # k번째 요소를 answer에 추가\n",
    "        answer.append(tmp[k-1])\n",
    "        \n",
    "    return answer"
   ]
  },
  {
   "cell_type": "markdown",
   "id": "7085101b-17f8-44af-9281-c400731e0d45",
   "metadata": {
    "tags": []
   },
   "source": [
    "# 2024-06-21"
   ]
  },
  {
   "cell_type": "markdown",
   "id": "334ea36e-e693-4acc-b96d-cb4b681a67d7",
   "metadata": {
    "jp-MarkdownHeadingCollapsed": true,
    "tags": []
   },
   "source": [
    "## 푸드 파이트 대회\n",
    "https://school.programmers.co.kr/learn/courses/30/lessons/134240"
   ]
  },
  {
   "cell_type": "code",
   "execution_count": null,
   "id": "1f79bde8-3c9a-44a9-9b7b-0bffabd05a90",
   "metadata": {},
   "outputs": [],
   "source": [
    "def solution(food):\n",
    "    # 정답 변수 초기화\n",
    "    answer = ''\n",
    "    \n",
    "    # 좌우 대칭 문자열의 절반을 저장할 변수 초기화\n",
    "    half = ''\n",
    "    \n",
    "    for i in range(1, len(food)):\n",
    "        # 음식의 수를 절반으로 나눈 몫 계산\n",
    "        cnt = food[i] // 2\n",
    "        \n",
    "        # 인덱스를 문자열로 변환하여 cnt만큼 반복하여 half에 추가\n",
    "        half += str(i)*cnt\n",
    "        \n",
    "    # 좌우 대칭 문자열을 생성하여 answer에 저장\n",
    "    answer = half + '0' + half[::-1]\n",
    "    return answer"
   ]
  },
  {
   "cell_type": "markdown",
   "id": "c19f3506-2578-4162-8b6b-97266ee563ed",
   "metadata": {
    "jp-MarkdownHeadingCollapsed": true,
    "tags": []
   },
   "source": [
    "# 2024-06-22"
   ]
  },
  {
   "cell_type": "markdown",
   "id": "13d2f330-9e49-4fd7-a694-31d9ab5fbec6",
   "metadata": {},
   "source": [
    "## [1차] 비밀지도\n",
    "https://school.programmers.co.kr/learn/courses/30/lessons/17681"
   ]
  },
  {
   "cell_type": "code",
   "execution_count": null,
   "id": "f98fcfd3-d15a-48e7-bf5f-160a95c6664a",
   "metadata": {},
   "outputs": [],
   "source": [
    "def solution(n, arr1, arr2):\n",
    "    # n개의 빈 문자열을 가진 정답 변수 초기화\n",
    "    answer = [''] * n  \n",
    "    \n",
    "    # arr의 각 요소를 이진수로 변환하고 길이를 n으로 맞춤\n",
    "    for i in range(n):\n",
    "        binary1 = format(arr1[i], 'b').zfill(n)\n",
    "        binary2 = format(arr2[i], 'b').zfill(n)\n",
    "        \n",
    "        # 각 줄의 결과를 저장할 리스트 초기화\n",
    "        result_row = []\n",
    "        \n",
    "        for j in range(n):\n",
    "            # 둘 중 하나라도 '1'이면 '#'을, 그렇지 않으면 공백을 추가\n",
    "            if binary1[j] == '1' or binary2[j] == '1':\n",
    "                result_row.append('#')\n",
    "            else:\n",
    "                result_row.append(' ')\n",
    "        \n",
    "        # 각 줄의 결과를 문자열로 변환하여 정답 리스트에 추가\n",
    "        answer[i] = ''.join(result_row)\n",
    "                \n",
    "    return answer"
   ]
  },
  {
   "cell_type": "markdown",
   "id": "136e6b25-2fe8-454a-a314-a0e4de0ac8d2",
   "metadata": {
    "jp-MarkdownHeadingCollapsed": true,
    "tags": []
   },
   "source": [
    "# 2024-06-24"
   ]
  },
  {
   "cell_type": "markdown",
   "id": "e7292933-3b5b-4ebb-b578-ff87fbc81158",
   "metadata": {},
   "source": [
    "## 콜라 문제\n",
    "https://school.programmers.co.kr/learn/courses/30/lessons/132267"
   ]
  },
  {
   "cell_type": "code",
   "execution_count": null,
   "id": "021263e0-7aa3-4838-aa26-79cbbb048f85",
   "metadata": {},
   "outputs": [],
   "source": [
    "def solution(a, b, n):\n",
    "    answer = 0\n",
    "    \n",
    "    while n >= a:\n",
    "        # a개의 배수로 마트에 주고 난 나머지\n",
    "        rest = n % a\n",
    "        \n",
    "        # a개의 배수만큼 마트에 주고 b 만큼 받기 (n 업데이트)\n",
    "        n = (n // a) * b\n",
    "        # 받은 개수인 n을 정답에 추가\n",
    "        answer += n\n",
    "        \n",
    "        # 기존에 계산한 나머지를 현재 물병 개수에 추가\n",
    "        n += rest\n",
    "        \n",
    "    return answer"
   ]
  },
  {
   "cell_type": "markdown",
   "id": "0cb17059-b4a7-4ba7-8067-d27c2f430cbe",
   "metadata": {},
   "source": [
    "## 점프와 순간 이동\n",
    "https://school.programmers.co.kr/learn/courses/30/lessons/12980"
   ]
  },
  {
   "cell_type": "code",
   "execution_count": null,
   "id": "c509c555-58f9-43e8-aaca-eaf29a9b267e",
   "metadata": {},
   "outputs": [],
   "source": [
    "def solution(n):\n",
    "    answer = 0\n",
    "    \n",
    "    while n > 1:\n",
    "        if n % 2 == 0:\n",
    "            n //= 2\n",
    "        else:\n",
    "            n -= 1\n",
    "        answer += 1\n",
    "    \n",
    "    return answer"
   ]
  },
  {
   "cell_type": "code",
   "execution_count": null,
   "id": "ce87b0b1-794e-457a-b7d9-9976d8af3611",
   "metadata": {},
   "outputs": [],
   "source": [
    "def solution(n):\n",
    "    answer = 0\n",
    "    \n",
    "    while n > 0:\n",
    "        q, r = divmod(n, 2)\n",
    "        \n",
    "        if r == 1:\n",
    "            answer += 1\n",
    "            \n",
    "        n = q\n",
    "        \n",
    "    return answer"
   ]
  },
  {
   "cell_type": "code",
   "execution_count": null,
   "id": "6de6f148-5dd6-40af-ab3d-956d0df1a868",
   "metadata": {},
   "outputs": [],
   "source": [
    "def solution(n):\n",
    "    return bin(n).count('1')"
   ]
  },
  {
   "cell_type": "markdown",
   "id": "5bd7df3e-6a5e-41ef-9021-eda4a7a6b187",
   "metadata": {
    "jp-MarkdownHeadingCollapsed": true,
    "tags": []
   },
   "source": [
    "# 2024-06-28"
   ]
  },
  {
   "cell_type": "markdown",
   "id": "43a96435-c357-4406-a3c9-9466bda6a7b5",
   "metadata": {},
   "source": [
    "## 구명보트\n",
    "https://school.programmers.co.kr/learn/courses/30/lessons/42885"
   ]
  },
  {
   "cell_type": "code",
   "execution_count": null,
   "id": "c7416447-8178-4c9c-befe-c1775ee07ed3",
   "metadata": {},
   "outputs": [],
   "source": [
    "from collections import deque\n",
    "\n",
    "def solution(people, limit):\n",
    "    answer = 0\n",
    "    # 오름차순 정렬 후 deque로\n",
    "    people = deque(sorted(people))\n",
    "    \n",
    "    while len(people) > 1:\n",
    "        # 가장 가벼운 사람과 가장 무거운 사람의 무게 합이 제한 이하인 경우\n",
    "        # 둘 다 보트에 태우고 제외\n",
    "        if people[0] + people[-1] <= limit:\n",
    "            answer += 1\n",
    "            people.pop()\n",
    "            people.popleft()\n",
    "            \n",
    "        # 무게가 초과된다면 가장 무거운 사람만 태우고 보트 하나 사용\n",
    "        else:\n",
    "            answer += 1\n",
    "            people.pop()\n",
    "    \n",
    "    # 반복문 후 사람이 남아있을 경우 혼자 보트 사용\n",
    "    if people:\n",
    "        answer += 1\n",
    "        \n",
    "    return answer"
   ]
  },
  {
   "cell_type": "code",
   "execution_count": null,
   "id": "6574e9de-6780-4c1d-86d1-b9a7094b67b9",
   "metadata": {},
   "outputs": [],
   "source": [
    "def solution(people, limit):\n",
    "    answer = 0\n",
    "    # 사람들의 무게를 오름차순으로 정렬\n",
    "    people.sort()\n",
    "    \n",
    "    # 포인터 변수 초기화\n",
    "    a = 0  # 가장 가벼운 사람의 인덱스\n",
    "    b = len(people) - 1  # 가장 무거운 사람의 인덱스\n",
    "    \n",
    "    # a와 b가 같아질 때까지 반복\n",
    "    while a <= b:\n",
    "        # 가장 가벼운 사람과 가장 무거운 사람의 무게 합이 제한 이하인 경우\n",
    "        # 가장 가벼운 사람을 보트에 태우고 다음 사람으로 이동\n",
    "        if people[a] + people[b] <= limit:\n",
    "            a += 1 \n",
    "            \n",
    "        # 가장 무거운 사람을 보트에 태우고 다음 무거운 사람으로 이동    \n",
    "        b -= 1  \n",
    "        # 보트 하나 사용\n",
    "        answer += 1  \n",
    "    \n",
    "    return answer  # 사용된 보트의 총 수를 반환"
   ]
  },
  {
   "cell_type": "markdown",
   "id": "f435c9e7-0e11-48f9-983d-f716309957f7",
   "metadata": {},
   "source": [
    "## 명예의 전당 (1)\n",
    "https://school.programmers.co.kr/learn/courses/30/lessons/138477"
   ]
  },
  {
   "cell_type": "code",
   "execution_count": null,
   "id": "50117343-faeb-4b0f-adc4-88737255630b",
   "metadata": {},
   "outputs": [],
   "source": [
    "def solution(k, score):\n",
    "\t# 정답 변수 초기화\n",
    "    answer = []\n",
    "    \n",
    "    # 점수 저장할 임시 변수 초기화\n",
    "    tmp = []\n",
    "    \n",
    "    for i in range(len(score)):\n",
    "    \t# tmp에 score 추가\n",
    "        tmp.append(score[i])\n",
    "        \n",
    "        # tmp의 개수가 k를 초과할 경우\n",
    "        if len(tmp) > k:\n",
    "        \t# tmp에서 min값을 제외\n",
    "            min_value = min(tmp)\n",
    "            tmp.remove(min_value)\n",
    "        \n",
    "        # tmp의 min값을 정답 변수에 추가\n",
    "        answer.append(min(tmp))\n",
    "        \n",
    "    return answer"
   ]
  },
  {
   "cell_type": "markdown",
   "id": "a2b769a1-0627-4ae8-9ef8-4bfaaea1eb24",
   "metadata": {
    "jp-MarkdownHeadingCollapsed": true,
    "tags": []
   },
   "source": [
    "# 2024-07-02"
   ]
  },
  {
   "cell_type": "markdown",
   "id": "08187fd8-5235-4c96-94a2-958b1364aeff",
   "metadata": {},
   "source": [
    "## N개의 최소공배수\n",
    "https://school.programmers.co.kr/learn/courses/30/lessons/12953"
   ]
  },
  {
   "cell_type": "code",
   "execution_count": null,
   "id": "1a33ae6c-588d-40b6-aa64-308b6b1f8e34",
   "metadata": {},
   "outputs": [],
   "source": [
    "def solution(arr):\n",
    "    current_lcm = arr[0]\n",
    "    \n",
    "    # 배열의 두 번째 요소부터 마지막 요소까지 반복하면서 최소공배수를 계산\n",
    "    for i in range(1, len(arr)):\n",
    "        a, b = current_lcm, arr[i]\n",
    "        \n",
    "        # 유클리드 호제법으로 최대공약수 구하기\n",
    "        while b != 0:\n",
    "            a, b = b, a % b\n",
    "        gcd = a\n",
    "        \n",
    "        # 최대공약수를 이용하여 최소공배수 계산\n",
    "        current_lcm = current_lcm * arr[i] // gcd\n",
    "        \n",
    "    return current_lcm"
   ]
  },
  {
   "cell_type": "markdown",
   "id": "5bb594e5-0cf4-4c3f-b283-e245546a7105",
   "metadata": {
    "jp-MarkdownHeadingCollapsed": true,
    "tags": []
   },
   "source": [
    "# 2024-07-04"
   ]
  },
  {
   "cell_type": "markdown",
   "id": "38b8f5b8-3ce8-4ce0-8281-d3abbb0cb864",
   "metadata": {},
   "source": [
    "## 멀리뛰기\n",
    "https://school.programmers.co.kr/learn/courses/30/lessons/12914"
   ]
  },
  {
   "cell_type": "code",
   "execution_count": null,
   "id": "861dd2e3-ac8d-46d4-8ee2-78560921dad6",
   "metadata": {},
   "outputs": [],
   "source": [
    "def solution(n):\n",
    "    # DP를 위한 배열 초기화\n",
    "    dp = [0] * 2001\n",
    "    dp[1] = 1\n",
    "    dp[2] = 2\n",
    "    \n",
    "    # 점화식에 따라 배열 채우기\n",
    "    for i in range(3, n+1):\n",
    "        dp[i] = (dp[i-2] + dp[i-1]) % 1234567\n",
    "    \n",
    "    return dp[n]"
   ]
  },
  {
   "cell_type": "markdown",
   "id": "185d9c5f-8d68-4d09-9136-8bef5011e660",
   "metadata": {
    "jp-MarkdownHeadingCollapsed": true,
    "tags": []
   },
   "source": [
    "# 2024-07-07"
   ]
  },
  {
   "cell_type": "markdown",
   "id": "dda77dc9-a135-4620-b6bb-791c81872fbd",
   "metadata": {},
   "source": [
    "## 추억 점수\n",
    "https://school.programmers.co.kr/learn/courses/30/lessons/176963"
   ]
  },
  {
   "cell_type": "code",
   "execution_count": null,
   "id": "da90c642-04a0-443c-8376-fa74b4ce9488",
   "metadata": {},
   "outputs": [],
   "source": [
    "def solution(name, yearning, photo):\n",
    "    # 정답 변수 선언\n",
    "    answer = []\n",
    "    # 이름과 그리움 점수를 딕셔너리로\n",
    "    D = dict(zip(name, yearning))\n",
    "    \n",
    "    for people in photo:\n",
    "        # 사진별 점수를 합산할 임시 변수 초기화\n",
    "        tmp = 0\n",
    "        for person in people:\n",
    "            # 사람별 점수 더하기, 점수가 없다면 0\n",
    "            tmp += D.get(person, 0)\n",
    "        # 사진별 점수를 정답 변수에 추가\n",
    "        answer.append(tmp)\n",
    "        \n",
    "    return answer"
   ]
  },
  {
   "cell_type": "markdown",
   "id": "2d947881-a5f5-427e-9fc1-9cf56e6d2df1",
   "metadata": {
    "jp-MarkdownHeadingCollapsed": true,
    "tags": []
   },
   "source": [
    "# 2024-07-08"
   ]
  },
  {
   "cell_type": "markdown",
   "id": "d0e29e58-e139-416f-b46d-1dc41b5b0c73",
   "metadata": {},
   "source": [
    "## 카드 뭉치\n",
    "https://school.programmers.co.kr/learn/courses/30/lessons/159994"
   ]
  },
  {
   "cell_type": "code",
   "execution_count": null,
   "id": "f163588f-5312-4d7c-8d8c-8d95f764f14c",
   "metadata": {},
   "outputs": [],
   "source": [
    "def solution(cards1, cards2, goal):\n",
    "    answer = ''\n",
    "    \n",
    "    for char in goal:\n",
    "        # cards1이 비어있지 않고, 첫번째 문자와 char가 동일하면\n",
    "        if cards1 and char == cards1[0]:\n",
    "            # cards1의 첫번째 문자를 pop하고 answer에 추가\n",
    "            answer += cards1.pop(0)\n",
    "            \n",
    "        # cards2이 비어있지 않고, 첫번째 문자와 char가 동일하면\n",
    "        elif cards2 and char == cards2[0]:\n",
    "            # cards2의 첫번째 문자를 pop하고 answer에 추가\n",
    "            answer += cards2.pop(0)\n",
    "            \n",
    "        # 두 리스트 모두 첫 번째 문자가 목표 문자와 일치하지 않으면 'NO'를 반환\n",
    "        else:\n",
    "            return 'No'\n",
    "    # 반복문이 정상적으로 끝났다면 목표 문자열이 완성됨\n",
    "    return 'Yes'"
   ]
  },
  {
   "cell_type": "markdown",
   "id": "987f6b9f-70f9-44e7-aaf6-314ea958a959",
   "metadata": {
    "jp-MarkdownHeadingCollapsed": true,
    "tags": []
   },
   "source": [
    "# 2024-08-03"
   ]
  },
  {
   "cell_type": "markdown",
   "id": "ac2a7819-2769-4d9a-a094-b8c98ad6d537",
   "metadata": {},
   "source": [
    "## 영어 끝말잇기\n",
    "https://school.programmers.co.kr/learn/courses/30/lessons/12981"
   ]
  },
  {
   "cell_type": "code",
   "execution_count": null,
   "id": "e3164bf2-87de-4fb9-907e-3dc4344fd6e2",
   "metadata": {},
   "outputs": [],
   "source": [
    "def solution(n, words):\n",
    "    # 단어가 중복되었는지 확인할 리스트\n",
    "    tmp = []\n",
    "    \n",
    "    # 첫 단어의 첫 문자로 시작\n",
    "    last_char = words[0][0]\n",
    "    \n",
    "    for i in range(len(words)):\n",
    "        # 현재 단어가 중복되었거나, \n",
    "        # 이전 단어의 마지막 문자와 현재 단어의 첫 문자가 일치하지 않는 경우\n",
    "        if (words[i] in tmp) or (words[i][0] != last_char):\n",
    "            # 플레이어 번호와 턴을 계산하여 반환\n",
    "            return [i % n + 1, i // n + 1]\n",
    "        \n",
    "        # 현재 단어를 tmp 리스트에 추가하여 중복 검사에 사용\n",
    "        tmp.append(words[i])\n",
    "        \n",
    "        # 마지막 문자를 현재 단어의 마지막 문자로 업데이트\n",
    "        last_char = words[i][-1]\n",
    "        \n",
    "    # 모든 단어가 유효한 경우 [0, 0]을 반환\n",
    "    return [0, 0]"
   ]
  },
  {
   "cell_type": "markdown",
   "id": "fd067ca8-1af7-43af-b17c-c8878f0afdb4",
   "metadata": {
    "jp-MarkdownHeadingCollapsed": true,
    "tags": []
   },
   "source": [
    "# 2024-08-04"
   ]
  },
  {
   "cell_type": "markdown",
   "id": "07ec40a8-a74e-4b0f-9b99-b9f085396bf4",
   "metadata": {},
   "source": [
    "## 예상 대진표\n",
    "https://school.programmers.co.kr/learn/courses/30/lessons/12985"
   ]
  },
  {
   "cell_type": "code",
   "execution_count": null,
   "id": "9d98365f-ea2d-4e82-ac3c-1bc9305397ba",
   "metadata": {},
   "outputs": [],
   "source": [
    "def solution(n,a,b):\n",
    "    answer = 0\n",
    "    \n",
    "    # 두 참가자가 같은 번호가 될 때까지 반복\n",
    "    while a != b:\n",
    "    \t# 라운드 증가\n",
    "        answer += 1\n",
    "        \n",
    "        # 각 참가자 번호 업데이트\n",
    "        # 홀수, 짝수 모두 올바른 배정을 위해 +1\n",
    "        a = (a+1) // 2\n",
    "        b = (b+1) // 2\n",
    "        \n",
    "    return answer"
   ]
  },
  {
   "cell_type": "markdown",
   "id": "4c854b09-ac03-47e6-80cd-b27447008c67",
   "metadata": {
    "jp-MarkdownHeadingCollapsed": true,
    "tags": []
   },
   "source": [
    "# 2024-08-05"
   ]
  },
  {
   "cell_type": "markdown",
   "id": "e045f4a1-8028-4e5f-9e54-a0e2c1029e41",
   "metadata": {},
   "source": [
    "## 귤 고르기\n",
    "https://school.programmers.co.kr/learn/courses/30/lessons/138476"
   ]
  },
  {
   "cell_type": "code",
   "execution_count": null,
   "id": "ad3bf906-5834-47c2-acae-2873967c6622",
   "metadata": {},
   "outputs": [],
   "source": [
    "def solution(k, tangerine):\n",
    "    answer = 0\n",
    "    size_count = {}\n",
    "    total = 0\n",
    "    \n",
    "    # 귤의 크기별 개수를 세기 위해 딕셔너리 사용\n",
    "    for i in range(len(tangerine)):\n",
    "        size_count[tangerine[i]] = size_count.get(tangerine[i],0) + 1\n",
    "        \n",
    "    # 크기별 개수 내림차순으로 정렬\n",
    "    sorted_sizes = sorted(size_count.items(), key=lambda x:-x[1])\n",
    "    \n",
    "    # 가장 많은 크기의 귤부터 차례로 선택하여 k개 채우기\n",
    "    for size, count in sorted_sizes:\n",
    "        total += count\n",
    "        answer += 1\n",
    "        if total >= k:\n",
    "            break\n",
    "        \n",
    "    return answer"
   ]
  },
  {
   "cell_type": "markdown",
   "id": "6f1f6a73-c1d3-4b1e-8cce-3bbac4a73f26",
   "metadata": {
    "jp-MarkdownHeadingCollapsed": true,
    "tags": []
   },
   "source": [
    "# 2024-08-07"
   ]
  },
  {
   "cell_type": "markdown",
   "id": "cc63a7e8-a038-42e9-90c2-befef65dfe5a",
   "metadata": {},
   "source": [
    "## 연속 부분 수열 합의 개수\n",
    "https://school.programmers.co.kr/learn/courses/30/lessons/131701"
   ]
  },
  {
   "cell_type": "code",
   "execution_count": null,
   "id": "ace3c8a2-99b9-4658-8e4f-e58263bd85d5",
   "metadata": {},
   "outputs": [],
   "source": [
    "def solution(elements):\n",
    "    n = len(elements)\n",
    "    # 원형 수열을 위해 두 번 반복한 배열 생성\n",
    "    extended = elements * 2\n",
    "    \n",
    "    # 부분 수열의 합 저장할 집합 선언\n",
    "    S = set()\n",
    "    \n",
    "    for length in range(1, n+1):\n",
    "        for start in range(n):\n",
    "            # 부분 수열의 합 계산\n",
    "            sub_sum = sum(extended[start:start + length])\n",
    "            \n",
    "            # 계산된 합을 집합에 추가\n",
    "            S.add(sub_sum)\n",
    "            \n",
    "    return len(S)"
   ]
  },
  {
   "cell_type": "markdown",
   "id": "bd2d4bf2-573c-45d1-8be8-355957713bb6",
   "metadata": {
    "jp-MarkdownHeadingCollapsed": true,
    "tags": []
   },
   "source": [
    "# 2024-08-08"
   ]
  },
  {
   "cell_type": "markdown",
   "id": "f13733b5-9291-4bc1-a6e7-df7dae730d7b",
   "metadata": {},
   "source": [
    "## 괄호 회전하기\n",
    "https://school.programmers.co.kr/learn/courses/30/lessons/76502"
   ]
  },
  {
   "cell_type": "code",
   "execution_count": null,
   "id": "00775bc5-c758-4f53-8218-cce11e744d9f",
   "metadata": {},
   "outputs": [],
   "source": [
    "def is_valid(s):\n",
    "    stack = []\n",
    "    bracket = {'(':')', '{':'}', '[':']'}\n",
    "    \n",
    "    for char in s:\n",
    "        # 여는 괄호일 경우 stack에 추가\n",
    "        if char in bracket.keys():\n",
    "            stack.append(char)\n",
    "            \n",
    "        # 닫는 괄호일 경우\n",
    "        else:\n",
    "            # 스택이 비어 있지 않고, 마지막 여는 괄호와 매칭되는 경우\n",
    "            if stack and char == bracket[stack[-1]]:\n",
    "                # 스택 내 여는 괄호 제거\n",
    "                stack.pop()\n",
    "            # 매칭되지 않는 경우 False 반환\n",
    "            else:\n",
    "                return False\n",
    "            \n",
    "    # 스택이 비어있으면 True 반환\n",
    "    return len(stack) == 0\n",
    "\n",
    "def solution(s):\n",
    "    answer = 0\n",
    "    n = len(s)\n",
    "    \n",
    "    for i in range(n):\n",
    "        # 문자열 회전\n",
    "        rotated = s[i:] + s[:i]\n",
    "        if is_valid(rotated):\n",
    "            answer += 1\n",
    "            \n",
    "    return answer"
   ]
  },
  {
   "cell_type": "markdown",
   "id": "61e9c9ea-44c1-4ac1-8898-3f74f866e74f",
   "metadata": {
    "jp-MarkdownHeadingCollapsed": true,
    "tags": []
   },
   "source": [
    "# 2024-08-09"
   ]
  },
  {
   "cell_type": "markdown",
   "id": "782ebe23-7034-4d70-b87e-4af45c21ac8f",
   "metadata": {},
   "source": [
    "## n^2 배열 자르기\n",
    "https://school.programmers.co.kr/learn/courses/30/lessons/87390"
   ]
  },
  {
   "cell_type": "code",
   "execution_count": null,
   "id": "b237811d-5e7a-45e7-8ae9-8e50de8ea7a0",
   "metadata": {},
   "outputs": [],
   "source": [
    "def solution(n, left, right):\n",
    "    result = []\n",
    "    for k in range(left, right + 1):\n",
    "        # 2차원 배열에서 해당 인덱스 k가 몇 번째 행인지 계산\n",
    "        row = k // n\n",
    "        # 2차원 배열에서 해당 인덱스 k가 몇 번째 열인지 계산\n",
    "        col = k % n\n",
    "        # 해당 위치의 값을 계산하여 결과 리스트에 추가\n",
    "        result.append(max(row, col) + 1)\n",
    "    return result"
   ]
  },
  {
   "cell_type": "markdown",
   "id": "dfc28bd8-e0f8-44a2-a667-2f88cc9cd2e7",
   "metadata": {},
   "source": [
    "## 할인 행사\n",
    "https://school.programmers.co.kr/learn/courses/30/lessons/131127"
   ]
  },
  {
   "cell_type": "code",
   "execution_count": null,
   "id": "78cfda6a-d9df-4e30-8fa3-f204373ae0e7",
   "metadata": {},
   "outputs": [],
   "source": [
    "def solution(want, number, discount):\n",
    "    answer = 0\n",
    "    # 원하는 품목과 개수를 딕셔너리로 매핑\n",
    "    target = dict(zip(want, number))\n",
    "    \n",
    "    for i in range(len(discount) - 9):\n",
    "        # 현재 10일간의 할인 목록\n",
    "        current_discount = discount[i:i+10]\n",
    "        \n",
    "        # 현재 할인 목록의 품목 개수를 세기 위한 딕셔너리\n",
    "        discount_number = {}\n",
    "        \n",
    "        # 현재 10일간의 품목 개수 세기\n",
    "        for item in current_discount:\n",
    "            discount_number[item] = discount_number.get(item, 0) + 1\n",
    "        \n",
    "        # 원하는 품목과 개수가 일치하는지 확인\n",
    "        if discount_number == target:\n",
    "            answer += 1\n",
    "    \n",
    "    return answer"
   ]
  },
  {
   "cell_type": "markdown",
   "id": "0249b3be-c3d4-4e32-a835-f253cf71e68d",
   "metadata": {
    "jp-MarkdownHeadingCollapsed": true,
    "tags": []
   },
   "source": [
    "# 2024-08-10"
   ]
  },
  {
   "cell_type": "markdown",
   "id": "ca0922b2-87d5-49d6-b5df-004918dac5ad",
   "metadata": {},
   "source": [
    "## 2016년\n",
    "https://school.programmers.co.kr/learn/courses/30/lessons/12901"
   ]
  },
  {
   "cell_type": "code",
   "execution_count": null,
   "id": "7c69cbd9-2178-40ce-a2ff-eb7fd9e601d7",
   "metadata": {},
   "outputs": [],
   "source": [
    "def solution(a, b):\n",
    "    # 요일을 나타내는 리스트, 1일이 금요일이므로 'THU'부터 시작\n",
    "    days = ['THU', 'FRI', 'SAT', 'SUN', 'MON', 'TUE', 'WED']\n",
    "    \n",
    "    # 각 달의 일수를 나타내는 리스트 (윤년 기준으로 2월은 29일)\n",
    "    months = [31, 29, 31, 30, 31, 30, 31, 31, 30, 31, 30, 31]\n",
    "    \n",
    "    # 입력받은 달(a) 이전까지의 총 일수와 \n",
    "    # 현재 달의 날짜(b)를 더한 후 \n",
    "    # 7로 나눈 나머지 인덱스를 통해 요일을 반환\n",
    "    return days[(sum(months[:a-1]) + b) % 7]"
   ]
  },
  {
   "cell_type": "markdown",
   "id": "12b6d1df-2a9a-4899-96fe-718b1214a3b5",
   "metadata": {
    "jp-MarkdownHeadingCollapsed": true,
    "tags": []
   },
   "source": [
    "# 2024-08-11"
   ]
  },
  {
   "cell_type": "markdown",
   "id": "a20cbb20-427c-4e40-9fd6-8252f6e4c8af",
   "metadata": {},
   "source": [
    "## 행렬의 곱셈\n",
    "https://school.programmers.co.kr/learn/courses/30/lessons/12949"
   ]
  },
  {
   "cell_type": "code",
   "execution_count": null,
   "id": "a162c793-8eeb-47d8-9cb0-176aa5d0679a",
   "metadata": {},
   "outputs": [],
   "source": [
    "def solution(arr1, arr2):\n",
    "    # 정답 행렬의 크기: arr1의 행 개수 x arr2의 열 개수\n",
    "    answer = [[0] * len(arr2[0]) for _ in range(len(arr1))]\n",
    "    \n",
    "    # 행렬 곱셈 수행\n",
    "    for i in range(len(arr1)):  \n",
    "        for j in range(len(arr2[0])):  \n",
    "            for k in range(len(arr2)):  \n",
    "                answer[i][j] += arr1[i][k] * arr2[k][j]\n",
    "    \n",
    "    return answer"
   ]
  },
  {
   "cell_type": "code",
   "execution_count": null,
   "id": "3eac9a3a-304a-41c8-8997-ef89234a494c",
   "metadata": {},
   "outputs": [],
   "source": [
    "def productMatrix(A, B):\n",
    "    # zip(*B)를 사용하여 B의 열을 추출하고, \n",
    "    # A의 각 행과 B의 각 열에 대해 내적을 계산\n",
    "    return [[sum(a*b for a, b in zip(A_row,B_col)) for B_col in zip(*B)] for A_row in A]"
   ]
  },
  {
   "cell_type": "markdown",
   "id": "ac3b0447-9db9-41e4-a1e6-1130cef1aec7",
   "metadata": {
    "jp-MarkdownHeadingCollapsed": true,
    "tags": []
   },
   "source": [
    "# 2024-08-12"
   ]
  },
  {
   "cell_type": "markdown",
   "id": "1bf54699-337a-41aa-8878-7a4f97188d4b",
   "metadata": {},
   "source": [
    "## 의상\n",
    "https://school.programmers.co.kr/learn/courses/30/lessons/42578"
   ]
  },
  {
   "cell_type": "code",
   "execution_count": null,
   "id": "ee999509-a3c8-44b8-b805-cdb7d6825253",
   "metadata": {},
   "outputs": [],
   "source": [
    "def solution(clothes):\n",
    "    # 각 의상의 종류별로 개수를 저장할 딕셔너리\n",
    "    tmp = {}\n",
    "    \n",
    "    # 의상 목록을 순회하며 각 의상 종류의 개수를 셈\n",
    "    for cloth, type in clothes:\n",
    "        tmp[type] = tmp.get(type,0) + 1\n",
    "        \n",
    "    # 서로 다른 조합의 수를 계산\n",
    "    answer = 1\n",
    "    for nums in tmp.values():\n",
    "        answer *= nums + 1\n",
    "        \n",
    "    # 모든 의상을 입지 않는 경우를 제외하고 결과 반환\n",
    "    return answer - 1"
   ]
  },
  {
   "cell_type": "markdown",
   "id": "1a8ec7b2-383f-44c4-aa19-0044e112d4ac",
   "metadata": {
    "jp-MarkdownHeadingCollapsed": true,
    "tags": []
   },
   "source": [
    "# 2024-08-13"
   ]
  },
  {
   "cell_type": "markdown",
   "id": "d5954498-7b4c-4e37-9c25-a5b79e42dd4e",
   "metadata": {},
   "source": [
    "## H-Index\n",
    "https://school.programmers.co.kr/learn/courses/30/lessons/42747"
   ]
  },
  {
   "cell_type": "code",
   "execution_count": null,
   "id": "ea87c611-1709-4c71-9167-d1bdd8644a36",
   "metadata": {},
   "outputs": [],
   "source": [
    "def solution(citations):\n",
    "    # 내림차순 정렬\n",
    "    citations.sort(reverse=True)\n",
    "    \n",
    "    for i in range(len(citations)):\n",
    "        # 인용 횟수가 해당 인덱스보다 작거나 같으면 그 인덱스를 반환\n",
    "        if citations[i] <= i:\n",
    "            return i\n",
    "        \n",
    "    # 모든 논문이 인덱스보다 큰 경우, 논문의 총 개수를 반환\n",
    "    return len(citations)"
   ]
  },
  {
   "cell_type": "code",
   "execution_count": null,
   "id": "e48d6115-e91b-4833-bd89-fdfa244735f9",
   "metadata": {},
   "outputs": [],
   "source": [
    "def solution(citations):\n",
    "    # 내림차순 정렬\n",
    "    citations.sort(reverse=True)\n",
    "    \n",
    "    # enumerate로 1부터 시작하는 인덱스와 인용 횟수를 묶어서 순회\n",
    "    # 각 논문에 대해 (순위, 인용 횟수) 쌍을 생성하고, 이 중 최소값들을 비교해 최대값을 구함\n",
    "    return max(map(min, enumerate(citations, start=1)))"
   ]
  },
  {
   "cell_type": "markdown",
   "id": "7f2854ba-7258-4871-91b3-12a6a13ffbfc",
   "metadata": {
    "jp-MarkdownHeadingCollapsed": true,
    "tags": []
   },
   "source": [
    "# 2024-08-14"
   ]
  },
  {
   "cell_type": "markdown",
   "id": "1dfeef14-4a9d-44fe-bb52-53e70580ad4a",
   "metadata": {},
   "source": [
    "## 모의고사\n",
    "https://school.programmers.co.kr/learn/courses/30/lessons/42840"
   ]
  },
  {
   "cell_type": "code",
   "execution_count": null,
   "id": "53154508-97d2-4eb5-a361-365835dd5c1d",
   "metadata": {},
   "outputs": [],
   "source": [
    "def solution(answers):\n",
    "    answer = []\n",
    "    \n",
    "    # 각 수포자가 맞힌 정답 수를 저장할 리스트\n",
    "    score = [0] * 3\n",
    "    \n",
    "    # 각 수포자의 패턴\n",
    "    man1 = [1, 2, 3, 4, 5]\n",
    "    man2 = [2, 1, 2, 3, 2, 4, 2, 5]\n",
    "    man3 = [3, 3, 1, 1, 2, 2, 4, 4, 5, 5]\n",
    "    \n",
    "    # 정답을 비교하여 각 수포자가 몇 문제를 맞혔는지 계산\n",
    "    for idx, val in enumerate(answers):\n",
    "        if val == man1[idx % len(man1)]:\n",
    "            score[0] += 1\n",
    "        \n",
    "        if val == man2[idx % len(man2)]:\n",
    "            score[1] += 1\n",
    "        \n",
    "        if val == man3[idx % len(man3)]:\n",
    "            score[2] += 1\n",
    "        \n",
    "\t# 가장 많이 맞힌 문제 수\n",
    "    max_score = max(score)\n",
    "    \n",
    "    # 가장 많이 맞힌 수포자의 번호를 반환\n",
    "    for i in range(3):\n",
    "        if score[i] == max_score:\n",
    "            answer.append(i + 1)\n",
    "    \n",
    "    return answer"
   ]
  },
  {
   "cell_type": "markdown",
   "id": "091669a3-7007-47cf-bf5c-a5f1925b430b",
   "metadata": {
    "jp-MarkdownHeadingCollapsed": true,
    "tags": []
   },
   "source": [
    "# 2024-08-16"
   ]
  },
  {
   "cell_type": "markdown",
   "id": "a48f42e6-13e6-46dd-a214-dcc333f3717f",
   "metadata": {},
   "source": [
    "## 기사단원의 무기\n",
    "https://school.programmers.co.kr/learn/courses/30/lessons/136798"
   ]
  },
  {
   "cell_type": "code",
   "execution_count": null,
   "id": "6fe71472-3755-4031-aef0-baf5c27c89c1",
   "metadata": {},
   "outputs": [],
   "source": [
    "def solution(number, limit, power):\n",
    "    # 약수 개수를 저장할 리스트\n",
    "    divisor_counts = []       \n",
    "    \n",
    "    for i in range(1, number+1):              \n",
    "        # 약수 개수 초기화\n",
    "        cnt = 0\n",
    "        \n",
    "        # i의 제곱근까지 반복하여 약수 찾기\n",
    "        for j in range(1, int(i**(1/2)) + 1): \n",
    "            if i % j == 0:\n",
    "                cnt += 2\n",
    "                \n",
    "                # 제곱수면 하나만 카운트\n",
    "                if j**2 == i:                 \n",
    "                    cnt -= 1\n",
    "                    \n",
    "            # 약수 개수가 limit를 초과하면 power로 설정\n",
    "            if cnt > limit:               \n",
    "                cnt = power\n",
    "                break\n",
    "         \n",
    "        # 리스트에 약수 개수 추가\n",
    "        divisor_counts.append(cnt)\n",
    "        \n",
    "    return sum(divisor_counts)"
   ]
  },
  {
   "cell_type": "markdown",
   "id": "0c621a1c-8fa6-4cae-a91e-25ed3797bea8",
   "metadata": {},
   "source": [
    "# 2024-11"
   ]
  },
  {
   "cell_type": "markdown",
   "id": "f7b0b190-f512-438e-ba94-a875199ff653",
   "metadata": {
    "jp-MarkdownHeadingCollapsed": true,
    "tags": []
   },
   "source": [
    "## 2024-11-07"
   ]
  },
  {
   "cell_type": "markdown",
   "id": "c8b18481-3ecf-4be5-9303-7739fc60226c",
   "metadata": {
    "jp-MarkdownHeadingCollapsed": true,
    "tags": []
   },
   "source": [
    "### 과일 장수\n",
    "https://school.programmers.co.kr/learn/courses/30/lessons/135808?language=python3"
   ]
  },
  {
   "cell_type": "code",
   "execution_count": null,
   "id": "e922ac5d-e2ea-48a3-83ad-cb41cb6e585c",
   "metadata": {},
   "outputs": [],
   "source": [
    "def solution(k, m, score):\n",
    "    answer = 0\n",
    "    sorted_L = sorted(score, reverse=True)\t# 최대 이익을 위한 내림차순 정렬\n",
    "    \n",
    "    for idx in range(0, len(sorted_L), m):\t# m개씩 담아서 포장\n",
    "        tmp = sorted_L[idx:idx + m]\t\t\t\n",
    "        if len(tmp) < m:\t\t\t\t\t# 상자에 m개가 담기지 않을 경우 break\n",
    "            break\n",
    "        answer += m * tmp[-1]\t\t\t\t# 상자에 담긴 사과 중 가장 낮은 점수로 가격 측정\n",
    "        \n",
    "    return answer"
   ]
  },
  {
   "cell_type": "markdown",
   "id": "89b9938f-93b9-4da4-973c-90daf54ee35f",
   "metadata": {
    "jp-MarkdownHeadingCollapsed": true,
    "tags": []
   },
   "source": [
    "## 2024-11-08"
   ]
  },
  {
   "cell_type": "markdown",
   "id": "c7ce678e-15e7-4b0c-b9a2-8c0b3c1a57e3",
   "metadata": {},
   "source": [
    "### 소수 찾기\n",
    "https://school.programmers.co.kr/learn/courses/30/lessons/12921"
   ]
  },
  {
   "cell_type": "code",
   "execution_count": null,
   "id": "53fc4a07-fcc5-4808-b33a-975cfad8e59b",
   "metadata": {},
   "outputs": [],
   "source": [
    "def solution(n):\n",
    "    answer = 0\n",
    "    \n",
    "    for i in range(2, n + 1):\n",
    "        for j in range(2, int(i**0.5) + 1):\n",
    "            if i % j == 0:\t\t# i가 j로 나누어 떨어지면 소수가 아님\n",
    "                break\t\t\t# 소수가 아니므로 루프 종료\n",
    "        else:\t\t\t\t\t# break 없이 끝났다면 i는 소수\n",
    "            answer += 1\n",
    "            \n",
    "    return answer"
   ]
  },
  {
   "cell_type": "markdown",
   "id": "a67735fd-117b-446d-acf2-dd2ed8949d3c",
   "metadata": {
    "jp-MarkdownHeadingCollapsed": true,
    "tags": []
   },
   "source": [
    "## 2024-11-09"
   ]
  },
  {
   "cell_type": "markdown",
   "id": "70079e40-994b-418f-8446-4b89ff783b37",
   "metadata": {
    "tags": []
   },
   "source": [
    "### 소수 만들기\n",
    "https://school.programmers.co.kr/learn/courses/30/lessons/12977"
   ]
  },
  {
   "cell_type": "code",
   "execution_count": null,
   "id": "092633bd-f3e4-4a51-bc4f-792c1618dfaf",
   "metadata": {},
   "outputs": [],
   "source": [
    "# itertools 사용\n",
    "import itertools\n",
    "\n",
    "def solution(nums):\n",
    "    answer = 0\n",
    "    \n",
    "    # 서로 다른 3개의 수 조합 만들기\n",
    "    comb = list(itertools.combinations(nums, 3))\n",
    "    \n",
    "    for idx in comb:\n",
    "        tmp = sum(idx)\n",
    "        # 소수 판단 플래그 변수\n",
    "        is_prime = True\n",
    "        \n",
    "        # 소수 판별\n",
    "        for i in range(2, int(tmp**0.5)+1):\n",
    "            if tmp % i == 0:\n",
    "                is_prime = False\n",
    "                break\n",
    "                \n",
    "        if is_prime:\n",
    "            answer += 1\n",
    "        \n",
    "    return answer"
   ]
  },
  {
   "cell_type": "code",
   "execution_count": null,
   "id": "1ab22720-1e50-4dfc-a3dc-b7e403938c20",
   "metadata": {},
   "outputs": [],
   "source": [
    "# itertools 미사용\n",
    "def solution(nums):\n",
    "    answer = 0\n",
    "    \n",
    "    # 서로 다른 3개의 수 조합 만들기\n",
    "    for i in range(len(nums)):\n",
    "        for j in range(i + 1, len(nums)):\n",
    "            for k in range(j + 1, len(nums)):\n",
    "                tmp = nums[i] + nums[j] + nums[k]\n",
    "                # 소수 판단 플래그 변수\n",
    "                is_prime = True\n",
    "                \n",
    "                # 소수 판별\n",
    "                for i in range(2, int(tmp**0.5) + 1):\n",
    "                    if tmp % i == 0:\n",
    "                        is_prime = False\n",
    "                        break\n",
    "\n",
    "                if is_prime:\n",
    "                    answer += 1\n",
    "\n",
    "    return answer"
   ]
  },
  {
   "cell_type": "markdown",
   "id": "c0599bdc-f5f8-4fe5-bb6c-fa0260978109",
   "metadata": {
    "jp-MarkdownHeadingCollapsed": true,
    "tags": []
   },
   "source": [
    "## 2024-11-10"
   ]
  },
  {
   "cell_type": "markdown",
   "id": "81618e05-b85d-45dd-897e-ed2f4a0d7ed5",
   "metadata": {},
   "source": [
    "### 덧칠하기\n",
    "https://school.programmers.co.kr/learn/courses/30/lessons/161989"
   ]
  },
  {
   "cell_type": "code",
   "execution_count": null,
   "id": "fde7f19b-bc9a-40ec-85fa-8ae03adb5714",
   "metadata": {},
   "outputs": [],
   "source": [
    "def solution(n, m, section):\n",
    "    answer = 0\n",
    "    # 벽 리스트 생성\n",
    "    L = [False for _ in range(n+1)]\n",
    "    \n",
    "    # 칠해야 할 구역이 칠해지지 않았다면 롤러의 길이(m)만큼 칠하기\n",
    "    for i in section:\n",
    "        if L[i] == False:\n",
    "            L[i:i+m] = [True] * m\n",
    "            answer += 1\n",
    "            \n",
    "    return answer"
   ]
  },
  {
   "cell_type": "code",
   "execution_count": null,
   "id": "99edceae-ee13-47b1-90d4-7a253c2228fc",
   "metadata": {},
   "outputs": [],
   "source": [
    "def solution(n, m, section):\n",
    "    answer = 0\n",
    "    current = 0  # 다음 칠해야 할 구역 추적\n",
    "    \n",
    "    for start in section:\n",
    "        if start > current:\n",
    "            answer += 1\n",
    "            current = start + m - 1  # 다음에 칠할 필요가 있는 구역 갱신\n",
    "            \n",
    "    return answer"
   ]
  },
  {
   "cell_type": "markdown",
   "id": "9882905c-8c74-4f61-bc1c-2b779a9f3a42",
   "metadata": {
    "jp-MarkdownHeadingCollapsed": true,
    "tags": []
   },
   "source": [
    "## 2024-11-11"
   ]
  },
  {
   "cell_type": "markdown",
   "id": "3d0b9708-0f36-4fb4-995f-b651d1f62efb",
   "metadata": {},
   "source": [
    "### 옹알이(2)\n",
    "https://school.programmers.co.kr/learn/courses/30/lessons/133499"
   ]
  },
  {
   "cell_type": "code",
   "execution_count": null,
   "id": "745b9434-0710-4ef5-a0d6-0953832af18d",
   "metadata": {},
   "outputs": [],
   "source": [
    "def solution(babbling):\n",
    "    answer = 0\n",
    "    pronounceable = [\"aya\", \"ye\", \"woo\", \"ma\"]\n",
    "    \n",
    "    for word in babbling:\n",
    "        for sound in pronounceable:\n",
    "            # 같은 발음이 연속해서 나오는지 체크\n",
    "            if sound * 2 in word:\n",
    "                break\n",
    "            # babbling에서 발음 가능한 옹알이는 ''로 대체\n",
    "            word = word.replace(sound, ' ')\n",
    "            \n",
    "        # 공백만 남았을 경우 발음할 수 있는 단어\n",
    "        if word.strip() == '':\n",
    "            answer += 1\n",
    "            \n",
    "    return answer"
   ]
  },
  {
   "cell_type": "markdown",
   "id": "7c2b4ad7-93f3-404c-b2fc-b9f9ce22f56d",
   "metadata": {},
   "source": [
    "### 실패율\n",
    "https://school.programmers.co.kr/learn/courses/30/lessons/42889"
   ]
  },
  {
   "cell_type": "code",
   "execution_count": null,
   "id": "8228c536-edb5-4ebb-bf1e-87e84ed58122",
   "metadata": {},
   "outputs": [],
   "source": [
    "def solution(N, stages):\n",
    "    answer = []\n",
    "    players_cnt = len(stages)\n",
    "    \n",
    "    # 각 스테이지마다 실패율 계산\n",
    "    for stage in range(1, N+1):\n",
    "        # 해당 스테이지에 도전했으나 클리어하지 못한 사용자 수\n",
    "        failed = stages.count(stage)\n",
    "        \n",
    "        # 실패율 계산 (ZeroDivisionError 방지)\n",
    "        if players_cnt == 0:\n",
    "            fail_rate = 0\n",
    "        else:\n",
    "            fail_rate = failed / players_cnt\n",
    "                \n",
    "        # 스테이지와 실패율을 answer 리스트에 추가\n",
    "        answer.append((stage, fail_rate))\n",
    "        \n",
    "        # 다음 스테이지로 넘어가면서 총 플레이어 수에서 실패한 사람 수를 빼줌\n",
    "        players_cnt -= failed\n",
    "        \n",
    "    # 실패율을 기준으로 내림차순 정렬, 실패율이 같다면 스테이지 번호가 낮은 순으로 정렬\n",
    "    answer.sort(key=lambda x: (-x[1], x[0]))\n",
    "    \n",
    "    # 정렬된 스테이지 번호만 반환\n",
    "    return [stage for stage, _ in answer]"
   ]
  },
  {
   "cell_type": "markdown",
   "id": "5d9b3579-7780-4c60-876d-ddf538ffc3af",
   "metadata": {},
   "source": [
    "## 2024-11-12"
   ]
  },
  {
   "cell_type": "markdown",
   "id": "4b7f4c42-4c0d-4f0d-b6ed-dfae00ba8a6d",
   "metadata": {},
   "source": [
    "### 지폐 접기\n",
    "https://school.programmers.co.kr/learn/courses/30/lessons/340199"
   ]
  },
  {
   "cell_type": "code",
   "execution_count": null,
   "id": "3d70d721-83c7-4f44-bad1-8f43e4e19ee8",
   "metadata": {},
   "outputs": [],
   "source": [
    "def solution(wallet, bill):\n",
    "    answer = 0\n",
    "    \n",
    "    while min(bill) > min(wallet) or max(bill) > max(wallet):\n",
    "    \t# 더 길이가 긴 쪽을 반으로 접기\n",
    "        if bill[0] > bill[1]:\n",
    "            bill[0] //= 2\n",
    "        else:\n",
    "            bill[1] //= 2\n",
    "            \n",
    "        answer += 1\n",
    "            \n",
    "    return answer"
   ]
  }
 ],
 "metadata": {
  "kernelspec": {
   "display_name": "self1",
   "language": "python",
   "name": "self1"
  },
  "language_info": {
   "codemirror_mode": {
    "name": "ipython",
    "version": 3
   },
   "file_extension": ".py",
   "mimetype": "text/x-python",
   "name": "python",
   "nbconvert_exporter": "python",
   "pygments_lexer": "ipython3",
   "version": "3.7.16"
  }
 },
 "nbformat": 4,
 "nbformat_minor": 5
}
