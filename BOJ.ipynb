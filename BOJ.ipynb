{
 "cells": [
  {
   "cell_type": "markdown",
   "id": "ee87ebf7-6987-497f-9295-1436861ddb41",
   "metadata": {
    "jp-MarkdownHeadingCollapsed": true,
    "tags": []
   },
   "source": [
    "# 2024-05"
   ]
  },
  {
   "cell_type": "markdown",
   "id": "bc7f8906-3fea-4b0c-b266-c3fc49ae50be",
   "metadata": {
    "jp-MarkdownHeadingCollapsed": true,
    "tags": []
   },
   "source": [
    "## 2024-05-11"
   ]
  },
  {
   "cell_type": "markdown",
   "id": "c3e5d761-22a7-45ef-92da-811bce27ac23",
   "metadata": {},
   "source": [
    "### BOJ 2605번 줄 세우기"
   ]
  },
  {
   "cell_type": "code",
   "execution_count": null,
   "id": "71ae87c8-8a6f-461d-9d75-6965be2953df",
   "metadata": {
    "tags": []
   },
   "outputs": [],
   "source": [
    "import sys\n",
    "input = sys.stdin.readline\n",
    "\n",
    "N = int(input())\n",
    "L = list(map(int, input().split()))\n",
    "\n",
    "nums = []\n",
    "for i in range(N):\n",
    "    nums.insert(L[i], i+1)\n",
    "    \n",
    "for num in nums[::-1]:\n",
    "    print(num, end=' ')"
   ]
  },
  {
   "cell_type": "markdown",
   "id": "7d80a1fc-ea87-4bef-a81a-8845bbf8846b",
   "metadata": {
    "tags": []
   },
   "source": [
    "### BOJ 1919번 애너그램 만들기"
   ]
  },
  {
   "cell_type": "code",
   "execution_count": null,
   "id": "8a818efb-8469-424d-bff8-3890c334411c",
   "metadata": {
    "tags": []
   },
   "outputs": [],
   "source": [
    "A = input()\n",
    "B = input()\n",
    "\n",
    "alphabet = [0] * 26\n",
    "\n",
    "for a in A:\n",
    "    alphabet[ord(a) - ord('a')] += 1\n",
    "\n",
    "for b in B:\n",
    "    alphabet[ord(b) - ord('a')] -= 1\n",
    "    \n",
    "answer = sum(abs(cnt) for cnt in alphabet)\n",
    "\n",
    "print(answer)"
   ]
  },
  {
   "cell_type": "markdown",
   "id": "732f7bbc-2b6e-46be-b0c9-af414f4df3f6",
   "metadata": {},
   "source": [
    "### BOJ 11655번 ROT13"
   ]
  },
  {
   "cell_type": "code",
   "execution_count": null,
   "id": "2ed21faf-f7c7-4cc3-ad4b-b693498068f2",
   "metadata": {
    "tags": []
   },
   "outputs": [],
   "source": [
    "S = input()\n",
    "answer = ''\n",
    "\n",
    "for char in S:\n",
    "    if 'a' <= char <= 'z':\n",
    "        answer += chr((ord(char) - ord('a') - 13) % 26 + ord('a'))\n",
    "    elif 'A' <= char <= 'Z':\n",
    "        answer += chr((ord(char) - ord('A') - 13) % 26 + ord('A'))\n",
    "    else:\n",
    "        answer += char\n",
    "        \n",
    "print(answer)"
   ]
  },
  {
   "cell_type": "markdown",
   "id": "2fb5efc0-2fe8-4a3b-82f4-a585c48b289d",
   "metadata": {
    "tags": []
   },
   "source": [
    "## 2024-05-12"
   ]
  },
  {
   "cell_type": "markdown",
   "id": "ae9e21fa-189c-480c-91ae-cbdad39a54be",
   "metadata": {
    "tags": []
   },
   "source": [
    "### BOJ 2592번 대표값"
   ]
  },
  {
   "cell_type": "code",
   "execution_count": null,
   "id": "9cdda16c-6fce-4e23-940c-9a59e8ae7fdd",
   "metadata": {
    "tags": []
   },
   "outputs": [],
   "source": [
    "import sys\n",
    "input = sys.stdin.readline\n",
    "\n",
    "D = {}\n",
    "sum_of_inputs = 0\n",
    "\n",
    "for _ in range(10):\n",
    "    num = int(input())\n",
    "    sum_of_inputs += num  \n",
    "    D[num] = D.get(num, 0) + 1  \n",
    "\n",
    "max_value = max(D.values())\n",
    "mode_keys = [key for key, value in D.items() if value == max_value]\n",
    "  \n",
    "print(sum_of_inputs // 10)\n",
    "print(mode_keys[0])"
   ]
  },
  {
   "cell_type": "markdown",
   "id": "6e9ba7c6-6026-4a3d-bb12-d646f03c8a0d",
   "metadata": {},
   "source": [
    "### BOJ 10804번 카드 역배치"
   ]
  },
  {
   "cell_type": "code",
   "execution_count": null,
   "id": "732bd2a0-4ad6-49da-83a5-97de7de5d4be",
   "metadata": {
    "tags": []
   },
   "outputs": [],
   "source": [
    "import sys\n",
    "input = sys.stdin.readline\n",
    "\n",
    "L = [i for i in range(1, 21)]\n",
    "\n",
    "for _ in range(10):\n",
    "    a, b = map(int, input().split())\n",
    "    L[a-1:b] = L[a-1:b][::-1]\n",
    "    \n",
    "print(*L)"
   ]
  },
  {
   "cell_type": "markdown",
   "id": "a2c9b675-ecf8-4344-929c-24e3dff0e3a2",
   "metadata": {},
   "source": [
    "### BOJ 1373번 2진수 8진수"
   ]
  },
  {
   "cell_type": "code",
   "execution_count": null,
   "id": "183f960e-a1da-4811-964d-497b4c05f6e2",
   "metadata": {
    "tags": []
   },
   "outputs": [],
   "source": [
    "binary_input = int(input(), 2)\n",
    "print(oct(binary_input)[2:])"
   ]
  },
  {
   "cell_type": "markdown",
   "id": "d62b5ee5-c59f-48e6-a83b-97c9f17e461f",
   "metadata": {
    "tags": []
   },
   "source": [
    "## 2024-05-13"
   ]
  },
  {
   "cell_type": "markdown",
   "id": "13b20dec-3aed-44e7-a1e7-af947816c9f3",
   "metadata": {},
   "source": [
    "### BOJ 6359번 만취한 상범"
   ]
  },
  {
   "cell_type": "code",
   "execution_count": null,
   "id": "3624667d-1365-411d-bd2e-f3098c302b64",
   "metadata": {
    "tags": []
   },
   "outputs": [],
   "source": [
    "import sys\n",
    "input = sys.stdin.readline\n",
    "\n",
    "T = int(input())\n",
    "\n",
    "for _ in range(T):\n",
    "    n = int(input())\n",
    "    L = [0] * (n + 1)\n",
    "    \n",
    "    for i in range(1, n+1):\n",
    "        for j in range(i, n+1, i):\n",
    "            L[j] = 1 if L[j] == 0 else 0\n",
    "            \n",
    "    print(L.count(1))"
   ]
  },
  {
   "cell_type": "markdown",
   "id": "5c44d08c-ea17-4cc4-8f75-476f415f7d75",
   "metadata": {
    "tags": []
   },
   "source": [
    "### BOJ 5598번 카이사르 암호"
   ]
  },
  {
   "cell_type": "code",
   "execution_count": null,
   "id": "12177329-ac4b-4a52-90ea-3a5609df8d37",
   "metadata": {
    "tags": []
   },
   "outputs": [],
   "source": [
    "S = input()\n",
    "answer = ''\n",
    "\n",
    "for char in S:\n",
    "    answer += chr((ord(char) - 3 - ord('A')) % 26 + ord('A'))\n",
    "\n",
    "print(answer)"
   ]
  },
  {
   "cell_type": "markdown",
   "id": "9149a257-980b-421b-bd34-72faf1043396",
   "metadata": {},
   "source": [
    "### BOJ 4796번 캠핑"
   ]
  },
  {
   "cell_type": "code",
   "execution_count": null,
   "id": "20324811-5cf6-45da-a48c-dfa251bcfe8a",
   "metadata": {
    "tags": []
   },
   "outputs": [],
   "source": [
    "cnt = 1\n",
    "while True:\n",
    "    L, P, V = map(int, input().split())\n",
    "    if L == P == V == 0:\n",
    "        break\n",
    "    total_days = V // P * L\n",
    "    remaining_days = V % P\n",
    "    answer = total_days + min(L, remaining_days)\n",
    "    print(f'Case {cnt}: {answer}')\n",
    "    cnt += 1"
   ]
  },
  {
   "cell_type": "markdown",
   "id": "69ca9d3a-0146-4774-b9ab-4e51eeca74dd",
   "metadata": {
    "tags": []
   },
   "source": [
    "## 2024-05-14"
   ]
  },
  {
   "cell_type": "markdown",
   "id": "059c4b6d-e8c0-43fc-bcfd-48e655dec184",
   "metadata": {},
   "source": [
    "### BOJ 2711번 오타맨 고창영"
   ]
  },
  {
   "cell_type": "code",
   "execution_count": null,
   "id": "28318eeb-2311-4839-8abe-5cbf3e995dd1",
   "metadata": {
    "tags": []
   },
   "outputs": [],
   "source": [
    "import sys\n",
    "input = sys.stdin.readline\n",
    "\n",
    "T = int(input())\n",
    "\n",
    "for _ in range(T):\n",
    "    num, string = input().split()\n",
    "    num = int(num)\n",
    "    string = string[:num-1] + string[num:]\n",
    "    print(string)"
   ]
  },
  {
   "cell_type": "markdown",
   "id": "c157e4f6-a0cd-4568-a8a5-08cf406dc2fb",
   "metadata": {},
   "source": [
    "### BOJ 24416번 알고리즘 수업 - 피보나치 수 1"
   ]
  },
  {
   "cell_type": "code",
   "execution_count": null,
   "id": "1d71df1f-04fe-42e3-9238-4baacc0ec12a",
   "metadata": {
    "tags": []
   },
   "outputs": [],
   "source": [
    "n = int(input())\n",
    "\n",
    "def fibonacci(n):\n",
    "    if n == 1 or n == 2:\n",
    "        return 1\n",
    "    a, b = 1, 1\n",
    "    \n",
    "    for _ in range(3, n + 1):\n",
    "        a, b = b, a + b\n",
    "    \n",
    "    return b\n",
    "\n",
    "result = fibonacci(n)\n",
    "print(result, n - 2)"
   ]
  },
  {
   "cell_type": "markdown",
   "id": "83f5dc53-c624-457d-acf2-197cf354ab73",
   "metadata": {},
   "source": [
    "### BOJ 4673번 셀프 넘버"
   ]
  },
  {
   "cell_type": "code",
   "execution_count": null,
   "id": "412c64d6-0097-4f2a-bcaa-804ae204db73",
   "metadata": {
    "tags": []
   },
   "outputs": [],
   "source": [
    "L = [True] * 10001\n",
    "\n",
    "for i in range(1, 10001):\n",
    "    total = i\n",
    "    for digit in str(i):\n",
    "        total += int(digit)\n",
    "        \n",
    "    if total <= 10000:\n",
    "        L[total] = False\n",
    "\n",
    "for i in range(1, 10001):\n",
    "    if L[i]:\n",
    "        print(i)"
   ]
  },
  {
   "cell_type": "markdown",
   "id": "55c750d3-9857-4bb5-a79e-bf0d72eacda6",
   "metadata": {
    "tags": []
   },
   "source": [
    "## 2024-05-15"
   ]
  },
  {
   "cell_type": "markdown",
   "id": "fe5f3619-18df-4e26-9ba3-7f03d7c908d2",
   "metadata": {},
   "source": [
    "### BOJ 10093번 숫자"
   ]
  },
  {
   "cell_type": "code",
   "execution_count": null,
   "id": "6ba92dab-3f66-4aa9-b724-686d29109016",
   "metadata": {
    "tags": []
   },
   "outputs": [],
   "source": [
    "A, B = map(int, input().split())\n",
    "\n",
    "min_num = min(A, B)\n",
    "max_num = max(A, B)\n",
    "\n",
    "length = max_num - min_num - 1\n",
    "print(max(length, 0))\n",
    "\n",
    "for num in range(min_num + 1, max_num):\n",
    "    print(num, end=' ')"
   ]
  },
  {
   "cell_type": "markdown",
   "id": "58a7028d-a1b4-4cc3-8cff-cfa7820c296f",
   "metadata": {},
   "source": [
    "### BOJ 1357번 뒤집힌 덧셈"
   ]
  },
  {
   "cell_type": "code",
   "execution_count": null,
   "id": "b4c2999f-cc45-47d7-8ecc-e66a0a057e9d",
   "metadata": {
    "tags": []
   },
   "outputs": [],
   "source": [
    "def rev(s):\n",
    "    return s[::-1]\n",
    "\n",
    "X, Y = input().split()\n",
    "rev_XY = int(rev(X)) + int(rev(Y))\n",
    "\n",
    "print(int(rev(str(rev_XY))))"
   ]
  },
  {
   "cell_type": "markdown",
   "id": "e0c386fc-0d3d-476b-a562-ef32888d9f70",
   "metadata": {},
   "source": [
    "### BOJ 7568번 덩치"
   ]
  },
  {
   "cell_type": "code",
   "execution_count": null,
   "id": "00da664a-364d-4f72-93bb-0406d6953b29",
   "metadata": {
    "tags": []
   },
   "outputs": [],
   "source": [
    "import sys\n",
    "input = sys.stdin.readline\n",
    "\n",
    "N = int(input())\n",
    "L = []\n",
    "\n",
    "for _ in range(N):\n",
    "    x, y = map(int, input().split())\n",
    "    L.append((x, y))\n",
    "    \n",
    "for i in L:\n",
    "    rank = 1\n",
    "    for j in L:\n",
    "        if i[0] < j[0] and i[1] < j[1]:\n",
    "            rank += 1\n",
    "    print(rank, end=' ')"
   ]
  },
  {
   "cell_type": "markdown",
   "id": "41f187ab-8553-447f-8bec-f6d5de643ceb",
   "metadata": {
    "tags": []
   },
   "source": [
    "## 2024-05-16"
   ]
  },
  {
   "cell_type": "markdown",
   "id": "b7c8b07e-e7f7-47b9-8d20-5cbf51c9ab53",
   "metadata": {},
   "source": [
    "### BOJ 10812번 바구니 순서 바꾸기"
   ]
  },
  {
   "cell_type": "code",
   "execution_count": null,
   "id": "cdacfee9-e2c9-4fb7-b253-ec601e80fafb",
   "metadata": {
    "tags": []
   },
   "outputs": [],
   "source": [
    "import sys\n",
    "input = sys.stdin.readline\n",
    "\n",
    "N, M = map(int, input().split())\n",
    "answer = [i for i in range(1,N+1)]\n",
    "\n",
    "for _ in range(M):\n",
    "    i, j, k = map(int, input().split())\n",
    "    i, j, k = i-1, j-1, k-1\n",
    "    answer = answer[:i] + answer[k:j+1] + answer[i:k] + answer[j+1:]\n",
    "    \n",
    "print(*answer)"
   ]
  },
  {
   "cell_type": "markdown",
   "id": "2d24d71b-c1dc-45e9-a323-fc28c4a5e8c7",
   "metadata": {},
   "source": [
    "### BOJ 2693번 N번째 큰 수"
   ]
  },
  {
   "cell_type": "code",
   "execution_count": null,
   "id": "f7d4b210-35f9-48f4-9aec-ced811737606",
   "metadata": {
    "tags": []
   },
   "outputs": [],
   "source": [
    "import sys\n",
    "input = sys.stdin.readline\n",
    "\n",
    "T = int(input())\n",
    "\n",
    "for _ in range(T):\n",
    "    L = list(map(int, input().split()))\n",
    "    answer = sorted(L, reverse=True)\n",
    "    print(answer[2])"
   ]
  },
  {
   "cell_type": "markdown",
   "id": "b70de8d9-c965-4149-a0e1-c9896b61f766",
   "metadata": {},
   "source": [
    "### BOJ 11723번 집합"
   ]
  },
  {
   "cell_type": "code",
   "execution_count": null,
   "id": "7d5f65ae-a6f1-40aa-8cbe-66f497aea942",
   "metadata": {
    "tags": []
   },
   "outputs": [],
   "source": [
    "import sys\n",
    "input = sys.stdin.readline\n",
    "\n",
    "M = int(input())\n",
    "L = []\n",
    "\n",
    "for _ in range(M):\n",
    "    command = input().split()\n",
    "    if len(command) == 1:\n",
    "        act = command[0]\n",
    "    else:\n",
    "        act, num = command\n",
    "        num = int(num)\n",
    "    \n",
    "    if act == 'add':\n",
    "        if num not in L:\n",
    "            L.append(num)\n",
    "    elif act == 'remove':\n",
    "        if num in L:\n",
    "            L.remove(num)\n",
    "    elif act == 'check':\n",
    "        print(1) if num in L else print(0)\n",
    "    elif act == 'toggle':\n",
    "        if num in L:\n",
    "            L.remove(num)\n",
    "        else:\n",
    "            L.append(num)\n",
    "    elif act == 'all':\n",
    "        L = [i for i in range(1,21)]\n",
    "    else:\n",
    "        L = []"
   ]
  },
  {
   "cell_type": "markdown",
   "id": "456c5bc5-83eb-4458-8231-d4ce4ec0c5e2",
   "metadata": {},
   "source": [
    "### BOJ 1065번 한수"
   ]
  },
  {
   "cell_type": "code",
   "execution_count": null,
   "id": "4d9259ce-bded-4e64-9e7a-6527a3c95553",
   "metadata": {
    "tags": []
   },
   "outputs": [],
   "source": [
    "N = int(input())\n",
    "answer = 0\n",
    "\n",
    "for i in range(1,N+1):\n",
    "    if i < 100:\n",
    "        answer += 1\n",
    "    else:\n",
    "        L = list(map(int, str(i)))\n",
    "        if L[0] - L[1] == L[1] - L[2]:\n",
    "            answer += 1\n",
    "            \n",
    "print(answer)"
   ]
  },
  {
   "cell_type": "markdown",
   "id": "a0ac3592-c1c1-4f06-97aa-7fde0d7f0f9b",
   "metadata": {},
   "source": [
    "### BOJ 1463번 1로 만들기"
   ]
  },
  {
   "cell_type": "code",
   "execution_count": null,
   "id": "0425e33c-ddef-4551-afef-3c0f1775fa24",
   "metadata": {
    "tags": []
   },
   "outputs": [],
   "source": [
    "X = int(input())\n",
    "dp = [0] * (X+1)\n",
    "\n",
    "for i in range(2, X+1):\n",
    "    dp[i] = dp[i-1] + 1\n",
    "    \n",
    "    if i % 2 == 0:\n",
    "        dp[i] = min(dp[i], dp[i//2]+1)\n",
    "        \n",
    "    if i % 3 == 0:\n",
    "        dp[i] = min(dp[i], dp[i//3]+1)\n",
    "    \n",
    "print(dp[X])"
   ]
  },
  {
   "cell_type": "markdown",
   "id": "d780f6e4-f97e-4b2a-9f25-77034c902f64",
   "metadata": {},
   "source": [
    "### BOJ 9095번 1,2,3 더하기"
   ]
  },
  {
   "cell_type": "code",
   "execution_count": null,
   "id": "a1ac3a6c-89bc-49e4-b10f-817906f5ab23",
   "metadata": {
    "tags": []
   },
   "outputs": [],
   "source": [
    "import sys\n",
    "input = sys.stdin.readline\n",
    "\n",
    "T = int(input())\n",
    "\n",
    "dp = [0] * 11\n",
    "dp[1], dp[2], dp[3] = 1, 2, 4\n",
    "\n",
    "for i in range(4, 11):\n",
    "    dp[i] = dp[i-1] + dp[i-2] + dp[i-3]\n",
    "    \n",
    "for _ in range(T):\n",
    "    n = int(input())\n",
    "    print(dp[n])"
   ]
  },
  {
   "cell_type": "markdown",
   "id": "f1d9ec41-fb6b-4f9e-97f5-7ef617eb1bc9",
   "metadata": {
    "tags": []
   },
   "source": [
    "## 2024-05-17"
   ]
  },
  {
   "cell_type": "markdown",
   "id": "0ecf6974-15c1-4f2a-8930-09e443d1bf88",
   "metadata": {},
   "source": [
    "### BOJ 15969번 행복"
   ]
  },
  {
   "cell_type": "code",
   "execution_count": null,
   "id": "cbbe2783-a5d8-479d-9f57-3ed0d7f5ebab",
   "metadata": {
    "tags": []
   },
   "outputs": [],
   "source": [
    "N = int(input())\n",
    "answer = sorted(list(map(int, input().split())))\n",
    "print(answer[-1]-answer[0])"
   ]
  },
  {
   "cell_type": "markdown",
   "id": "a40543ab-02b5-400e-ad59-ec59d93cfe71",
   "metadata": {},
   "source": [
    "### BOJ 2851번 슈퍼 마리오"
   ]
  },
  {
   "cell_type": "code",
   "execution_count": null,
   "id": "207fed8d-2468-4c0e-afce-8d84508820d6",
   "metadata": {
    "tags": []
   },
   "outputs": [],
   "source": [
    "import sys\n",
    "input = sys.stdin.readline\n",
    "\n",
    "prev, current = 0, 0\n",
    "\n",
    "for _ in range(10):\n",
    "    num = int(input())\n",
    "    prev = current\n",
    "    current += num\n",
    "    \n",
    "    if current >= 100:\n",
    "        if current - 100 > 100 - prev:\n",
    "            print(prev)\n",
    "            break\n",
    "        else:\n",
    "            print(current)\n",
    "            break\n",
    "else:\n",
    "    print(current)"
   ]
  },
  {
   "cell_type": "markdown",
   "id": "a67aeecb-d00a-436b-a82f-7021a7e246a1",
   "metadata": {},
   "source": [
    "### BOJ 1475번 방 번호"
   ]
  },
  {
   "cell_type": "code",
   "execution_count": null,
   "id": "ee54230a-0850-43d8-80ed-40d23dd4a918",
   "metadata": {
    "tags": []
   },
   "outputs": [],
   "source": [
    "S = input()\n",
    "answer = [0] * 10\n",
    "\n",
    "for i in range(len(S)):\n",
    "    num = int(S[i])\n",
    "    if num in (6,9):\n",
    "        if answer[6] <= answer[9]:\n",
    "            answer[6] += 1\n",
    "        else:\n",
    "            answer[9] += 1\n",
    "    else:\n",
    "        answer[num] += 1\n",
    "        \n",
    "print(max(answer))"
   ]
  },
  {
   "cell_type": "markdown",
   "id": "ae8ee073-bd19-4b53-baff-326d2c76eb41",
   "metadata": {
    "tags": []
   },
   "source": [
    "## 2024-05-18"
   ]
  },
  {
   "cell_type": "markdown",
   "id": "aa88fb8e-3111-423e-98ce-f6d1823d2f2e",
   "metadata": {},
   "source": [
    "### BOJ 1789번 수들의 합"
   ]
  },
  {
   "cell_type": "code",
   "execution_count": null,
   "id": "b1d9b292-978e-46de-8458-238a206494fc",
   "metadata": {
    "tags": []
   },
   "outputs": [],
   "source": [
    "N = int(input())\n",
    "total = 0\n",
    "answer = 0\n",
    "\n",
    "for num in range(1, N+1):\n",
    "    total += num\n",
    "    if total > N:\n",
    "        break\n",
    "    answer += 1\n",
    "\n",
    "print(answer)"
   ]
  },
  {
   "cell_type": "markdown",
   "id": "dfa81903-d0a5-46ad-89f3-4f59f732e862",
   "metadata": {},
   "source": [
    "### BOJ 11399번 ATM"
   ]
  },
  {
   "cell_type": "code",
   "execution_count": null,
   "id": "9b227c55-8b4d-45b7-b67b-de69fbdd0561",
   "metadata": {
    "tags": []
   },
   "outputs": [],
   "source": [
    "N = int(input())\n",
    "P = sorted(list(map(int, input().split())))\n",
    "answer = 0\n",
    "\n",
    "for i in range(1, N+1):\n",
    "    answer += sum(P[:i])\n",
    "    \n",
    "print(answer)"
   ]
  },
  {
   "cell_type": "markdown",
   "id": "4c7d3069-7fde-488a-913f-9b6fedf2cfc9",
   "metadata": {},
   "source": [
    "### BOJ 2606번 바이러스"
   ]
  },
  {
   "cell_type": "markdown",
   "id": "0bf7e3b6-b16e-47d7-b511-961d7b877485",
   "metadata": {},
   "source": [
    "#### DFS"
   ]
  },
  {
   "cell_type": "code",
   "execution_count": null,
   "id": "f63501fa-42f4-436d-b4df-36e74bdf0905",
   "metadata": {
    "tags": []
   },
   "outputs": [],
   "source": [
    "N = int(input())\n",
    "M = int(input())\n",
    "\n",
    "virus = [0] * (N+1)\n",
    "graph = [[] for i in range(N+1)]\n",
    "\n",
    "for i in range(M):\n",
    "    a, b = map(int, input().split())\n",
    "    graph[a] += [b]\n",
    "    graph[b] += [a]\n",
    "\n",
    "def dfs(m):\n",
    "    virus[m] = 1\n",
    "    for i in graph[m]:\n",
    "        if virus[i] == 0:\n",
    "            dfs(i)\n",
    "            \n",
    "dfs(1)\n",
    "print(sum(virus) - 1)"
   ]
  },
  {
   "cell_type": "markdown",
   "id": "c524fffa-2827-4ee5-9857-ed32b6061216",
   "metadata": {},
   "source": [
    "#### BFS"
   ]
  },
  {
   "cell_type": "code",
   "execution_count": null,
   "id": "7c53ad58-f27d-4fbb-b9ff-736aaeb88170",
   "metadata": {
    "tags": []
   },
   "outputs": [],
   "source": [
    "from collections import deque\n",
    "\n",
    "N = int(input())\n",
    "M = int(input())\n",
    "\n",
    "virus = [0] * (N+1)\n",
    "virus[1] = 1 \n",
    "graph = [[] for i in range(N+1)]\n",
    "\n",
    "for i in range(M):\n",
    "    a, b = map(int, input().split())\n",
    "    graph[a] += [b]\n",
    "    graph[b] += [a]\n",
    "\n",
    "Q = deque([1])\n",
    "\n",
    "while Q:\n",
    "    c = Q.popleft()\n",
    "    for i in graph[c]:\n",
    "        if virus[i] == 0:\n",
    "            Q.append(i)\n",
    "            virus[i] = 1\n",
    "            \n",
    "print(sum(virus)-1)"
   ]
  },
  {
   "cell_type": "markdown",
   "id": "44feb204-5e87-4c4c-a28e-90deba2143c1",
   "metadata": {
    "tags": []
   },
   "source": [
    "## 2024-05-19"
   ]
  },
  {
   "cell_type": "markdown",
   "id": "674e19e1-aa76-462b-853b-3c170466d896",
   "metadata": {
    "tags": []
   },
   "source": [
    "### BOJ 1476번 날짜 계산"
   ]
  },
  {
   "cell_type": "code",
   "execution_count": null,
   "id": "06abefd8-c723-4fa2-8395-f4dc9c6cf95b",
   "metadata": {
    "tags": []
   },
   "outputs": [],
   "source": [
    "# 입력 받기\n",
    "E, S, M = map(int, input().split())\n",
    "\n",
    "# 정답 변수 초기화\n",
    "answer = 1\n",
    "\n",
    "# 모든 조건을 만족할 때까지 반복\n",
    "while True:\n",
    "    # E, S, M을 각각 빼고, 범위로 나눈 나머지가 0일 때\n",
    "    if (answer - E) % 15 == 0 and (answer - S) % 28 == 0 and (answer - M) % 19 == 0:\n",
    "        break\n",
    "    answer += 1\n",
    "    \n",
    "print(answer)"
   ]
  },
  {
   "cell_type": "markdown",
   "id": "7bb607ca-35ba-4921-8b54-ef1762a61b5f",
   "metadata": {},
   "source": [
    "### BOJ 11047번 동전 0"
   ]
  },
  {
   "cell_type": "code",
   "execution_count": null,
   "id": "799abd2f-739a-4bb2-aa53-1664fee3fecb",
   "metadata": {
    "tags": []
   },
   "outputs": [],
   "source": [
    "import sys\n",
    "input = sys.stdin.readline\n",
    "\n",
    "# 입력 받기\n",
    "N, K = map(int, input().split())\n",
    "coins = [int(input()) for _ in range(N)]\n",
    "\n",
    "# 정답 변수 초기화\n",
    "answer = 0\n",
    "\n",
    "# coins 내림차순 정렬\n",
    "for coin in sorted(coins, reverse=True):\n",
    "    # 현재 동전 값이 남은 금액 K보다 작거나 같을 때\n",
    "    if K >= coin:\n",
    "        # K를 현재 동전 값으로 나눈 몫을 answer에 추가 (해당 동전의 개수)\n",
    "        answer += K // coin\n",
    "        # K를 현재 동전 값으로 나눈 나머지로 갱신 (남은 금액)\n",
    "        K %= coin\n",
    "\n",
    "print(answer)"
   ]
  },
  {
   "cell_type": "markdown",
   "id": "8ac9023e-f434-4234-ab10-ca94da9c40d7",
   "metadata": {},
   "source": [
    "### BOJ 1003번 피보나치 함수"
   ]
  },
  {
   "cell_type": "code",
   "execution_count": null,
   "id": "77fef221-b9f4-4acf-b437-1c10372851a7",
   "metadata": {
    "tags": []
   },
   "outputs": [],
   "source": [
    "import sys\n",
    "input = sys.stdin.readline\n",
    "\n",
    "# 테스트 케이스 개수 입력 받기\n",
    "T = int(input())\n",
    "\n",
    "for _ in range(T):\n",
    "    # 초기화: n=0일 때의 피보나치 호출 횟수 설정\n",
    "    cnt_0, cnt_1 = 1, 0\n",
    "    \n",
    "    # 피보나치 수열을 통해 0과 1의 호출 횟수 구하기\n",
    "    N = int(input())\n",
    "    for i in range(N):\n",
    "        cnt_0, cnt_1 = cnt_1, cnt_0 + cnt_1\n",
    "        \n",
    "    print(cnt_0, cnt_1)"
   ]
  },
  {
   "cell_type": "markdown",
   "id": "b64129ac-7906-4fc2-a096-feed3e95b4db",
   "metadata": {
    "tags": []
   },
   "source": [
    "## 2024-05-20"
   ]
  },
  {
   "cell_type": "markdown",
   "id": "bd354508-3548-4bb6-801c-c911128f70ce",
   "metadata": {},
   "source": [
    "### 17478번 재귀함수가 뭔가요?"
   ]
  },
  {
   "cell_type": "code",
   "execution_count": null,
   "id": "1cd481db-ffb8-41de-b375-9801d3ded848",
   "metadata": {
    "tags": []
   },
   "outputs": [],
   "source": [
    "def chatbot(N, cnt):\n",
    "    print('____' * cnt + '\"재귀함수가 뭔가요?\"')\n",
    "    \n",
    "    if cnt == N:\n",
    "        print('____' * cnt + '\"재귀함수는 자기 자신을 호출하는 함수라네\"')\n",
    "    else:\n",
    "        print('____' * cnt + '\"잘 들어보게. 옛날옛날 한 산 꼭대기에 이세상 모든 지식을 통달한 선인이 있었어.')\n",
    "        print('____' * cnt + '마을 사람들은 모두 그 선인에게 수많은 질문을 했고, 모두 지혜롭게 대답해 주었지.')\n",
    "        print('____' * cnt + '그의 답은 대부분 옳았다고 하네. 그런데 어느 날, 그 선인에게 한 선비가 찾아와서 물었어.\"')\n",
    "        chatbot(N, cnt + 1)\n",
    "        \n",
    "    print('____' * cnt + '라고 답변하였지.')\n",
    "    \n",
    "N = int(input())\n",
    "print('어느 한 컴퓨터공학과 학생이 유명한 교수님을 찾아가 물었다.')\n",
    "chatbot(N, 0)"
   ]
  },
  {
   "cell_type": "markdown",
   "id": "cbb4269c-51f4-418a-9a5a-78b814cea7d0",
   "metadata": {},
   "source": [
    "### 10773번 제로"
   ]
  },
  {
   "cell_type": "code",
   "execution_count": null,
   "id": "92a7a347-8a60-4450-b299-350e3ecfb115",
   "metadata": {
    "tags": []
   },
   "outputs": [],
   "source": [
    "import sys\n",
    "input = sys.stdin.readline\n",
    "\n",
    "# 입력 받기\n",
    "K = int(input())\n",
    "# 정답 변수 초기화\n",
    "answer = []\n",
    "\n",
    "for _ in range(K):\n",
    "    # 정수 입력 받기\n",
    "    num = int(input())\n",
    "    \n",
    "    # num이 0이면 pop, 아니면 append\n",
    "    if num != 0:\n",
    "        answer.append(num)\n",
    "    else:\n",
    "        answer.pop()\n",
    "        \n",
    "# answer의 수가 0이면 0, 아니면 합 출력\n",
    "print(0) if len(answer) == 0 else print(sum(answer))"
   ]
  },
  {
   "cell_type": "markdown",
   "id": "0a8482e7-e6bb-4b4c-863f-7975cdd0c4ba",
   "metadata": {},
   "source": [
    "### 11726번 2*n 타일링"
   ]
  },
  {
   "cell_type": "markdown",
   "id": "eed722da-e63d-4a2e-88ac-5044ade9e9df",
   "metadata": {},
   "source": [
    "\n",
    "\\begin{cases}\n",
    "f(n) = f(n-1) + f(n-2) & \\text{for } n \\geq 3 \\\\\n",
    "f(1) = 1 \\\\\n",
    "f(2) = 2\n",
    "\\end{cases}"
   ]
  },
  {
   "cell_type": "code",
   "execution_count": null,
   "id": "957dcf3d-0cfd-48f0-b078-e18c324268a9",
   "metadata": {
    "tags": []
   },
   "outputs": [],
   "source": [
    "# 입력 받기\n",
    "N = int(input())\n",
    "\n",
    "# DP를 위한 배열 초기화\n",
    "dp = [0] * 1001\n",
    "dp[1] = 1\n",
    "dp[2] = 2\n",
    "\n",
    "# 점화식에 따라 배열 채우기\n",
    "for i in range(3, N+1):\n",
    "    dp[i] = (dp[i-1] + dp[i-2]) % 10007\n",
    "    \n",
    "print(dp[N])"
   ]
  },
  {
   "cell_type": "markdown",
   "id": "dc263ae9-f91d-41dc-9c98-84f1b5387aa8",
   "metadata": {
    "tags": []
   },
   "source": [
    "## 2024-05-21"
   ]
  },
  {
   "cell_type": "markdown",
   "id": "5e96d93b-1238-4ece-802f-75c1c2f48202",
   "metadata": {},
   "source": [
    "### 9655. 돌 게임"
   ]
  },
  {
   "cell_type": "code",
   "execution_count": null,
   "id": "4af416a3-ecfb-4257-b088-b6675dac39a8",
   "metadata": {
    "tags": []
   },
   "outputs": [],
   "source": [
    "# 입력 받기\n",
    "N = int(input())\n",
    "\n",
    "# turn: 0은 SK의 차례, 1은 CY의 차례를 의미\n",
    "turn = 0 \n",
    "\n",
    "while True:\n",
    "    # N이 3 이상이면 3개 가져가기, 아니면 1개 가져가기\n",
    "    N = N-3 if N >= 3 else N-1\n",
    "\n",
    "    # N이 0이 될 경우 누구 차례였는지 출력\n",
    "    if N == 0:\n",
    "        print('SK') if turn == 0 else print('CY')\n",
    "        break\n",
    "        \n",
    "    # 차례 변경 (0 -> 1 또는 1 -> 0)\n",
    "    turn = 1 - turn "
   ]
  },
  {
   "cell_type": "markdown",
   "id": "cc9db399-aec8-423e-bd05-f91cd906c8c9",
   "metadata": {},
   "source": [
    "### 1158. 요세푸스 문제"
   ]
  },
  {
   "cell_type": "code",
   "execution_count": null,
   "id": "ba5adb9e-1209-4855-b59a-1f0379089be9",
   "metadata": {
    "tags": []
   },
   "outputs": [],
   "source": [
    "from collections import deque\n",
    "# 입력 받기\n",
    "N, K = map(int, input().split())\n",
    "\n",
    "# N명 리스트 생성 후 deque로 변환\n",
    "deq = deque([i for i in range(1,N+1)])\n",
    "\n",
    "# 정답 변수 초기화\n",
    "answer = []\n",
    "\n",
    "while len(deq) > 0:\n",
    "    # pop할 K 전까지 deq의 뒤로 추가\n",
    "    for i in range(K-1):\n",
    "        deq.append(deq.popleft())\n",
    "        \n",
    "    # K번째 요소를 deq에서 제거하고 answer에 추가\n",
    "    answer.append(deq.popleft())\n",
    "\n",
    "print('<' + ', '.join(map(str, answer)) + '>')"
   ]
  },
  {
   "cell_type": "code",
   "execution_count": null,
   "id": "0933f6e0-b188-4a74-a63a-755bb3afe54b",
   "metadata": {
    "tags": []
   },
   "outputs": [],
   "source": [
    "# 입력 받기\n",
    "N, K = map(int, input().split())\n",
    "\n",
    "# N명 리스트 생성\n",
    "L = [i for i in range(1, N+1)]\n",
    "\n",
    "# 정답 변수 초기화\n",
    "answer = []\n",
    "\n",
    "# 인덱스 변수 초기화\n",
    "idx = 0\n",
    "\n",
    "for i in range(N):\n",
    "    # K번째 사람 찾기\n",
    "    idx += K-1\n",
    "    \n",
    "    # 인덱스가 L을 넘어갈 경우 원형 리스트처럼 순환\n",
    "    if idx >= len(L):\n",
    "        idx %= len(L)\n",
    "    \n",
    "    # 현재 인덱스 제거하고 answer에 추가\n",
    "    answer.append(L.pop(idx))\n",
    "\n",
    "print('<' + ', '.join(map(str, answer)) + '>')"
   ]
  },
  {
   "cell_type": "markdown",
   "id": "33b04960-d0ab-4276-a25c-12ca4a7568df",
   "metadata": {},
   "source": [
    "### 2579. 계단 오르기"
   ]
  },
  {
   "cell_type": "code",
   "execution_count": null,
   "id": "37855f93-39c8-4aea-8941-065540192910",
   "metadata": {
    "tags": []
   },
   "outputs": [],
   "source": [
    "# 입력 받기\n",
    "N = int(input())\n",
    "\n",
    "# 계단 점수를 저장할 배열 초기화\n",
    "stairs = [0] * 301\n",
    "\n",
    "# 계단 점수 입력 받기\n",
    "for i in range(1, N+1):\n",
    "    stairs[i] = int(input())\n",
    "\n",
    "# dp 배열 초기화\n",
    "dp = [0] * 301\n",
    "dp[1] = stairs[1]\n",
    "dp[2] = stairs[1] + stairs[2]\n",
    "dp[3] = max(stairs[1] + stairs[3], stairs[2] + stairs[3])\n",
    "\n",
    "for i in range(4, N+1):\n",
    "    # 두 가지 경우 중 큰 값을 dp[i]에 저장\n",
    "    # 1. i-3번째 계단을 밟고 i-1번째 계단을 밟은 후 i번째 계단을 밟는 경우\n",
    "    # 2. i-2번째 계단을 밟고 i번째 계단을 밟는 경우\n",
    "    dp[i] = max(dp[i - 3] + stairs[i - 1] + stairs[i], dp[i - 2] + stairs[i])\n",
    "\n",
    "print(dp[N])"
   ]
  },
  {
   "cell_type": "markdown",
   "id": "4e1cce91-2386-429d-975d-ac8e90d4f723",
   "metadata": {
    "tags": []
   },
   "source": [
    "## 2024-05-22"
   ]
  },
  {
   "cell_type": "markdown",
   "id": "69ae7ad4-6ecc-4b2f-a29c-b7446a908d8d",
   "metadata": {},
   "source": [
    "### 1026. 보물"
   ]
  },
  {
   "cell_type": "code",
   "execution_count": null,
   "id": "8a9f479f-d2e1-4076-a541-04708cbefc58",
   "metadata": {
    "tags": []
   },
   "outputs": [],
   "source": [
    "import sys\n",
    "input = sys.stdin.readline\n",
    "\n",
    "# 입력 받기\n",
    "S = int(input())\n",
    "A = list(map(int, input().split()))\n",
    "B = list(map(int, input().split()))\n",
    "\n",
    "# A는 오름차순, B는 내림차순 정렬해서 최솟값 구하기\n",
    "A.sort()\n",
    "B.sort(reverse=True)\n",
    "\n",
    "answer = [A[i]*B[i] for i in range(S)]\n",
    "\n",
    "print(sum(answer))"
   ]
  },
  {
   "cell_type": "markdown",
   "id": "f89d3965-7920-4113-aa25-1321649c7713",
   "metadata": {},
   "source": [
    "### 15649. N과 M (1)"
   ]
  },
  {
   "cell_type": "code",
   "execution_count": null,
   "id": "98fd82d8-122d-49bd-bb9f-7e9173b0b014",
   "metadata": {
    "tags": []
   },
   "outputs": [],
   "source": [
    "# 입력 받기\n",
    "N, M = map(int, input().split())\n",
    "\n",
    "# 정답 변수 초기화\n",
    "answer = []\n",
    "\n",
    "def backtracking():\n",
    "    # answer의 길이가 M과 같다면 print\n",
    "    if len(answer) == M:\n",
    "        print(' '.join(map(str, answer)))\n",
    "        return\n",
    "    \n",
    "    for i in range(1, N+1):\n",
    "        # i가 answer에 있다면 건너뜀\n",
    "        if i in answer:\n",
    "            continue\n",
    "        # i를 answer에 추가\n",
    "        answer.append(i)\n",
    "        # backtracking 재귀 호출\n",
    "        backtracking()\n",
    "        # answer에서 마지막 요소 제거 (백트랙킹 과정)\n",
    "        answer.pop()\n",
    "        \n",
    "backtracking()"
   ]
  },
  {
   "cell_type": "markdown",
   "id": "f5bded2b-1f9e-4f81-abf7-43a7247666ed",
   "metadata": {},
   "source": [
    "### 15650. N과 M (2)"
   ]
  },
  {
   "cell_type": "code",
   "execution_count": null,
   "id": "900a3649-d336-40ef-ab8e-088f52f03f7d",
   "metadata": {
    "tags": []
   },
   "outputs": [],
   "source": [
    "# 입력 받기\n",
    "N, M = map(int, input().split())\n",
    "\n",
    "# 정답을 저장할 리스트 초기화\n",
    "answer = []\n",
    "\n",
    "def backtracking(num):\n",
    "    # answer의 길이가 M과 같다면 정답을 출력\n",
    "    if len(answer) == M:\n",
    "        print(' '.join(map(str, answer)))\n",
    "        return\n",
    "    \n",
    "    # num부터 N까지의 숫자에 대해 반복\n",
    "    for i in range(num, N+1):\n",
    "        # i가 answer에 포함되어 있다면 건너뜀\n",
    "        if i in answer:\n",
    "            continue\n",
    "        # i를 answer에 추가\n",
    "        answer.append(i)\n",
    "        # 다음 숫자에 대해 재귀적으로 백트래킹 호출\n",
    "        backtracking(i + 1)\n",
    "        # answer에서 마지막 요소 제거 (백트래킹 과정)\n",
    "        answer.pop()\n",
    "        \n",
    "backtracking(1)"
   ]
  },
  {
   "cell_type": "markdown",
   "id": "fd857604-4300-4b8b-a5d7-a7ddfeb3dfe3",
   "metadata": {
    "tags": []
   },
   "source": [
    "## 2024-05-23"
   ]
  },
  {
   "cell_type": "markdown",
   "id": "fb9c43c9-eb1c-4113-84c8-f884cfda3c11",
   "metadata": {},
   "source": [
    "### 1439. 뒤집기"
   ]
  },
  {
   "cell_type": "code",
   "execution_count": null,
   "id": "6053c405-974d-47e6-bfb6-2f33a979fd6a",
   "metadata": {
    "tags": []
   },
   "outputs": [],
   "source": [
    "# 입력 받기\n",
    "S = input()\n",
    "\n",
    "# 연속된 문자가 다른 경우의 개수를 세기 위한 변수 초기화\n",
    "cnt = 0\n",
    "\n",
    "# 문자열의 각 문자에 대해, 다음 문자와 비교\n",
    "for i in range(len(S)-1):\n",
    "    # 현재 문자와 다음 문자가 다르면 cnt 증가\n",
    "    if S[i] != S[i+1]:\n",
    "        cnt += 1\n",
    "\n",
    "# (cnt + 1) // 2는 연속된 문자 그룹의 최소 변경 횟수를 의미\n",
    "print((cnt+1)//2)"
   ]
  },
  {
   "cell_type": "markdown",
   "id": "13b0e4a7-4f0e-47a5-88f5-6edd03e0c4af",
   "metadata": {},
   "source": [
    "### 18258. 큐 2"
   ]
  },
  {
   "cell_type": "code",
   "execution_count": null,
   "id": "c271b80d-b04d-4b80-8075-15bb3a22ba46",
   "metadata": {
    "tags": []
   },
   "outputs": [],
   "source": [
    "import sys\n",
    "input = sys.stdin.readline\n",
    "\n",
    "N = int(input())\n",
    "queue = deque([])\n",
    "\n",
    "for _ in range(N):\n",
    "    command = input().split()\n",
    "    if command[0] == 'push':\n",
    "        queue.append(int(command[1]))\n",
    "    elif command[0] == 'pop':\n",
    "        print(queue.popleft()) if len(queue) > 0 else print(-1)\n",
    "    elif command[0] == 'size':\n",
    "        print(len(queue))\n",
    "    elif command[0] == 'empty':\n",
    "        print(1) if len(queue) == 0 else print(0)\n",
    "    elif command[0] == 'front':\n",
    "        print(queue[0]) if len(queue) > 0 else print(-1)\n",
    "    else:\n",
    "        print(queue[-1]) if len(queue) > 0 else print(-1)"
   ]
  },
  {
   "cell_type": "markdown",
   "id": "d93d372f-1816-45cf-a1b6-740526be4631",
   "metadata": {},
   "source": [
    "### 9461. 파도반 수열"
   ]
  },
  {
   "cell_type": "code",
   "execution_count": null,
   "id": "5ab2c03d-58ba-4563-aacd-465eb6233218",
   "metadata": {
    "tags": []
   },
   "outputs": [],
   "source": [
    "# 입력 받기\n",
    "T = int(input())\n",
    "\n",
    "# DP를 위한 배열 초기화\n",
    "dp = [0] * 101\n",
    "\n",
    "# 초기 조건 설정\n",
    "dp[1] = 1\n",
    "dp[2] = 1\n",
    "dp[3] = 1\n",
    "\n",
    "# 점화식에 맞추어 배열 채우기\n",
    "for i in range(4, 101):\n",
    "    dp[i] = dp[i-2] + dp[i-3]\n",
    "\n",
    "for _ in range(T):\n",
    "    test = int(input())\n",
    "    print(dp[test])"
   ]
  },
  {
   "cell_type": "markdown",
   "id": "436da047-b89e-477b-966f-21a19dd956a7",
   "metadata": {
    "tags": []
   },
   "source": [
    "## 2024-05-24"
   ]
  },
  {
   "cell_type": "markdown",
   "id": "09c825db-7568-4074-9be4-24bedb7f40b1",
   "metadata": {},
   "source": [
    "### 11004. K번째 수"
   ]
  },
  {
   "cell_type": "code",
   "execution_count": null,
   "id": "065acfce-2030-48e5-8fc2-8448e7b5c4b9",
   "metadata": {},
   "outputs": [],
   "source": [
    "import sys\n",
    "input = sys.stdin.readline\n",
    "\n",
    "N, K = map(int, input().split())\n",
    "\n",
    "A = list(map(int, input().split()))\n",
    "A.sort()\n",
    "\n",
    "print(A[K-1])"
   ]
  },
  {
   "cell_type": "code",
   "execution_count": null,
   "id": "8103bfbf-f609-4d51-9777-74cbc241ac99",
   "metadata": {},
   "outputs": [],
   "source": [
    "import sys\n",
    "import heapq\n",
    "input = sys.stdin.readline\n",
    "\n",
    "# 입력 받기\n",
    "N, K = map(int, input().split())\n",
    "A = list(map(int, input().split()))\n",
    "\n",
    "# 리스트를 힙으로 변환\n",
    "heapq.heapify(A)\n",
    "\n",
    "# K-1개의 요소를 제거\n",
    "for _ in range(K-1):\n",
    "    heapq.heappop(A)\n",
    "\n",
    "# K번째 요소를 추출\n",
    "print(heapq.heappop(A))"
   ]
  },
  {
   "cell_type": "markdown",
   "id": "c15c16bb-17c6-45a4-b5e7-d77b39ac5441",
   "metadata": {},
   "source": [
    "### 2217. 로프"
   ]
  },
  {
   "cell_type": "code",
   "execution_count": null,
   "id": "9a46fc1b-d04b-46ee-bcc0-bf390d86b56c",
   "metadata": {},
   "outputs": [],
   "source": [
    "import sys\n",
    "input = sys.stdin.readline\n",
    "\n",
    "# 입력 받기\n",
    "N = int(input())\n",
    "# 각 로프의 최대 중량 입력 받기\n",
    "ropes = [int(input()) for _ in range(N)]\n",
    "\n",
    "ropes.sort(reverse=True)\n",
    "result = []\n",
    "\n",
    "# 각 로프가 들어있는 리스트를 순회하며 최대 중량 계산\n",
    "for i in range(N):\n",
    "    result.append(ropes[i]*(i+1))\n",
    "    \n",
    "print(max(result))"
   ]
  },
  {
   "cell_type": "markdown",
   "id": "326935a5-dbd9-4f63-a7ba-61fd84ffb7b0",
   "metadata": {},
   "source": [
    "### 1002. 터렛"
   ]
  },
  {
   "cell_type": "code",
   "execution_count": null,
   "id": "27fd6cca-05c8-41a6-8fe9-a774cad1482c",
   "metadata": {},
   "outputs": [],
   "source": [
    "import sys\n",
    "import math\n",
    "input = sys.stdin.readline\n",
    "\n",
    "T = int(input())\n",
    "\n",
    "for _ in range(T):\n",
    "    x1, y1, r1, x2, y2, r2 = map(int, input().split())\n",
    "    # 두 좌표 사이 거리 구하기\n",
    "    distance = math.sqrt((x1-x2)**2 + (y1-y2)**2)\n",
    "    \n",
    "    # 동심원이고 반지름이 같을 때\n",
    "    if distance == 0 and r1 == r2:\n",
    "        print(-1)\n",
    "    # 내접 혹은 외접할 때\n",
    "    elif abs(r1-r2) == distance or r1+r2 == distance:\n",
    "        print(1)\n",
    "    # 서로 다른 두 점에서 만날 때\n",
    "    elif abs(r1-r2) < distance < r1+r2:\n",
    "        print(2)\n",
    "    else:\n",
    "        print(0)"
   ]
  },
  {
   "cell_type": "markdown",
   "id": "83a32d22-a8fc-414f-8d80-7bd80f191bbf",
   "metadata": {
    "tags": []
   },
   "source": [
    "## 2024-05-25"
   ]
  },
  {
   "cell_type": "markdown",
   "id": "f446670b-de7e-4e79-af5f-9994cf01572d",
   "metadata": {},
   "source": [
    "### 2167. 2차원 배열의 합"
   ]
  },
  {
   "cell_type": "code",
   "execution_count": null,
   "id": "c21918de-4b7e-41ac-802c-0ed8f1cfe0f8",
   "metadata": {},
   "outputs": [],
   "source": [
    "import sys\n",
    "input = sys.stdin.readline\n",
    "\n",
    "# 입력 받기\n",
    "N, M = map(int, input().split())\n",
    "arr = [list(map(int, input().split())) for _ in range(N)]\n",
    "\n",
    "# DP를 위한 배열 초기화\n",
    "dp = [[0] * (M+1) for _ in range(N+1)]\n",
    "\n",
    "# arr 누적합 구하여 dp 배열에 저장\n",
    "# arr[i-1][j-1]: 현재 위치의 원본 배열 값\n",
    "# dp[i][j-1]: 현재 위치의 왼쪽 칸까지의 누적 합\n",
    "# dp[i-1][j]: 현재 위치의 위쪽 칸까지의 누적 합\n",
    "# dp[i-1][j-1]: 현재 위치의 왼쪽 위 대각선 칸까지의 누적 합. 중복된 부분을 빼기 위함\n",
    "for i in range(1, N+1):\n",
    "    for j in range(1, M+1):\n",
    "        dp[i][j] = arr[i-1][j-1] + dp[i][j-1] + dp[i-1][j] - dp[i-1][j-1]\n",
    "        \n",
    "K = int(input())\n",
    "for _ in range(K):\n",
    "    i, j, x, y = map(int, input().split())\n",
    "    print(dp[x][y] - dp[x][j-1] - dp[i-1][y] + dp[i-1][j-1])"
   ]
  },
  {
   "cell_type": "markdown",
   "id": "60d8ae45-8a55-4fea-aa8c-25f812d7baa9",
   "metadata": {},
   "source": [
    "### 2003. 수들의 합 2"
   ]
  },
  {
   "cell_type": "code",
   "execution_count": null,
   "id": "09abf6fd-79ec-48b1-9e3d-8a22f7e77b4b",
   "metadata": {},
   "outputs": [],
   "source": [
    "import sys\n",
    "input = sys.stdin.readline\n",
    "\n",
    "# 입력 받기\n",
    "N, M = map(int, input().split())\n",
    "A = list(map(int, input().split()))\n",
    "\n",
    "# 변수 초기화\n",
    "answer = 0\n",
    "start, end = 0, 1\n",
    "\n",
    "while start <= end and end <= N:\n",
    "    # 현재 부분합 계산\n",
    "    total = sum(A[start:end])\n",
    "    \n",
    "    # 합이 목표값 M보다 작으면 end 포인터 우측으로 이동\n",
    "    if total < M:\n",
    "        end += 1\n",
    "        \n",
    "    # 합이 목표값 M보다 크면 start 포인터 우측으로 이동\n",
    "    elif total > M:\n",
    "        start += 1\n",
    "        \n",
    "    # 합이 목표값 M과 동일하면 정답 추가 후 end 포인터 우측으로 이동\n",
    "    else:\n",
    "        answer += 1\n",
    "        end += 1\n",
    "        \n",
    "print(answer)"
   ]
  },
  {
   "cell_type": "markdown",
   "id": "2fbf1fdd-a07f-49e2-b383-371dcedb9363",
   "metadata": {},
   "source": [
    "### 11727. 2×n 타일링 2"
   ]
  },
  {
   "cell_type": "code",
   "execution_count": null,
   "id": "de92a785-bcc3-4cc5-abbd-654238674f97",
   "metadata": {},
   "outputs": [],
   "source": [
    "# 입력 받기\n",
    "n = int(input())\n",
    "\n",
    "# DP를 위한 배열 초기화\n",
    "dp = [0] * 1001\n",
    "dp[1] = 1\n",
    "dp[2] = 3\n",
    "dp[3] = 5\n",
    "\n",
    "# 점화식에 따라 배열 채우기\n",
    "for i in range(4, n+1):\n",
    "    dp[i] = (dp[i-1] + 2 * dp[i-2]) % 10007\n",
    "\n",
    "print(dp[n])"
   ]
  },
  {
   "cell_type": "markdown",
   "id": "ba29ce29-51c2-42d1-9070-a53a5316a994",
   "metadata": {
    "tags": []
   },
   "source": [
    "## 2024-05-26"
   ]
  },
  {
   "cell_type": "markdown",
   "id": "5b54a2f9-3da3-4662-8fe8-29f15e9d8161",
   "metadata": {},
   "source": [
    "### 11728. 배열 합치기"
   ]
  },
  {
   "cell_type": "code",
   "execution_count": null,
   "id": "83491e49-9cc9-421c-aa93-aa35a9163887",
   "metadata": {},
   "outputs": [],
   "source": [
    "import sys\n",
    "input = sys.stdin.readline\n",
    "\n",
    "# 입력 받기\n",
    "N, M = map(int, input().split())\n",
    "\n",
    "# 정답 변수 초기화\n",
    "answer = []\n",
    "\n",
    "# 두 개의 배열을 입력받아 정답 리스트에 추가\n",
    "for _ in range(2):\n",
    "    answer += list(map(int, input().split()))\n",
    "    \n",
    "# 오름차순 정렬\n",
    "answer.sort()\n",
    "\n",
    "print(*answer)"
   ]
  },
  {
   "cell_type": "code",
   "execution_count": null,
   "id": "17ea5f5a-170c-4ace-b9ce-5a41bf942fad",
   "metadata": {},
   "outputs": [],
   "source": [
    "import sys\n",
    "import heapq\n",
    "input = sys.stdin.readline\n",
    "\n",
    "# 입력 받기\n",
    "N, M = map(int, input().split())\n",
    "A = list(map(int, input().split()))\n",
    "B = list(map(int, input().split()))\n",
    "\n",
    "# 두 배열을 합쳐서 새로운 리스트 answer 초기화\n",
    "answer = A + B\n",
    "\n",
    "# answer를 힙으로 변환\n",
    "heapq.heapify(answer)\n",
    "    \n",
    "# 힙에서 원소 하나씩 출력\n",
    "for i in range(N+M):\n",
    "    print(heapq.heappop(answer), end=' ')"
   ]
  },
  {
   "cell_type": "markdown",
   "id": "0ad78295-d31f-4e0f-ac8d-9c9e033ade6d",
   "metadata": {},
   "source": [
    "### 10610. 30"
   ]
  },
  {
   "cell_type": "code",
   "execution_count": null,
   "id": "f6cae690-a5ee-42d4-893c-831daf8b2305",
   "metadata": {},
   "outputs": [],
   "source": [
    "N = input()\n",
    "\n",
    "# 10의 배수가 아닐 경우 -1\n",
    "if '0' not in N:\n",
    "    print(-1)\n",
    "\n",
    "else:\n",
    "    # 자리수 합계 total 구하기\n",
    "    total = 0\n",
    "    for i in range(len(N)):\n",
    "        total += int(N[i])\n",
    "        \n",
    "    # 자리수의 합이 3의 배수일 경우 30의 배수 가능\n",
    "    if total % 3 == 0:\n",
    "        answer = sorted(N, reverse=True)\n",
    "        print(''.join(answer))\n",
    "        \n",
    "    # 자리수의 합이 3의 배수가 아닐 경우 30의 배수 불가능\n",
    "    else:\n",
    "        print(-1)"
   ]
  },
  {
   "cell_type": "markdown",
   "id": "cef86276-e957-4077-aeb4-e8ca560b48dc",
   "metadata": {},
   "source": [
    "### 11659. 구간 합 구하기 4"
   ]
  },
  {
   "cell_type": "code",
   "execution_count": null,
   "id": "c04ed04f-0e8d-4f9e-9147-567f299827bd",
   "metadata": {},
   "outputs": [],
   "source": [
    "import sys\n",
    "input = sys.stdin.readline\n",
    "\n",
    "# 입력 받기\n",
    "N, M = map(int, input().split())\n",
    "L = [0] + list(map(int, input().split()))\n",
    "\n",
    "# 누적합 구하기\n",
    "for idx, num in enumerate(L):\n",
    "    if idx > 0:\n",
    "        L[idx] = L[idx-1] + num\n",
    "        \n",
    "# 구간 합 출력\n",
    "for _ in range(M):\n",
    "    i, j = map(int, input().split())\n",
    "    print(L[j]-L[i-1])"
   ]
  },
  {
   "cell_type": "markdown",
   "id": "27286d7d-0d2e-43a8-b746-7cb7d560814c",
   "metadata": {
    "tags": []
   },
   "source": [
    "## 2024-05-27"
   ]
  },
  {
   "cell_type": "markdown",
   "id": "b0a1bfd0-57e0-41bc-ad6b-550769dd092a",
   "metadata": {},
   "source": [
    "### 2740. 행렬 곱셈"
   ]
  },
  {
   "cell_type": "code",
   "execution_count": null,
   "id": "3b49ddbf-d926-4ed8-bec8-bd4afa58dcfb",
   "metadata": {},
   "outputs": [],
   "source": [
    "# 입력 받기\n",
    "N, M = map(int, input().split())\n",
    "\n",
    "# 행렬 A 만들기\n",
    "A = [list(map(int, input().split())) for _ in range(N)]\n",
    "\n",
    "# 입력 받기\n",
    "M, K = map(int, input().split())\n",
    "\n",
    "# 행렬 B 만들기\n",
    "B = [list(map(int, input().split())) for _ in range(M)]\n",
    "    \n",
    "# 정답 행렬 answer 초기화 (N * K 행렬)\n",
    "answer = [[0]*K for _ in range(N)]\n",
    "\n",
    "# 행렬 곱셈 수행\n",
    "for row in range(N):\n",
    "    for col in range(K):\n",
    "        tmp = 0\n",
    "        for i in range(M):\n",
    "            tmp += A[row][i] * B[i][col]\n",
    "        answer[row][col] = tmp\n",
    "\n",
    "for i in answer:\n",
    "    print(*i)"
   ]
  },
  {
   "cell_type": "markdown",
   "id": "47d84e3e-3063-4a81-a95a-978a860c21e9",
   "metadata": {
    "tags": []
   },
   "source": [
    "## 2024-05-28"
   ]
  },
  {
   "cell_type": "markdown",
   "id": "30d85c16-5803-4606-a747-d998b0a629ab",
   "metadata": {},
   "source": [
    "### 10867. 중복 빼고 정렬하기"
   ]
  },
  {
   "cell_type": "code",
   "execution_count": null,
   "id": "a4988e40-4069-4dc8-b8e4-3eaf477c27b7",
   "metadata": {},
   "outputs": [],
   "source": [
    "# 입력 받기\n",
    "N = int(input())\n",
    "L = list(map(int, input().split()))\n",
    "\n",
    "# 중복 제거 후 오름차순 정렬\n",
    "answer = sorted(set(L))\n",
    "        \n",
    "print(*answer)"
   ]
  },
  {
   "cell_type": "markdown",
   "id": "f1d6eeeb-597f-44de-baf0-efda59cf9c91",
   "metadata": {},
   "source": [
    "### 11656. 접미사 배열"
   ]
  },
  {
   "cell_type": "code",
   "execution_count": null,
   "id": "0bb56b3c-27c7-4086-8b57-537f973eba2b",
   "metadata": {},
   "outputs": [],
   "source": [
    "# 입력 받기\n",
    "S = input()\n",
    "\n",
    "# 리스트 컴프리헨션을 사용하여 모든 접미사를 생성하고, 이를 정렬\n",
    "answer = sorted(S[i:] for i in range(len(S)))\n",
    "\n",
    "for suffix in answer:\n",
    "    print(suffix)"
   ]
  },
  {
   "cell_type": "markdown",
   "id": "33f115f6-cea3-45a5-9d46-779670d9970c",
   "metadata": {},
   "source": [
    "### 14501. 퇴사"
   ]
  },
  {
   "cell_type": "code",
   "execution_count": null,
   "id": "0edce41f-ff64-4caf-8f75-ad483f0f4ceb",
   "metadata": {},
   "outputs": [],
   "source": [
    "import sys\n",
    "input = sys.stdin.readline\n",
    "\n",
    "# 입력 받기\n",
    "N = int(input())\n",
    "L = [list(map(int, input().split())) for _ in range(N)]\n",
    "\n",
    "# DP 배열 초기화\n",
    "dp = [0] * (N+1)\n",
    "\n",
    "for i in range(N):\n",
    "    # 현재 일정(i)을 선택했을 때, 해당 일정이 끝난 날부터 N일까지의 최대 이익을 갱신\n",
    "    for j in range(i + L[i][0], N+1):\n",
    "        # dp[j]를 현재 일정(i)을 선택한 경우와 선택하지 않은 경우 중 큰 값으로 업데이트\n",
    "        if dp[j] < dp[i] + L[i][1]:\n",
    "            dp[j] = dp[i] + L[i][1]\n",
    "            \n",
    "print(dp[-1])"
   ]
  },
  {
   "cell_type": "markdown",
   "id": "4927e2c6-29e6-4120-8332-0212c5b11b66",
   "metadata": {
    "tags": []
   },
   "source": [
    "## 2024-05-29"
   ]
  },
  {
   "cell_type": "markdown",
   "id": "ef65041f-048b-41a9-97a6-de546004a3f5",
   "metadata": {},
   "source": [
    "### 2161. 카드1"
   ]
  },
  {
   "cell_type": "code",
   "execution_count": null,
   "id": "514ffa97-e0dd-48e0-9f7b-67118a096a7c",
   "metadata": {},
   "outputs": [],
   "source": [
    "from collections import deque\n",
    "\n",
    "# 입력 받기\n",
    "N = int(input())\n",
    "\n",
    "# 1부터 N까지의 숫자로 이루어진 deque 생성\n",
    "D = deque([i for i in range(1, N+1)])\n",
    "\n",
    "# 정답 변수 초기화\n",
    "answer = []\n",
    "\n",
    "for i in range(N):\n",
    "    # Deque의 가장 왼쪽(첫번째) 요소를 꺼내서 정답 리스트에 추가\n",
    "    answer.append(D.popleft())\n",
    "    # Deque에 요소가 남아있는 경우\n",
    "    if D:\n",
    "        # Deque의 가장 왼쪽(첫번째) 요소를 꺼내서 Deque의 가장 오른쪽(마지막)에 추가\n",
    "        D.append(D.popleft())\n",
    "\n",
    "print(*answer)"
   ]
  },
  {
   "cell_type": "markdown",
   "id": "ada52f13-9b1c-453d-ad56-486fe8f484f1",
   "metadata": {},
   "source": [
    "### \t1543. 문서 검색"
   ]
  },
  {
   "cell_type": "code",
   "execution_count": null,
   "id": "a4fb8ed9-a64a-4824-9cf8-468c965b5bab",
   "metadata": {},
   "outputs": [],
   "source": [
    "# 입력 받기\n",
    "doc = input()\n",
    "word = input()\n",
    "\n",
    "# 변수 초기화\n",
    "answer = 0  \n",
    "idx = 0  \n",
    "\n",
    "while True:\n",
    "    # 문서의 남은 길이가 단어의 길이보다 짧으면 반복문 종료\n",
    "    if idx + len(word) > len(doc):\n",
    "        break\n",
    "\n",
    "    # 단어의 각 문자와 문서의 현재 위치부터의 문자가 일치하는지 확인\n",
    "    for i in range(len(word)):\n",
    "        # 중간에 맞지 않으면 루프를 빠져나가고, 문서의 인덱스를 하나 증가\n",
    "        if doc[idx + i] != word[i]:\n",
    "            idx += 1\n",
    "            break\n",
    "    else:\n",
    "        # 단어의 모든 문자가 일치하면 등장 횟수를 증가시키고, 문서의 인덱스를 단어의 길이만큼 증가\n",
    "        answer += 1\n",
    "        idx += len(word)\n",
    "\n",
    "print(answer)"
   ]
  },
  {
   "cell_type": "markdown",
   "id": "b174e56a-c1cf-44cf-9f6f-6b31c3594780",
   "metadata": {},
   "source": [
    "### 10825. 국영수"
   ]
  },
  {
   "cell_type": "code",
   "execution_count": null,
   "id": "d9122e3c-9e56-4c5b-a084-2baea7b3cac8",
   "metadata": {},
   "outputs": [],
   "source": [
    "import sys\n",
    "input = sys.stdin.readline\n",
    "\n",
    "# 입력 받기 \n",
    "N = int(input())\n",
    "\n",
    "# 변수 선언\n",
    "students = []\n",
    "\n",
    "# 학생 성적 입력 받기\n",
    "for _ in range(N):\n",
    "    name, kor, eng, math = input().split()\n",
    "    students.append([name, int(kor), int(eng), int(math)])\n",
    "\n",
    "# 정렬\n",
    "students.sort(key=lambda x: (-x[1], x[2], -x[3], x[0]))\n",
    "\n",
    "for student in students:\n",
    "    print(student[0])"
   ]
  },
  {
   "cell_type": "markdown",
   "id": "23c8ba8f-43b1-480a-9b11-5ca65e0ab4d1",
   "metadata": {
    "tags": []
   },
   "source": [
    "## 2024-05-30"
   ]
  },
  {
   "cell_type": "markdown",
   "id": "77878bc9-97cf-49f9-b6be-5375062a63b4",
   "metadata": {},
   "source": [
    "### 14916. 거스름돈"
   ]
  },
  {
   "cell_type": "code",
   "execution_count": null,
   "id": "b13ebc20-6a1a-4c12-8ae9-59ce478fda99",
   "metadata": {},
   "outputs": [],
   "source": [
    "# 입력 받기\n",
    "n = int(input())\n",
    "\n",
    "# 정답 변수 초기화\n",
    "answer = 0\n",
    "\n",
    "while n > 0:\n",
    "    # n이 5의 배수일 경우 모든 거스름돈을 5원으로\n",
    "    if n % 5 == 0:\n",
    "        answer += n // 5\n",
    "        n = 0\n",
    "    # n이 5의 배수가 아닐 경우 2원 거스름돈 1개 사용\n",
    "    # 2원 거스름돈 사용 후 5의 배수가 될 수 있기 때문에\n",
    "    else:\n",
    "        n -= 2\n",
    "        answer += 1\n",
    "        if n < 0:\n",
    "            answer = -1\n",
    "            break\n",
    "\n",
    "print(answer)"
   ]
  },
  {
   "cell_type": "markdown",
   "id": "0292a409-bdf2-4fe9-b667-bbaec3ffb78a",
   "metadata": {},
   "source": [
    "### 17219. 비밀번호 찾기"
   ]
  },
  {
   "cell_type": "code",
   "execution_count": null,
   "id": "0e7971c2-fd9a-4dca-b829-49d8d4d3506e",
   "metadata": {},
   "outputs": [],
   "source": [
    "import sys\n",
    "input = sys.stdin.readline\n",
    "\n",
    "# 입력 받기\n",
    "N, M = map(int, input().split())\n",
    "\n",
    "# 딕셔너리 변수 초기화\n",
    "passwords = {}\n",
    "\n",
    "# 사이트와 비밀번호를 딕셔너리에 저장\n",
    "for _ in range(N):\n",
    "    site, password = input().split()\n",
    "    passwords[site] = password\n",
    "\n",
    "for _ in range(M):\n",
    "    site = input().strip()\n",
    "    print(passwords[site])"
   ]
  },
  {
   "cell_type": "markdown",
   "id": "3fb472f3-2f92-4cba-960b-6a4326240747",
   "metadata": {},
   "source": [
    "### 2193. 이친수"
   ]
  },
  {
   "cell_type": "code",
   "execution_count": null,
   "id": "e35ff270-de90-49dc-925d-8e7aa35bd39f",
   "metadata": {},
   "outputs": [],
   "source": [
    "# 입력 받기\n",
    "N = int(input())\n",
    "\n",
    "# DP 배열 초기화\n",
    "dp = [0] * 91\n",
    "dp[1] = 1\n",
    "\n",
    "# 점화식에 따라 배열 채우기\n",
    "for i in range(2, N+1):\n",
    "    dp[i] = dp[i-1] + dp[i-2]\n",
    "    \n",
    "print(dp[N])"
   ]
  },
  {
   "cell_type": "markdown",
   "id": "613a33f5-2439-4c18-b490-e7ca6ccbb759",
   "metadata": {
    "tags": []
   },
   "source": [
    "## 2024-05-31"
   ]
  },
  {
   "cell_type": "markdown",
   "id": "53605d3a-0495-4401-87ae-e9607455ab90",
   "metadata": {},
   "source": [
    "### 2822. 점수 계산"
   ]
  },
  {
   "cell_type": "code",
   "execution_count": null,
   "id": "27e4553c-7905-474f-982e-25b3d484a852",
   "metadata": {},
   "outputs": [],
   "source": [
    "import sys\n",
    "input = sys.stdin.readline\n",
    "\n",
    "# 입력 받기\n",
    "L = [int(input()) for i in range(8)]\n",
    "\n",
    "# 높은 점수 5개 구하기\n",
    "top_rank = sorted(L, reverse=True)[:5]\n",
    "\n",
    "# 정답 변수 초기화\n",
    "answer_idx = []\n",
    "answer_val = []\n",
    "\n",
    "for idx, val in enumerate(L):\n",
    "    # val이 top_rank에 있을 경우 idx와 val 각각 추가\n",
    "    if val in top_rank:\n",
    "        answer_idx.append(idx+1)\n",
    "        answer_val.append(val)\n",
    "        \n",
    "print(sum(answer_val))\n",
    "print(*answer_idx)"
   ]
  },
  {
   "cell_type": "markdown",
   "id": "43729a6e-4da4-4b63-acf1-c6552e6284cb",
   "metadata": {},
   "source": [
    "### 2960. 에라토스테네스의 체"
   ]
  },
  {
   "cell_type": "code",
   "execution_count": null,
   "id": "60bdb0a0-afde-4ec2-84d3-aac4f9d8c794",
   "metadata": {},
   "outputs": [],
   "source": [
    "# 입력 받기\n",
    "N, K = map(int, input().split())\n",
    "\n",
    "L = [True] * (N+1)\n",
    "cnt = 0\n",
    "\n",
    "for i in range(2, N+1):\n",
    "    for j in range(i, N+1, i):\n",
    "        # P를 지우지 않았다면 P를 지우고 배수 순서대로 지움 (지움 표시: False)\n",
    "        if L[j] == True:\n",
    "            L[j] = False\n",
    "            cnt += 1\n",
    "            \n",
    "            # K번째 지우는 수 출력\n",
    "            if cnt == K:\n",
    "                print(j)"
   ]
  },
  {
   "cell_type": "markdown",
   "id": "3dc40a7e-5101-4eb8-940a-638f09206bfc",
   "metadata": {},
   "source": [
    "### 1904. 01타일"
   ]
  },
  {
   "cell_type": "code",
   "execution_count": null,
   "id": "275b23ca-d2d3-40b1-925c-624153bde72d",
   "metadata": {},
   "outputs": [],
   "source": [
    "# 입력 받기\n",
    "N = int(input())\n",
    "\n",
    "# DP 배열 초기화\n",
    "dp = [0] * 1000001\n",
    "dp[1] = 1\n",
    "dp[2] = 2\n",
    "\n",
    "# 점화식에 따라 배열 채우기\n",
    "for i in range(3, N+1):\n",
    "    dp[i] = (dp[i-1] + dp[i-2]) % 15746\n",
    "    \n",
    "print(dp[N])"
   ]
  },
  {
   "cell_type": "markdown",
   "id": "119f163e-d204-453b-8217-3f58d96d2773",
   "metadata": {
    "jp-MarkdownHeadingCollapsed": true,
    "tags": []
   },
   "source": [
    "# 2024-06-01"
   ]
  },
  {
   "cell_type": "markdown",
   "id": "0de3180b-84e8-4cbe-93ec-284ce372fac6",
   "metadata": {},
   "source": [
    "## 2669. 직사각형 네개의 합집합의 면적 구하기"
   ]
  },
  {
   "cell_type": "code",
   "execution_count": null,
   "id": "d2d4cf0e-9d51-442a-9712-e467346b54d4",
   "metadata": {},
   "outputs": [],
   "source": [
    "import sys\n",
    "input = sys.stdin.readline\n",
    "\n",
    "# 행렬 초기화\n",
    "matrix = [[0] * 101 for _ in range(101)]\n",
    "\n",
    "# 좌표 범위만큼 1로 채움\n",
    "for _ in range(4):\n",
    "    x1, y1, x2, y2 = map(int, input().split())\n",
    "    \n",
    "    for i in range(x1, x2):\n",
    "        for j in range(y1, y2):\n",
    "            matrix[i][j] = 1\n",
    "            \n",
    "# 행렬 합 구하기\n",
    "answer = sum(sum(row) for row in matrix)\n",
    "\n",
    "print(answer)"
   ]
  },
  {
   "cell_type": "markdown",
   "id": "b6712168-3899-4b68-9c11-efdca84c9714",
   "metadata": {
    "jp-MarkdownHeadingCollapsed": true,
    "tags": []
   },
   "source": [
    "# 2024-06-02"
   ]
  },
  {
   "cell_type": "markdown",
   "id": "5ee2f7a6-7fb8-44b2-a1a8-c392dedc4b80",
   "metadata": {},
   "source": [
    "## 8979. 올림픽"
   ]
  },
  {
   "cell_type": "code",
   "execution_count": null,
   "id": "49e62c55-2b63-4055-8bdc-c2f85765b0cf",
   "metadata": {},
   "outputs": [],
   "source": [
    "import sys\n",
    "input = sys.stdin.readline\n",
    "\n",
    "# 입력 받기\n",
    "N, K = map(int, input().split())\n",
    "medals = []\n",
    "\n",
    "for _ in range(N):\n",
    "    medals.append(list(map(int, input().split())))\n",
    "    \n",
    "# 규칙에 맞추어 정렬\n",
    "medals.sort(key = lambda x : (x[1], x[2], x[3]), reverse=True)\n",
    "\n",
    "# 국가 K의 인덱스 찾기\n",
    "answer = [medals[i][0] for i in range(N)].index(K)\n",
    "\n",
    "# K와 메달 수가 일치하는 국가 찾기\n",
    "for i in range(N):\n",
    "    if medals[answer][1:] == medals[i][1:]:\n",
    "        print(i+1)\n",
    "        break"
   ]
  },
  {
   "cell_type": "markdown",
   "id": "9c0c85e4-a3b0-4a58-a874-9a0bb0f1576b",
   "metadata": {},
   "source": [
    "## 9613. GCD 합"
   ]
  },
  {
   "cell_type": "code",
   "execution_count": null,
   "id": "5f1d7da8-ee82-4098-8a5f-aa4af488d758",
   "metadata": {},
   "outputs": [],
   "source": [
    "import sys\n",
    "input = sys.stdin.readline\n",
    "\n",
    "# 입력 받기\n",
    "t = int(input())\n",
    "\n",
    "# 유클리드 호제법 함수 정의\n",
    "def get_gcd(a, b):\n",
    "    if b == 0:\n",
    "        return a\n",
    "    return get_gcd(b, a%b)\n",
    "\n",
    "for _ in range(t):\n",
    "    # 정답 변수 초기화\n",
    "    answer = 0\n",
    "    \n",
    "    # 입력 받기\n",
    "    L = list(map(int, input().split()))    \n",
    "    \n",
    "    # 모든 쌍의 최대 공약수 구해서 더하기\n",
    "    for i in range(1, len(L)):\n",
    "        for j in range(i+1, len(L)):\n",
    "            answer += get_gcd(L[i], L[j])\n",
    "    \n",
    "    print(answer)"
   ]
  },
  {
   "cell_type": "markdown",
   "id": "7607c093-0faf-465c-ac46-dd1195676e16",
   "metadata": {},
   "source": [
    "## 1021. 회전하는 큐"
   ]
  },
  {
   "cell_type": "code",
   "execution_count": null,
   "id": "632ac993-e3a2-4dc9-9d8c-e7c9053a2fee",
   "metadata": {},
   "outputs": [],
   "source": [
    "from collections import deque\n",
    "\n",
    "# 입력 받기\n",
    "N, M = map(int, input().split())\n",
    "locations = list(map(int, input().split()))\n",
    "\n",
    "# deque 생성\n",
    "D = deque([i for i in range(1, N+1)])\n",
    "\n",
    "# 정답 변수 초기화\n",
    "answer = 0\n",
    "\n",
    "for i in locations:\n",
    "    while True:\n",
    "        # 첫 인덱스가 뽑아낼 위치와 같다면 1번 연산 수행\n",
    "        if D[0] == i:\n",
    "            D.popleft()\n",
    "            break\n",
    "        else:\n",
    "            # 뽑아낼 위치가 D를 절반으로 나눴을 때 좌측에 위치해있다면 2번 연산 수행\n",
    "            if D.index(i) < len(D)/2:\n",
    "                while D[0] != i:\n",
    "                    D.append(D.popleft())\n",
    "                    answer += 1\n",
    "            # 뽑아낼 위치가 D를 절반으로 나눴을 때 우측에 위치해있다면 3번 연산 수행\n",
    "            else:\n",
    "                while D[0] != i:\n",
    "                    D.appendleft(D.pop())\n",
    "                    answer += 1\n",
    "                    \n",
    "print(answer)"
   ]
  },
  {
   "cell_type": "markdown",
   "id": "a232e84a-b330-4edd-9436-b8a8632d70d6",
   "metadata": {
    "jp-MarkdownHeadingCollapsed": true,
    "tags": []
   },
   "source": [
    "# 2024-06-03"
   ]
  },
  {
   "cell_type": "markdown",
   "id": "9bf43ecf-a716-4470-9674-08ea86ca6fe5",
   "metadata": {},
   "source": [
    "## 9656. 돌 게임 2"
   ]
  },
  {
   "cell_type": "code",
   "execution_count": null,
   "id": "4927ca99-1749-40d4-967b-bfcad15df224",
   "metadata": {},
   "outputs": [],
   "source": [
    "# 입력 받기\n",
    "N = int(input())\n",
    "\n",
    "# turn: 0은 SK의 차례, 1은 CY의 차례를 의미\n",
    "turn = 0\n",
    "\n",
    "while True:\n",
    "    # N이 3 초과면 3개 가져가기, 아니면 1개 가져가기\n",
    "    N = N - 3 if N > 3 else N - 1\n",
    "    \n",
    "    # 차례 변경 (0 -> 1 또는 1 -> 0)\n",
    "    turn = 1 - turn\n",
    "    \n",
    "    # N이 0이 될 경우 누구 차례였는지 출력\n",
    "    if N == 0:\n",
    "        print('SK') if turn == 0 else print('CY')\n",
    "        break    "
   ]
  },
  {
   "cell_type": "markdown",
   "id": "d275346a-8d3a-41bb-928d-d414b10f0434",
   "metadata": {
    "jp-MarkdownHeadingCollapsed": true,
    "tags": []
   },
   "source": [
    "# 2024-06-04"
   ]
  },
  {
   "cell_type": "markdown",
   "id": "ebc229b8-8dbb-44db-8fd0-abf701d0bc3e",
   "metadata": {},
   "source": [
    "## 2018. 수들의 합 5"
   ]
  },
  {
   "cell_type": "code",
   "execution_count": null,
   "id": "e10c41fb-402c-4218-8410-456d22b19c83",
   "metadata": {},
   "outputs": [],
   "source": [
    "# 입력 받기\n",
    "N = int(input())\n",
    "\n",
    "# 정답 변수 초기화\n",
    "answer = 0\n",
    "\n",
    "# 투 포인터 초기화\n",
    "start, end = 1, 1\n",
    "\n",
    "# 현재 구간의 합 \n",
    "total = 1\n",
    "\n",
    "while start <= N:\n",
    "    \n",
    "    # 현재 합이 N보다 작으면 end 한 칸 이동하여 구간 확장\n",
    "    if total < N:\n",
    "        end += 1\n",
    "        total += end\n",
    "        \n",
    "    # 현재 합이 N과 같으면 정답을 1 증가시키고 시작점 이동\n",
    "    elif total == N:\n",
    "        answer += 1\n",
    "        total -= start\n",
    "        start += 1\n",
    "        \n",
    "    # 현재 합이 N보다 크면 시작점 이동\n",
    "    else:\n",
    "        total -= start\n",
    "        start += 1\n",
    "        \n",
    "print(answer)"
   ]
  },
  {
   "cell_type": "markdown",
   "id": "5543bf92-de48-42d1-8067-6357e8a5454c",
   "metadata": {
    "jp-MarkdownHeadingCollapsed": true,
    "tags": []
   },
   "source": [
    "# 2024-06-05"
   ]
  },
  {
   "cell_type": "markdown",
   "id": "180b10de-3935-45e3-961e-774cac442ae7",
   "metadata": {},
   "source": [
    "## 1343. 폴리오미노"
   ]
  },
  {
   "cell_type": "code",
   "execution_count": null,
   "id": "d95cd7a8-c0db-46aa-b980-cd5a4ae4c87d",
   "metadata": {},
   "outputs": [],
   "source": [
    "# 입력 받기\n",
    "board = input().split('.')\n",
    "\n",
    "# 정답 변수 초기화\n",
    "answer = []\n",
    "\n",
    "# 플래그 변수 초기화\n",
    "is_valid = True\n",
    "\n",
    "for i in board:\n",
    "    # 부분 문자열의 길이가 홀수인 경우 유효하지 않음\n",
    "    if len(i) % 2 != 0:\n",
    "        is_valid = False\n",
    "        break\n",
    "    else:\n",
    "        # 변환 결과를 임시로 저장할 변수 초기화\n",
    "        tmp = ''\n",
    "        \n",
    "        # 부분 문자열의 길이가 4의 배수인 부분을 'AAAA'로 변환\n",
    "        tmp += 'AAAA' * (len(i) // 4)\n",
    "        \n",
    "        # 남은 길이가 2인 경우 'BB'로 변환\n",
    "        if len(i) % 4 == 2:\n",
    "            tmp += 'BB'\n",
    "            \n",
    "        answer.append(tmp)\n",
    "        \n",
    "# 모든 부분 문자열이 유효한 경우\n",
    "if is_valid:\n",
    "    print('.'.join(answer))\n",
    "else:\n",
    "    print(-1)"
   ]
  },
  {
   "cell_type": "code",
   "execution_count": null,
   "id": "e57428ff-84ca-482a-b126-e826041d14fe",
   "metadata": {},
   "outputs": [],
   "source": [
    "# 입력 받기\n",
    "board = input()\n",
    "\n",
    "# 'XXXX'를 'AAAA'로, 'XX'를 'BB'로 교체\n",
    "board = board.replace('XXXX', 'AAAA')\n",
    "board = board.replace('XX', 'BB')\n",
    "\n",
    "if 'X' in board:\n",
    "    print(-1)\n",
    "    \n",
    "else:\n",
    "    print(board)"
   ]
  },
  {
   "cell_type": "markdown",
   "id": "0665ce51-6624-4a56-b6fa-cf8d8969cef4",
   "metadata": {},
   "source": [
    "## 1748. 수 이어 쓰기 1"
   ]
  },
  {
   "cell_type": "code",
   "execution_count": null,
   "id": "84e9bb28-6694-4c79-8491-7c5d4141bf12",
   "metadata": {},
   "outputs": [],
   "source": [
    "# 입력 받기\n",
    "N = input()\n",
    "\n",
    "# 정답 변수 초기화\n",
    "answer = 0\n",
    "\n",
    "# 1자리 수부터 N의 자리 수 - 1까지 각 자리 수의 자릿수 합을 계산\n",
    "for i in range(1, len(N)):\n",
    "    answer += 9 * 10**(i-1) * i  # i자리 수의 자릿수 합을 계산하여 더함\n",
    "\n",
    "# N의 자리 수의 자릿수 합을 계산\n",
    "answer += (int(N) - 10**(len(N)-1) + 1) * len(N)\n",
    "\n",
    "print(answer)"
   ]
  },
  {
   "cell_type": "markdown",
   "id": "115c9612-24f9-470a-866d-415ecae67160",
   "metadata": {},
   "source": [
    "## 11931. 수 정렬하기 4"
   ]
  },
  {
   "cell_type": "code",
   "execution_count": null,
   "id": "b01f1107-8080-4499-87a1-5bbc15d1f6f1",
   "metadata": {},
   "outputs": [],
   "source": [
    "import sys\n",
    "input = sys.stdin.readline\n",
    "\n",
    "N = int(input())\n",
    "\n",
    "L = [int(input()) for _ in range(N)]\n",
    "L.sort(reverse=True)\n",
    "\n",
    "for i in L:\n",
    "    print(i)"
   ]
  },
  {
   "cell_type": "markdown",
   "id": "79b34db9-024a-4f66-b8a6-a73afaafa04e",
   "metadata": {
    "jp-MarkdownHeadingCollapsed": true,
    "tags": []
   },
   "source": [
    "# 2024-06-06"
   ]
  },
  {
   "cell_type": "markdown",
   "id": "951b789c-2048-4ecc-8520-da115cfd6202",
   "metadata": {},
   "source": [
    "## 5635. 생일"
   ]
  },
  {
   "cell_type": "code",
   "execution_count": null,
   "id": "7c5a58f7-e144-4b94-bba0-62f7e15a6fb2",
   "metadata": {},
   "outputs": [],
   "source": [
    "import sys\n",
    "input = sys.stdin.readline\n",
    "\n",
    "# 입력 받기\n",
    "n = int(input())\n",
    "\n",
    "# 학생 리스트 초기화\n",
    "students = []\n",
    "\n",
    "# 학생 데이터 입력\n",
    "for _ in range(n):\n",
    "    name, day, month, year = input().split()\n",
    "    students.append([name, int(day), int(month), int(year)])\n",
    "    \n",
    "# 생년월일을 기준으로 정렬\n",
    "students.sort(key = lambda x : (x[3], x[2], x[1]))\n",
    "\n",
    "print(students[-1][0], students[0][0], sep='\\n')"
   ]
  },
  {
   "cell_type": "markdown",
   "id": "6713e398-025c-430c-9943-01f8c3db8921",
   "metadata": {
    "jp-MarkdownHeadingCollapsed": true,
    "tags": []
   },
   "source": [
    "# 2024-06-07"
   ]
  },
  {
   "cell_type": "markdown",
   "id": "f93ae035-289f-4bbf-b412-93849002ed01",
   "metadata": {
    "jp-MarkdownHeadingCollapsed": true,
    "tags": []
   },
   "source": [
    "## 9625. BABBA"
   ]
  },
  {
   "cell_type": "code",
   "execution_count": null,
   "id": "9e63cf6b-e308-4816-b97c-5a6d8988a8ce",
   "metadata": {},
   "outputs": [],
   "source": [
    "# 입력 받기\n",
    "K = int(input())\n",
    "\n",
    "# A와 B의 초기 개수\n",
    "A, B = 0, 1\n",
    "\n",
    "# 버튼을 누를 때마다 바뀌는 개수 표현\n",
    "for i in range(1,K):\n",
    "    A,B = B, A+B\n",
    "    \n",
    "print(A, B)"
   ]
  },
  {
   "cell_type": "markdown",
   "id": "2fc12f77-cc04-4f52-90c2-a3e496f1687b",
   "metadata": {
    "jp-MarkdownHeadingCollapsed": true,
    "tags": []
   },
   "source": [
    "# 2024-06-08"
   ]
  },
  {
   "cell_type": "markdown",
   "id": "d9cf7249-a9f6-479f-8114-f6cabe551b95",
   "metadata": {},
   "source": [
    "## 1652. 누울 자리를 찾아라"
   ]
  },
  {
   "cell_type": "code",
   "execution_count": null,
   "id": "659fb1b6-31e5-4389-a861-e884823b7955",
   "metadata": {},
   "outputs": [],
   "source": [
    "# 입력 받기\n",
    "N = int(input())\n",
    "L = [list(input()) for _ in range(N)]\n",
    "\n",
    "# 가로, 세로 변수 초기화\n",
    "row, col = 0, 0\n",
    "\n",
    "# 가로 자리의 수 구하기\n",
    "for i in range(N):\n",
    "    tmp = 0\n",
    "    for j in range(N):\n",
    "        if L[i][j] == '.':\n",
    "            tmp += 1\n",
    "            \n",
    "            if tmp == 2:\n",
    "                row += 1\n",
    "        else:\n",
    "            tmp = 0\n",
    "\n",
    "# 세로 자리의 수 구하기\n",
    "for i in range(N):\n",
    "    tmp = 0\n",
    "    for j in range(N):\n",
    "        if L[j][i] == '.':\n",
    "            tmp += 1\n",
    "            \n",
    "            if tmp == 2:\n",
    "                col += 1\n",
    "        else:\n",
    "            tmp = 0\n",
    "            \n",
    "print(row, col)"
   ]
  },
  {
   "cell_type": "markdown",
   "id": "ff414563-acc1-4d88-b52c-a465c62ed7bd",
   "metadata": {
    "jp-MarkdownHeadingCollapsed": true,
    "tags": []
   },
   "source": [
    "# 2024-06-09"
   ]
  },
  {
   "cell_type": "markdown",
   "id": "740b5dc0-3b52-4acd-8691-4125605480ef",
   "metadata": {
    "jp-MarkdownHeadingCollapsed": true,
    "tags": []
   },
   "source": [
    "## 16435. 스네이크버드"
   ]
  },
  {
   "cell_type": "code",
   "execution_count": null,
   "id": "319de687-a4af-4115-b4fc-85c76c4fb922",
   "metadata": {},
   "outputs": [],
   "source": [
    "import sys\n",
    "input = sys.stdin.readline\n",
    "\n",
    "# 입력 받기\n",
    "N, L = map(int, input().split())\n",
    "\n",
    "# 과일 높이 입력 받고 정렬\n",
    "heights = list(map(int, input().split()))\n",
    "heights.sort()\n",
    "\n",
    "# 먹을 수 있으면 길이 +1, 없으면 break\n",
    "for i in heights:\n",
    "    if i <= L:\n",
    "        L += 1\n",
    "    else:\n",
    "        break\n",
    "        \n",
    "print(L)"
   ]
  },
  {
   "cell_type": "markdown",
   "id": "b1f7da2f-a163-431c-83ac-8783342ef51e",
   "metadata": {
    "jp-MarkdownHeadingCollapsed": true,
    "tags": []
   },
   "source": [
    "# 2024-06-10"
   ]
  },
  {
   "cell_type": "markdown",
   "id": "ca4dbe50-0dcd-43be-aead-c56d96e498e8",
   "metadata": {
    "jp-MarkdownHeadingCollapsed": true,
    "tags": []
   },
   "source": [
    "## 1417. 국회의원 선거"
   ]
  },
  {
   "cell_type": "code",
   "execution_count": null,
   "id": "e11ef174-d7c2-449c-95ae-5ac7b1b3570f",
   "metadata": {},
   "outputs": [],
   "source": [
    "import sys\n",
    "input = sys.stdin.readline\n",
    "\n",
    "# 입력 받기\n",
    "N = int(input())\n",
    "dasom = int(input())\n",
    "L = [int(input()) for _ in range(N-1)]\n",
    "\n",
    "# 정답 변수 초기화\n",
    "answer = 0\n",
    "\n",
    "# 단일 후보일 경우\n",
    "if N == 1:\n",
    "    print(answer)\n",
    "    \n",
    "else:\n",
    "    # 나머지 후보 중 가장 큰 득표자의 표 1개 dasom에게 가져오기\n",
    "    while L[L.index(max(L))] >= dasom:\n",
    "        dasom += 1\n",
    "        L[L.index(max(L))] -= 1\n",
    "        answer += 1\n",
    "        \n",
    "    print(answer)"
   ]
  },
  {
   "cell_type": "markdown",
   "id": "db237ed1-b705-4eda-bb09-e3b214a91633",
   "metadata": {
    "jp-MarkdownHeadingCollapsed": true,
    "tags": []
   },
   "source": [
    "# 2024-06-11"
   ]
  },
  {
   "cell_type": "markdown",
   "id": "8c2caa98-7247-4c38-aad5-fa414d32ad94",
   "metadata": {
    "tags": []
   },
   "source": [
    "## 13301. 타일 장식물"
   ]
  },
  {
   "cell_type": "code",
   "execution_count": null,
   "id": "5c28b853-f5df-4eae-aee2-fd0b294fe6d6",
   "metadata": {},
   "outputs": [],
   "source": [
    "# 입력 받기\n",
    "N = int(input())\n",
    "\n",
    "# DP를 위한 배열 초기화\n",
    "dp = [0] * 81\n",
    "dp[0] = 4\n",
    "dp[1] = 6\n",
    "\n",
    "# 점화식에 맞추어 배열 채우기\n",
    "for i in range(2, N+1):\n",
    "    dp[i] = dp[i-1] + dp[i-2]\n",
    "    \n",
    "print(dp[N-1])"
   ]
  },
  {
   "cell_type": "markdown",
   "id": "e9844d2f-a530-4b40-acf6-ab14d0dfda30",
   "metadata": {
    "jp-MarkdownHeadingCollapsed": true,
    "tags": []
   },
   "source": [
    "# 2024-06-12"
   ]
  },
  {
   "cell_type": "markdown",
   "id": "391f9eed-454a-486c-b01c-a8a9a78a0ab2",
   "metadata": {
    "jp-MarkdownHeadingCollapsed": true,
    "tags": []
   },
   "source": [
    "## 28278. 스택 2"
   ]
  },
  {
   "cell_type": "code",
   "execution_count": null,
   "id": "dbb4448b-1de5-4999-9bf5-6b954c6bd59f",
   "metadata": {},
   "outputs": [],
   "source": [
    "import sys\n",
    "input = sys.stdin.readline\n",
    "\n",
    "N = int(input())\n",
    "stack = list()\n",
    "\n",
    "for _ in range(N):\n",
    "    command = list(map(int, input().split()))\n",
    "    \n",
    "    if command[0] == 1:\n",
    "        stack.append(command[1])\n",
    "    elif command[0] == 2:\n",
    "        print(stack.pop() if stack else -1)\n",
    "    elif command[0] == 3:\n",
    "        print(len(stack))\n",
    "    elif command[0] == 4:\n",
    "        print(0 if stack else 1)\n",
    "    else:\n",
    "        print(stack[-1] if stack else -1)"
   ]
  },
  {
   "cell_type": "markdown",
   "id": "cfd28e2d-8a2a-4eea-9842-e861d43303e4",
   "metadata": {
    "jp-MarkdownHeadingCollapsed": true,
    "tags": []
   },
   "source": [
    "# 2024-06-13"
   ]
  },
  {
   "cell_type": "markdown",
   "id": "01c11b97-3b2e-409c-adc9-de9fb204e1b3",
   "metadata": {
    "tags": []
   },
   "source": [
    "## 4659. 비밀번호 발음하기"
   ]
  },
  {
   "cell_type": "code",
   "execution_count": null,
   "id": "e0cf76aa-1cd8-4576-bf5a-80cc2299c286",
   "metadata": {},
   "outputs": [],
   "source": [
    "while True:\n",
    "    # 입력 받기\n",
    "    password = input()\n",
    "    \n",
    "    # end 조건\n",
    "    if password == 'end':\n",
    "        break\n",
    "    \n",
    "    vowels = 'aeiou'\n",
    "    # flag 변수\n",
    "    is_acceptable = True  \n",
    "    \n",
    "    # 1번 조건: 모음이 없을 경우 불가\n",
    "    if not any(vowel in password for vowel in vowels):\n",
    "        is_acceptable = False\n",
    "    \n",
    "    # 2번 조건: 3개 연속 모음 혹은 자음일 경우 불가\n",
    "    vowel_cnt = 0\n",
    "    conso_cnt = 0\n",
    "    for char in password:\n",
    "        if char in vowels:\n",
    "            vowel_cnt += 1\n",
    "            conso_cnt = 0\n",
    "        else:\n",
    "            conso_cnt += 1\n",
    "            vowel_cnt = 0\n",
    "            \n",
    "        if vowel_cnt == 3 or conso_cnt == 3:\n",
    "            is_acceptable = False\n",
    "            break\n",
    "    \n",
    "    # 3번 조건: 같은 글자 연속 2번일 경우 불가하나, e와 o는 가능\n",
    "    for i in range(1, len(password)):\n",
    "        if password[i] == password[i-1] and password[i] not in {'e', 'o'}:\n",
    "            is_acceptable = False\n",
    "            break\n",
    "    \n",
    "    if is_acceptable:\n",
    "        print(f'<{password}> is acceptable.')\n",
    "    else:\n",
    "        print(f'<{password}> is not acceptable.')"
   ]
  },
  {
   "cell_type": "markdown",
   "id": "7bd5366c-9a4b-4300-917f-13ee35680485",
   "metadata": {
    "jp-MarkdownHeadingCollapsed": true,
    "tags": []
   },
   "source": [
    "# 2024-06-14"
   ]
  },
  {
   "cell_type": "markdown",
   "id": "e144f56f-cea1-4c88-a7b5-fc2d32630b92",
   "metadata": {},
   "source": [
    "## 5800. 성적 통계"
   ]
  },
  {
   "cell_type": "code",
   "execution_count": null,
   "id": "2e64af4b-56f9-4365-8f30-33eb433f0a21",
   "metadata": {},
   "outputs": [],
   "source": [
    "# 총 반 수 입력 받기\n",
    "K = int(input())\n",
    "\n",
    "# 초기 반 번호 설정\n",
    "class_number = 1\n",
    "\n",
    "for _ in range(K):\n",
    "    # 각 반의 점수 리스트 입력 받기\n",
    "    input_list = list(map(int, input().split()))\n",
    "    \n",
    "    # 첫 번째 원소는 학생 수이므로 제외하고 점수만 추출\n",
    "    scores = input_list[1:]\n",
    "    \n",
    "    # 점수를 내림차순으로 정렬\n",
    "    scores.sort(reverse=True)\n",
    "    \n",
    "    # 최고 점수와 최저 점수 구하기\n",
    "    max_score = max(scores)\n",
    "    min_score = min(scores)\n",
    "    \n",
    "    # 인접한 두 점수의 차이 중 가장 큰 값을 찾음\n",
    "    largest_gap = max(scores[i - 1] - scores[i] for i in range(1, len(scores)))\n",
    "    \n",
    "    # 결과 출력\n",
    "    print(f'Class {class_number}')\n",
    "    print(f'Max {max_score}, Min {min_score}, Largest gap {largest_gap}')\n",
    "    \n",
    "    # 다음 반 번호로 증가\n",
    "    class_number += 1"
   ]
  },
  {
   "cell_type": "markdown",
   "id": "e419286c-566c-45a9-aa1a-30c98a5ebe6d",
   "metadata": {
    "jp-MarkdownHeadingCollapsed": true,
    "tags": []
   },
   "source": [
    "# 2024-06-15"
   ]
  },
  {
   "cell_type": "markdown",
   "id": "87e518fb-2d3c-495c-9036-0038b85fd608",
   "metadata": {},
   "source": [
    "## 11576. Base Conversation"
   ]
  },
  {
   "cell_type": "code",
   "execution_count": null,
   "id": "aa4d2e99-0892-4ad5-83e6-78fcf8f21832",
   "metadata": {},
   "outputs": [],
   "source": [
    "# 입력 받기\n",
    "A, B = map(int, input().split())\n",
    "m = int(input())\n",
    "\n",
    "# 숫자의 자릿수가 낮은 순서부터 나열\n",
    "arr = list(map(int, input().split()))[::-1]\n",
    "\n",
    "# 10진수로 변환\n",
    "base_10 = 0\n",
    "for i in range(m):\n",
    "    base_10 += arr[i] * (A**i)\n",
    "    \n",
    "# B 진수로 변환\n",
    "answer = []\n",
    "while base_10 // B:\n",
    "    answer.append(base_10 % B)\n",
    "    base_10 //= B\n",
    "answer.append(base_10)\n",
    "\n",
    "print(' '.join(map(str, answer[::-1])))"
   ]
  },
  {
   "cell_type": "markdown",
   "id": "181f52d9-61b8-4fb8-af84-80e0d73ab0ac",
   "metadata": {
    "jp-MarkdownHeadingCollapsed": true,
    "tags": []
   },
   "source": [
    "# 2024-06-16"
   ]
  },
  {
   "cell_type": "markdown",
   "id": "ce52b506-b7f9-4aca-956b-682c3c54fbe1",
   "metadata": {},
   "source": [
    "## 10448. 유레카 이론"
   ]
  },
  {
   "cell_type": "code",
   "execution_count": null,
   "id": "c8f90746-f5c7-4390-82f7-130133f7bafe",
   "metadata": {},
   "outputs": [],
   "source": [
    "# 입력 받기\n",
    "T = int(input())\n",
    "\n",
    "# 삼각수 리스트 생성\n",
    "triangle = [i * (i+1) // 2 for i in range(1,46)]\n",
    "\n",
    "# 정답 리스트 생성\n",
    "answer = [0] * 1001\n",
    "\n",
    "# 세 개의 삼각수의 합으로 만들 수 있는 숫자를 체크\n",
    "for i in triangle:\n",
    "    for j in triangle:\n",
    "        for k in triangle:\n",
    "            # 세 삼각수의 합으로 만들 수 있으면 1로 설정\n",
    "            if i+j+k <= 1000:\n",
    "                answer[i+j+k] = 1\n",
    "                \n",
    "for _ in range(T):\n",
    "    print(answer[int(input())])"
   ]
  },
  {
   "cell_type": "markdown",
   "id": "f77d26ce-b046-4cee-bc39-3f1d2cc0ab44",
   "metadata": {
    "jp-MarkdownHeadingCollapsed": true,
    "tags": []
   },
   "source": [
    "# 2024-06-17"
   ]
  },
  {
   "cell_type": "markdown",
   "id": "0e1b48c2-76eb-4ba8-b6ab-e52836745145",
   "metadata": {},
   "source": [
    "## 12789. 도키도키 간식드리미"
   ]
  },
  {
   "cell_type": "code",
   "execution_count": null,
   "id": "e68c9646-d7ef-4259-914b-f51f31945762",
   "metadata": {},
   "outputs": [],
   "source": [
    "import sys\n",
    "input = sys.stdin.readline\n",
    "\n",
    "# 입력 받기\n",
    "N = int(input())\n",
    "students = list(map(int, input().split()))\n",
    "\n",
    "# 스택과 현재 차례 변수 초기화\n",
    "stack = []\n",
    "turn = 1\n",
    "\n",
    "for student in students:\n",
    "    stack.append(student)\n",
    "    \n",
    "    # 스택의 마지막 요소가 현재 차례와 일치할 경우 계속해서 pop\n",
    "    while stack and stack[-1] == turn:\n",
    "        stack.pop()\n",
    "        turn += 1\n",
    "\n",
    "# 스택이 비어있지 않으면 Sad\n",
    "if stack:\n",
    "    print('Sad')\n",
    "# 스택이 비어있으면 Nice\n",
    "else:\n",
    "    print('Nice')"
   ]
  },
  {
   "cell_type": "markdown",
   "id": "9ca47dc5-683e-41db-a299-2ee43d12896a",
   "metadata": {
    "jp-MarkdownHeadingCollapsed": true,
    "tags": []
   },
   "source": [
    "# 2024-06-18"
   ]
  },
  {
   "cell_type": "markdown",
   "id": "75388761-e0e4-4ee9-96e8-5633b6e52a32",
   "metadata": {},
   "source": [
    "## 28279. 덱 2"
   ]
  },
  {
   "cell_type": "code",
   "execution_count": null,
   "id": "d11231c7-3515-4759-9131-87aa66241d6f",
   "metadata": {},
   "outputs": [],
   "source": [
    "from collections import deque\n",
    "import sys\n",
    "input = sys.stdin.readline\n",
    "\n",
    "N = int(input())\n",
    "answer = deque()\n",
    "\n",
    "for _ in range(N):\n",
    "    command = input().split()\n",
    "    \n",
    "    if command[0] == '1':\n",
    "        answer.appendleft(command[1])\n",
    "    elif command[0] == '2':\n",
    "        answer.append(command[1])\n",
    "    elif command[0] == '3':\n",
    "        print(answer.popleft() if answer else -1)\n",
    "    elif command[0] == '4':\n",
    "        print(answer.pop() if answer else -1)\n",
    "    elif command[0] == '5':\n",
    "        print(len(answer))\n",
    "    elif command[0] == '6':\n",
    "        print(0 if answer else 1)\n",
    "    elif command[0] == '7':\n",
    "        print(answer[0] if answer else -1)\n",
    "    else:\n",
    "        print(answer[-1] if answer else -1)"
   ]
  },
  {
   "cell_type": "markdown",
   "id": "ff53cdf8-4eea-46e3-9e4b-f0dbe38ae46c",
   "metadata": {},
   "source": [
    "## 2346. 풍선 터뜨리기"
   ]
  },
  {
   "cell_type": "code",
   "execution_count": null,
   "id": "1693741b-cad3-4253-b44b-e83effd4a505",
   "metadata": {},
   "outputs": [],
   "source": [
    "from collections import deque\n",
    "\n",
    "N = int(input())\n",
    "\n",
    "deq = deque(enumerate(map(int, input().split())))\n",
    "answer = []\n",
    "\n",
    "while deq:\n",
    "    idx, turn = deq.popleft()\n",
    "    # 터뜨린 풍선 정답에 추가\n",
    "    answer.append(idx + 1)\n",
    "    \n",
    "    # 풍선 안 숫자가 양수일 때\n",
    "    if turn > 0:\n",
    "        # turn만큼 오른쪽에 위치한 풍선 삭제하기 위해 왼쪽으로 회전\n",
    "        deq.rotate(-(turn - 1))\n",
    "    else:\n",
    "        # turn만큼 왼쪽에 위치한 풍선 삭제하기 위해 오른쪽으로 회전 \n",
    "        deq.rotate(-turn)\n",
    "\n",
    "print(' '.join(map(str, answer)))"
   ]
  },
  {
   "cell_type": "markdown",
   "id": "81114141-45ca-4959-a72f-1c0fb424b965",
   "metadata": {},
   "source": [
    "## 24511. queuestack"
   ]
  },
  {
   "cell_type": "code",
   "execution_count": null,
   "id": "82dc9211-7bd9-49eb-992b-1dfec20fb82e",
   "metadata": {},
   "outputs": [],
   "source": [
    "from collections import deque\n",
    "import sys\n",
    "input = sys.stdin.readline\n",
    "\n",
    "N = int(input())\n",
    "A = list(map(int, input().split()))\n",
    "B = list(map(int, input().split()))\n",
    "M = int(input())\n",
    "C = list(map(int, input().split()))\n",
    "\n",
    "queue = deque()\n",
    "\n",
    "for i in range(N):\n",
    "    if A[i] == 0:\n",
    "        queue.append(B[i])\n",
    "        \n",
    "for j in range(M):\n",
    "    queue.appendleft(C[j])\n",
    "    print(queue.pop(), end=' ')"
   ]
  },
  {
   "cell_type": "markdown",
   "id": "1c136a68-8f4d-417b-8387-6a7807d7fbdb",
   "metadata": {
    "jp-MarkdownHeadingCollapsed": true,
    "tags": []
   },
   "source": [
    "# 2024-06-19"
   ]
  },
  {
   "cell_type": "markdown",
   "id": "19a55cca-701d-458e-9fdf-7c12ae1e917b",
   "metadata": {},
   "source": [
    "## 11557. Yangjojang of The Year"
   ]
  },
  {
   "cell_type": "code",
   "execution_count": null,
   "id": "1bd252d3-3afa-4433-a258-5cc35d25db30",
   "metadata": {},
   "outputs": [],
   "source": [
    "import sys\n",
    "input = sys.stdin.readline\n",
    "\n",
    "# 테스트 케이스 수 입력 받기\n",
    "T = int(input())\n",
    "\n",
    "for _ in range(T):\n",
    "    # 학교 숫자 입력 받기\n",
    "    N = int(input())\n",
    "    \n",
    "    # 정답 변수\n",
    "    answer = ''\n",
    "    \n",
    "    # 현재까지 최대 음료수 소비량 변수\n",
    "    max_drink = 0\n",
    "    \n",
    "    for _ in range(N):\n",
    "        # 학교 이름과 음료수 소비량 입력 받기\n",
    "        school, drink = input().split()\n",
    "        \n",
    "        # 현재 음료수 소비량을 정수로 변환하여 임시 저장\n",
    "        tmp = int(drink)\n",
    "        \n",
    "        # 현재 음료수 소비량이 최대 소비량보다 크면\n",
    "        if max_drink < tmp:\n",
    "            # 최대 소비량 갱신\n",
    "            max_drink = tmp\n",
    "            \n",
    "            # 정답 갱신\n",
    "            answer = school\n",
    "    \n",
    "    print(answer)"
   ]
  },
  {
   "cell_type": "code",
   "execution_count": null,
   "id": "a3488376-ca7a-49d6-8108-3e2c1f6c1c55",
   "metadata": {},
   "outputs": [],
   "source": [
    "import sys\n",
    "input = sys.stdin.readline\n",
    "\n",
    "# 테스트 케이스 수 입력 받기\n",
    "T = int(input())\n",
    "\n",
    "for _ in range(T):\n",
    "    # 학교 숫자 입력 받기\n",
    "    N = int(input())\n",
    "    \n",
    "    # 학교와 음료수 소비량을 저장할 리스트\n",
    "    schools = []\n",
    "    \n",
    "    for _ in range(N):\n",
    "        # 학교 이름과 음료수 소비량 입력 받기\n",
    "        school, drink = input().split()\n",
    "        \n",
    "        # 튜플을 리스트에 추가\n",
    "        schools.append((school,int(drink)))\n",
    "    \n",
    "    # 음료수 소비량을 기준으로 내림차순 정렬\n",
    "    schools.sort(key= lambda x: x[1], reverse=True)\n",
    "    \n",
    "    # 음료수 소비량이 가장 많은 학교의 이름 출력\n",
    "    print(schools[0][0])"
   ]
  },
  {
   "cell_type": "markdown",
   "id": "312a578e-188c-44c3-b960-66d46fb2b329",
   "metadata": {
    "jp-MarkdownHeadingCollapsed": true,
    "tags": []
   },
   "source": [
    "# 2024-06-20"
   ]
  },
  {
   "cell_type": "markdown",
   "id": "70884bcb-e578-4878-96f9-1624fd70fc98",
   "metadata": {
    "jp-MarkdownHeadingCollapsed": true,
    "tags": []
   },
   "source": [
    "## 24723. 녹색거탑"
   ]
  },
  {
   "cell_type": "code",
   "execution_count": null,
   "id": "c2340d1e-3897-44a9-872b-75950a1859c5",
   "metadata": {},
   "outputs": [],
   "source": [
    "N = int(input())\n",
    "print(2**N)"
   ]
  },
  {
   "cell_type": "markdown",
   "id": "c0110529-6f83-4223-a3fc-b1dfef19062f",
   "metadata": {},
   "source": [
    "## 25192. 인사성 밝은 곰곰이"
   ]
  },
  {
   "cell_type": "code",
   "execution_count": null,
   "id": "3fff7bf3-83c6-4658-8916-e0ac2f6e7b25",
   "metadata": {},
   "outputs": [],
   "source": [
    "import sys\n",
    "input = sys.stdin.readline\n",
    "\n",
    "# 입력 받기\n",
    "N = int(input())\n",
    "\n",
    "# 현재 세션의 로그를 저장할 집합과 정답 변수 초기화\n",
    "current_session_logs = set()\n",
    "answer = 0\n",
    "\n",
    "for _ in range(N):\n",
    "    log = input().rstrip()\n",
    "    \n",
    "    if log == 'ENTER':\n",
    "        # 새로운 세션 시작, 현재 세션의 유니크 사용자 수를 정답에 더하고 초기화\n",
    "        answer += len(current_session_logs)\n",
    "        current_session_logs.clear()\n",
    "    else:\n",
    "        # 새로운 사용자의 로그를 집합에 추가\n",
    "        current_session_logs.add(log)\n",
    "        \n",
    "# 마지막 세션의 유니크 사용자 수를 정답에 더함\n",
    "answer += len(current_session_logs)\n",
    "    \n",
    "print(answer)"
   ]
  },
  {
   "cell_type": "markdown",
   "id": "c12a95ff-6c0b-4262-b41b-1ab0223140dc",
   "metadata": {},
   "source": [
    "## 26069. 붙임성 좋은 총총이"
   ]
  },
  {
   "cell_type": "code",
   "execution_count": null,
   "id": "0c95a8ef-8fe2-4c1d-b12c-7657b1dd9bd1",
   "metadata": {},
   "outputs": [],
   "source": [
    "import sys\n",
    "input = sys.stdin.readline\n",
    "\n",
    "N = int(input())\n",
    "\n",
    "dancer = {'ChongChong'}\n",
    "\n",
    "for _ in range(N):\n",
    "    log = input().split()\n",
    "    \n",
    "    # 교집합이 있으면\n",
    "    if dancer & set(log):  \n",
    "        # log 전체를 dancer set에 추가\n",
    "        dancer.update(log)  \n",
    "            \n",
    "print(len(dancer))"
   ]
  },
  {
   "cell_type": "markdown",
   "id": "05333012-64b9-4857-b569-38bb6c9ea1a5",
   "metadata": {
    "jp-MarkdownHeadingCollapsed": true,
    "tags": []
   },
   "source": [
    "# 2024-06-21"
   ]
  },
  {
   "cell_type": "markdown",
   "id": "759acb4b-cbae-403d-91f0-ac4784bb4f27",
   "metadata": {},
   "source": [
    "## 2628. 종이자르기"
   ]
  },
  {
   "cell_type": "code",
   "execution_count": null,
   "id": "60fffb65-343c-4b9a-9e2d-71b7a259590c",
   "metadata": {},
   "outputs": [],
   "source": [
    "# 가로, 세로 길이 입력 받기\n",
    "w, h = map(int, input().split())\n",
    "\n",
    "# 각각의 길이 시작과 끝을 리스트에 저장\n",
    "width = [0, w]\n",
    "height = [0, h]\n",
    "\n",
    "# 자르는 횟수 입력 받기\n",
    "N = int(input())\n",
    "\n",
    "for _ in range(N):\n",
    "    w_h, length = map(int, input().split())\n",
    "    \n",
    "    # w_h가 0이면 가로로 잘라 세로 길이에 영향\n",
    "    if w_h == 0:\n",
    "        height.append(length)\n",
    "    # w_h가 0이 아니면(1이면) 세로로 잘라 가로 길이에 영향\n",
    "    else:\n",
    "        width.append(length)\n",
    "        \n",
    "# 점선 위치 정렬\n",
    "width.sort()\n",
    "height.sort()\n",
    "\n",
    "# 정답 변수 초기화\n",
    "answer = 0\n",
    "\n",
    "for i in range(len(width)-1):\n",
    "    for j in range(len(height)-1):\n",
    "        # 점선 사이의 가로, 세로 길이 구하기\n",
    "        x = width[i+1] - width[i]\n",
    "        y = height[j+1] - height[j]\n",
    "        \n",
    "        # 가장 큰 넓이 업데이트\n",
    "        answer = max(answer, x*y)\n",
    "        \n",
    "print(answer)"
   ]
  },
  {
   "cell_type": "markdown",
   "id": "50461c3c-0e5d-45c4-bb2f-ab9bc987aee7",
   "metadata": {
    "jp-MarkdownHeadingCollapsed": true,
    "tags": []
   },
   "source": [
    "# 2024-06-22"
   ]
  },
  {
   "cell_type": "markdown",
   "id": "8c433547-a575-4e3f-84ec-6ddb516f00fd",
   "metadata": {},
   "source": [
    "## 1769. 3의 배수"
   ]
  },
  {
   "cell_type": "code",
   "execution_count": null,
   "id": "f1cb9871-cf60-406e-955e-f9f6a4bb96e0",
   "metadata": {},
   "outputs": [],
   "source": [
    "# 입력 받기\n",
    "X = input()\n",
    "# 변환 횟수를 세는 변수 초기화\n",
    "cnt = 0  \n",
    "\n",
    "# 입력값이 한 자리 숫자인 경우\n",
    "if len(X) == 1:\n",
    "    # Y를 입력값의 정수로 설정\n",
    "    Y = int(X)  \n",
    "else:\n",
    "    # 입력값이 두 자리 이상인 경우\n",
    "    while len(X) >= 2:\n",
    "        # 각 자리 숫자의 합을 계산하여 Y에 저장\n",
    "        Y = sum(int(i) for i in X)\n",
    "        # Y를 문자열로 변환하여 X에 저장\n",
    "        X = str(Y)\n",
    "        # 변환 횟수를 증가시킴\n",
    "        cnt += 1  \n",
    "    \n",
    "# 변환 횟수를 출력\n",
    "print(cnt)\n",
    "# Y가 3의 배수인지 확인하여 YES 또는 NO 출력\n",
    "print('YES' if Y % 3 == 0 else 'NO')"
   ]
  },
  {
   "cell_type": "code",
   "execution_count": null,
   "id": "5133ffc2-c39b-41db-a5dd-378a78848f5c",
   "metadata": {},
   "outputs": [],
   "source": [
    "# 입력 받기\n",
    "X = input()\n",
    "# 변환 횟수를 세는 변수 초기화\n",
    "cnt = 0  \n",
    "\n",
    "# 입력값이 두 자리 이상인 경우\n",
    "if len(X) > 1:\n",
    "    while len(X) > 1:\n",
    "        # 각 자리 숫자의 합을 계산하여 X에 문자열로 저장\n",
    "        X = str(sum(int(i) for i in X))\n",
    "        # 변환 횟수를 증가시킴\n",
    "        cnt += 1  \n",
    "\n",
    "# 최종 결과를 Y에 정수로 저장\n",
    "Y = int(X)\n",
    "\n",
    "# 변환 횟수를 출력\n",
    "print(cnt)\n",
    "# Y가 3의 배수인지 확인하여 YES 또는 NO 출력\n",
    "print('YES' if Y % 3 == 0 else 'NO')"
   ]
  },
  {
   "cell_type": "markdown",
   "id": "61647acb-bb93-4c37-a0e3-23692cf9ad52",
   "metadata": {
    "jp-MarkdownHeadingCollapsed": true,
    "tags": []
   },
   "source": [
    "# 2024-06-23"
   ]
  },
  {
   "cell_type": "markdown",
   "id": "81a17ae7-de30-42ab-883a-c444f22364a3",
   "metadata": {},
   "source": [
    "## 2846. 오르막길"
   ]
  },
  {
   "cell_type": "code",
   "execution_count": null,
   "id": "a2cfebe8-e7ef-42c5-bb78-fd9563fb070c",
   "metadata": {},
   "outputs": [],
   "source": [
    "# 입력 받기\n",
    "N = int(input())\n",
    "arr = list(map(int, input().split()))\n",
    "\n",
    "# 오르막 길의 길이를 저장할 임시 변수 초기화\n",
    "tmp = 0\n",
    "# 오르막 길의 길이를 저장할 리스트 초기화\n",
    "answer = []\n",
    "\n",
    "for i in range(len(arr)-1):\n",
    "    # 현재 요소와 다음 요소를 비교하여 오르막인지 확인\n",
    "    if arr[i] < arr[i+1]:\n",
    "        # 오르막인 경우 tmp에 차이만큼 추가\n",
    "        tmp += arr[i+1] - arr[i]\n",
    "    else:\n",
    "        # 오르막이 끝난 경우, 현재까지의 오르막 길이 저장 후 tmp 초기화\n",
    "        answer.append(tmp)\n",
    "        tmp = 0\n",
    "        \n",
    "# 마지막 오르막 길이 추가\n",
    "answer.append(tmp)\n",
    "# 가장 긴 오르막 길이 출력\n",
    "print(max(answer))"
   ]
  },
  {
   "cell_type": "markdown",
   "id": "f8a33822-96cc-4d69-8a5f-2ac3bc43d496",
   "metadata": {
    "jp-MarkdownHeadingCollapsed": true,
    "tags": []
   },
   "source": [
    "# 2024-06-24"
   ]
  },
  {
   "cell_type": "markdown",
   "id": "bf94d109-c90d-45f6-91f4-00e24ee9db45",
   "metadata": {
    "jp-MarkdownHeadingCollapsed": true,
    "tags": []
   },
   "source": [
    "## 2828. 사과담기 게임"
   ]
  },
  {
   "cell_type": "code",
   "execution_count": null,
   "id": "ccd672e2-52e0-425c-a8b7-19a22ccf9e9e",
   "metadata": {},
   "outputs": [],
   "source": [
    "import sys\n",
    "input = sys.stdin.readline\n",
    "\n",
    "# 입력 받기\n",
    "N, M = map(int, input().split())\n",
    "J = int(input())\n",
    "\n",
    "# 바구니의 위치 변수 초기화 \n",
    "start = 1\n",
    "end = M\n",
    "\n",
    "# 정답 변수 초기화\n",
    "answer = 0\n",
    "\n",
    "for _ in range(J):\n",
    "    # 사과 위치 입력 받기\n",
    "    j = int(input())\n",
    "    \n",
    "    # 바구니가 사과가 떨어지는 칸을 차지하고 있으면 pass\n",
    "    if start <= j <= end:\n",
    "        pass\n",
    "    # 사과가 바구니보다 오른쪽으로 떨어진다면\n",
    "    elif end < j:\n",
    "        # 사과를 받을 수 있을 때까지 오른쪽으로 이동\n",
    "        while end < j:\n",
    "            start += 1\n",
    "            end += 1\n",
    "            answer += 1\n",
    "    # 사과가 바구니보다 왼쪽으로 떨어진다면      \n",
    "    elif start > j:\n",
    "        # 사과를 받을 수 있을 때까지 왼쪽으로 이동\n",
    "        while start > j:\n",
    "            start -= 1\n",
    "            end -= 1\n",
    "            answer += 1\n",
    "            \n",
    "print(answer)        "
   ]
  },
  {
   "cell_type": "markdown",
   "id": "8a371812-9a68-49b2-afc4-d12ad62f8d6a",
   "metadata": {
    "tags": []
   },
   "source": [
    "## 20920. 영단어 암기는 괴로워"
   ]
  },
  {
   "cell_type": "code",
   "execution_count": null,
   "id": "2f6a806b-a089-410c-8c32-d5bb395dfdac",
   "metadata": {
    "tags": []
   },
   "outputs": [],
   "source": [
    "import sys\n",
    "input = sys.stdin.readline\n",
    "\n",
    "# 입력 받기\n",
    "N, M = map(int, input().split())\n",
    "\n",
    "# 단어 저장할 딕셔너리 초기화\n",
    "word_count = {}\n",
    "\n",
    "for _ in range(N):\n",
    "    # 단어 입력 받기\n",
    "    word = input().rstrip()\n",
    "    \n",
    "    # 단어 길이가 M보다 적을 경우 제외\n",
    "    if len(word) < M:\n",
    "        continue\n",
    "    \n",
    "    # 단어의 빈도 수를 딕셔너리에 저장\n",
    "    word_count[word] = word_count.get(word, 0) + 1\n",
    "\n",
    "# 단어들을 정렬\n",
    "# 1. 빈도수 내림차순\n",
    "# 2. 길이 내림차순\n",
    "# 3. 알파벳 순서\n",
    "sorted_words = sorted(word_count.items(), key=lambda x: (-x[1], -len(x[0]), x[0]))\n",
    "\n",
    "for word, count in sorted_words:\n",
    "    print(word)"
   ]
  },
  {
   "cell_type": "markdown",
   "id": "49aa3d6c-f375-48c1-8be9-5788349afa54",
   "metadata": {
    "tags": []
   },
   "source": [
    "## 27433. 팩토리얼 2"
   ]
  },
  {
   "cell_type": "code",
   "execution_count": null,
   "id": "5bce14f9-2668-4a22-851e-f63f756b7cd6",
   "metadata": {
    "tags": []
   },
   "outputs": [],
   "source": [
    "# 팩토리얼 계산 (answer 변수 기본값 1로 설정)\n",
    "def factorial(N, answer=1):\n",
    "    if N <= 1:\n",
    "        return answer\n",
    "    else:\n",
    "        return factorial(N - 1, answer * N)\n",
    "\n",
    "N = int(input())\n",
    "print(factorial(N))"
   ]
  },
  {
   "cell_type": "markdown",
   "id": "c14dfa30-149d-48f7-9167-153e31ec0783",
   "metadata": {
    "jp-MarkdownHeadingCollapsed": true,
    "tags": []
   },
   "source": [
    "# 2024-06-25"
   ]
  },
  {
   "cell_type": "markdown",
   "id": "c061dd23-6a97-4483-8dc4-a5a41a09b14c",
   "metadata": {},
   "source": [
    "## 1251. 단어 나누기"
   ]
  },
  {
   "cell_type": "code",
   "execution_count": null,
   "id": "1472eece-7ae2-474f-8c53-0ef05cbbb8ce",
   "metadata": {},
   "outputs": [],
   "source": [
    "# 입력 받기\n",
    "word = list(input())\n",
    "# 정답 변수 초기화\n",
    "answer = []\n",
    "\n",
    "for i in range(1, len(word) - 1):\n",
    "    for j in range(i + 1, len(word)):\n",
    "        # 슬라이싱과 역순 정렬을 한번에 수행\n",
    "        a = word[:i][::-1]  \n",
    "        b = word[i:j][::-1]\n",
    "        c = word[j:][::-1]\n",
    "        \n",
    "        # 단어를 정답 변수에 추가\n",
    "        answer.append(''.join(a + b + c))\n",
    "\n",
    "# 사전순으로 가장 앞 단어 출력\n",
    "print(min(answer))  "
   ]
  },
  {
   "cell_type": "markdown",
   "id": "f44e64fe-59c2-49ee-879a-0c2be21baefb",
   "metadata": {
    "jp-MarkdownHeadingCollapsed": true,
    "tags": []
   },
   "source": [
    "# 2024-06-26"
   ]
  },
  {
   "cell_type": "markdown",
   "id": "2094d367-7811-4a35-afca-3b1d2275806e",
   "metadata": {},
   "source": [
    "## 2810. 컵홀더"
   ]
  },
  {
   "cell_type": "code",
   "execution_count": null,
   "id": "3fd83297-8c44-4718-aa96-b742831e1ce1",
   "metadata": {},
   "outputs": [],
   "source": [
    "# 입력 받기\n",
    "N = int(input())\n",
    "seats = input()\n",
    "\n",
    "# 커플석 개수 세기\n",
    "couple = seats.count('LL')\n",
    "\n",
    "# 커플석이 1개 이하일 경우 모든 사람 사용 가능\n",
    "if couple <= 1:\n",
    "    print(N)\n",
    "else:\n",
    "    print(N+1 - couple)"
   ]
  },
  {
   "cell_type": "markdown",
   "id": "f61a2a79-02f1-423e-8763-bff395cf88e2",
   "metadata": {
    "jp-MarkdownHeadingCollapsed": true,
    "tags": []
   },
   "source": [
    "# 2024-06-27"
   ]
  },
  {
   "cell_type": "markdown",
   "id": "b54365f0-821f-4104-84a1-ab68aeabdd20",
   "metadata": {},
   "source": [
    "## 1834. 나머지와 몫이 같은 수"
   ]
  },
  {
   "cell_type": "code",
   "execution_count": null,
   "id": "cbf35402-c40c-486d-ac6a-a458ec7c3665",
   "metadata": {},
   "outputs": [],
   "source": [
    "# 입력받기\n",
    "N = int(input())\n",
    "\n",
    "# 정답 변수 초기화\n",
    "answer = 0 \n",
    "\n",
    "# 몫과 나머지가 같은 수 정답 변수에 더하기\n",
    "for i in range(1, N):\n",
    "    answer += N*i + i\n",
    "        \n",
    "print(answer)"
   ]
  },
  {
   "cell_type": "markdown",
   "id": "97774cd5-9882-449b-ad8b-c914a9959003",
   "metadata": {},
   "source": [
    "## 2947. 나무 조각"
   ]
  },
  {
   "cell_type": "code",
   "execution_count": null,
   "id": "f9aac2b9-2556-4f97-a6f5-151bc8f28549",
   "metadata": {},
   "outputs": [],
   "source": [
    "# 입력 받기 \n",
    "arr = list(map(int, input().split()))\n",
    "\n",
    "# 대조할 정답 변수\n",
    "answer = [1, 2, 3, 4, 5]\n",
    "\n",
    "while True:\n",
    "    for i in range(4):\n",
    "        # i가 i+1보다 클 경우 변경을 반복\n",
    "        if arr[i] > arr[i+1]:\n",
    "            arr[i], arr[i+1] = arr[i+1], arr[i]\n",
    "            \n",
    "            # 변경될 때마다 출력\n",
    "            print(*arr)\n",
    "    \n",
    "    # arr과 answer이 같아지면 break\n",
    "    if arr == answer:\n",
    "        break"
   ]
  },
  {
   "cell_type": "markdown",
   "id": "fdaa8d1f-54f3-4275-985c-2796f27ee2f1",
   "metadata": {
    "jp-MarkdownHeadingCollapsed": true,
    "tags": []
   },
   "source": [
    "# 2024-06-28"
   ]
  },
  {
   "cell_type": "markdown",
   "id": "0536ce8a-531c-49f7-a85e-3016d64cf82f",
   "metadata": {},
   "source": [
    "## 14696. 딱지놀이"
   ]
  },
  {
   "cell_type": "code",
   "execution_count": null,
   "id": "057f30ab-c348-4cfb-89c6-73333e2d61d5",
   "metadata": {},
   "outputs": [],
   "source": [
    "import sys\n",
    "input = sys.stdin.readline\n",
    "\n",
    "# 입력받기\n",
    "N = int(input())\n",
    "\n",
    "for _ in range(N):\n",
    "    # 딱지 수 제외하고 리스트 생성\n",
    "    A = list(map(int, input().split()))[1:]\n",
    "    B = list(map(int, input().split()))[1:]\n",
    "    \n",
    "    # 리스트의 각 개수 비교\n",
    "    for i in range(4, 0, -1):\n",
    "        a_count = A.count(i)\n",
    "        b_count = B.count(i)\n",
    "        if a_count > b_count:\n",
    "            print('A')\n",
    "            break\n",
    "        elif a_count < b_count:\n",
    "            print('B')\n",
    "            break\n",
    "    # 반복문 완료 후에도 승부가 나지 않을 경우 D 출력\n",
    "    else:\n",
    "        print('D')"
   ]
  },
  {
   "cell_type": "markdown",
   "id": "8bbdd222-0fe6-4058-92df-9e1306202fa2",
   "metadata": {
    "jp-MarkdownHeadingCollapsed": true,
    "tags": []
   },
   "source": [
    "# 2024-07-01"
   ]
  },
  {
   "cell_type": "markdown",
   "id": "19faf83e-b65b-43f9-8980-6e19655e1254",
   "metadata": {},
   "source": [
    "## 11170. 0의 개수"
   ]
  },
  {
   "cell_type": "code",
   "execution_count": null,
   "id": "a96e4c24-bff8-4e75-8c2a-3e728767d4a4",
   "metadata": {},
   "outputs": [],
   "source": [
    "import sys\n",
    "input = sys.stdin.readline\n",
    "\n",
    "# 테스트 개수 입력 받기\n",
    "T = int(input())\n",
    "\n",
    "for _ in range(T):\n",
    "    # N, M 입력 받기\n",
    "    N, M = map(int, input().split())\n",
    "    \n",
    "    # 정답 변수 초기화\n",
    "    answer = 0\n",
    "    \n",
    "    # N부터 M까지 숫자의 0의 개수 세어 정답에 추가\n",
    "    for num in range(N, M+1):\n",
    "        answer += str(num).count('0')\n",
    "            \n",
    "    print(answer)"
   ]
  },
  {
   "cell_type": "markdown",
   "id": "c67e2ec0-38b3-4567-be0a-d35a85f7997e",
   "metadata": {},
   "source": [
    "## 1526. 가장 큰 금민수"
   ]
  },
  {
   "cell_type": "code",
   "execution_count": null,
   "id": "b7c6cfd3-7db8-47a3-a7c0-0e6232c2d02a",
   "metadata": {},
   "outputs": [],
   "source": [
    "# 입력 받기\n",
    "N = int(input())\n",
    "\n",
    "# 역순으로 조회하여 가장 큰 수 찾기\n",
    "for num in range(N,3,-1):\n",
    "    # num의 각 자릿수가 4 또는 7로만 구성될 경우에 break\n",
    "    if all(digit in {'4', '7'} for digit in str(num)):\n",
    "        print(num)\n",
    "        break"
   ]
  },
  {
   "cell_type": "markdown",
   "id": "b8bf489c-893e-4d91-aa3d-062cbdf022d9",
   "metadata": {},
   "source": [
    "## 14659. 한조서열정리하고옴ㅋㅋ"
   ]
  },
  {
   "cell_type": "code",
   "execution_count": null,
   "id": "754cc8b1-f17d-4923-a739-e1f9a60020f9",
   "metadata": {},
   "outputs": [],
   "source": [
    "# 입력 받기\n",
    "N = int(input())\n",
    "arr = list(map(int, input().split()))\n",
    "\n",
    "# 최고 높이 변수\n",
    "max_height = 0\n",
    "\n",
    "# 현재 봉우리보다 낮은 봉우리 개수 변수\n",
    "cnt = 0\n",
    "\n",
    "# 정답 변수\n",
    "answer = 0\n",
    "\n",
    "for i in arr:\n",
    "    # 현재 봉우리가 지금까지 가장 높은 봉우리보다 높다면\n",
    "    if i > max_height:\n",
    "        # 현재 봉우리 높이로 갱신\n",
    "        max_height = i\n",
    "        # 낮은 봉우리 개수 초기화\n",
    "        cnt = 0\n",
    "        \n",
    "    # 현재 봉우리가 지금까지 가장 높은 봉우리보다 낮다면\n",
    "    if i < max_height:\n",
    "        # 낮은 봉우리 개수 증가\n",
    "        cnt += 1\n",
    "        \n",
    "    # 최대 개수 갱신\n",
    "    answer = max(cnt, answer)\n",
    "    \n",
    "print(answer)"
   ]
  },
  {
   "cell_type": "markdown",
   "id": "1d60c432-0188-4024-8c3f-70db058039f8",
   "metadata": {
    "jp-MarkdownHeadingCollapsed": true,
    "tags": []
   },
   "source": [
    "# 2024-07-02"
   ]
  },
  {
   "cell_type": "markdown",
   "id": "52f64a3b-10f4-4f81-8dfa-c0bf312dd3a4",
   "metadata": {},
   "source": [
    "## 14467. 소가 길을 건너간 이유 1"
   ]
  },
  {
   "cell_type": "code",
   "execution_count": null,
   "id": "50b8c7ae-617d-451f-92af-e3da5ed89bfa",
   "metadata": {},
   "outputs": [],
   "source": [
    "import sys\n",
    "input = sys.stdin.readline\n",
    "\n",
    "# 입력 받기\n",
    "N = int(input())\n",
    "\n",
    "# 각 소의 위치를 None으로 초기화\n",
    "arr = [None] * 10  \n",
    "\n",
    "# 정답 변수\n",
    "answer = 0\n",
    "\n",
    "for _ in range(N):\n",
    "    # 입력 받기\n",
    "    cow, loc = map(int, input().split())\n",
    "    \n",
    "    # 소의 위치가 없거나, 입력받은 loc와 다를 경우\n",
    "    if arr[cow-1] is None or arr[cow-1] != loc:\n",
    "        \n",
    "        # 소의 위치가 존재했을 경우(소가 이동함) 정답에 추가\n",
    "        if arr[cow-1] is not None:\n",
    "            answer += 1\n",
    "            \n",
    "        # 소 위치 갱신\n",
    "        arr[cow-1] = loc\n",
    "\n",
    "print(answer)"
   ]
  },
  {
   "cell_type": "code",
   "execution_count": null,
   "id": "2f9e593c-89a3-4317-93cf-16f5577fbbd7",
   "metadata": {},
   "outputs": [],
   "source": [
    "import sys\n",
    "input = sys.stdin.readline\n",
    "\n",
    "# 입력 받기\n",
    "N = int(input())\n",
    "\n",
    "# 딕셔너리 초기화\n",
    "arr = {}\n",
    "\n",
    "# 정답 변수\n",
    "answer = 0\n",
    "\n",
    "for _ in range(N):\n",
    "    # 입력 받기\n",
    "    cow, loc = map(int, input().split())\n",
    "    \n",
    "    # 소의 위치가 없거나, 입력받은 loc와 다를 경우\n",
    "    if cow not in arr or arr[cow] != loc:\n",
    "        \n",
    "        # 소의 위치가 존재했을 경우(소가 이동함) 정답에 추가\n",
    "        if cow in arr:  \n",
    "            answer += 1\n",
    "            \n",
    "        # 소 위치 갱신    \n",
    "        arr[cow] = loc\n",
    "\n",
    "print(answer)"
   ]
  },
  {
   "cell_type": "markdown",
   "id": "5bebca3e-8f7e-408c-97e2-874c521aa851",
   "metadata": {
    "jp-MarkdownHeadingCollapsed": true,
    "tags": []
   },
   "source": [
    "# 2024-07-03"
   ]
  },
  {
   "cell_type": "markdown",
   "id": "570e0161-20a4-45f8-a5d4-fc551861df6e",
   "metadata": {},
   "source": [
    "## 2526. 싸이클"
   ]
  },
  {
   "cell_type": "code",
   "execution_count": null,
   "id": "09ef321c-50c7-4f24-955d-f9de4c154b02",
   "metadata": {
    "tags": []
   },
   "outputs": [],
   "source": [
    "# 입력 받기\n",
    "N, P = map(int, input().split())\n",
    "\n",
    "# 나머지들을 저장할 배열 초기화\n",
    "arr = []\n",
    "\n",
    "# 초기 나머지 값은 N\n",
    "rest = N\n",
    "\n",
    "while True:\n",
    "    # 다음 나머지 값 계산\n",
    "    rest = rest * N % P\n",
    "    \n",
    "    # 계산한 나머지 값이 배열에 존재하면 break\n",
    "    if rest in arr:\n",
    "        break\n",
    "    \n",
    "    # 나머지 값을 배열에 추가\n",
    "    arr.append(rest)\n",
    "\n",
    "# 주기가 시작된 지점 이후의 길이를 계산하여 출력\n",
    "print(len(arr)-arr.index(rest))"
   ]
  },
  {
   "cell_type": "markdown",
   "id": "d3a7180c-1898-491a-aab6-fd3514e14e51",
   "metadata": {
    "jp-MarkdownHeadingCollapsed": true,
    "tags": []
   },
   "source": [
    "# 2024-07-04"
   ]
  },
  {
   "cell_type": "markdown",
   "id": "58e27386-38fb-4784-a218-b1e5b814ef88",
   "metadata": {},
   "source": [
    "## 6996. 애너그램"
   ]
  },
  {
   "cell_type": "code",
   "execution_count": null,
   "id": "8a0c57f8-b4ba-42ac-97c3-f92160ab50a6",
   "metadata": {},
   "outputs": [],
   "source": [
    "import sys\n",
    "input = sys.stdin.readline\n",
    "\n",
    "# 테스트 개수 입력 받기\n",
    "N = int(input())\n",
    "\n",
    "for _ in range(N):\n",
    "    A, B = input().split()\n",
    "    \n",
    "    # 애너그램 여부 확인\n",
    "    if sorted(A) == sorted(B):\n",
    "        print(f'{A} & {B} are anagrams.')\n",
    "    else:\n",
    "        print(f'{A} & {B} are NOT anagrams.')"
   ]
  },
  {
   "cell_type": "markdown",
   "id": "a299d957-6181-4f1c-86b7-4e390da87ea9",
   "metadata": {
    "jp-MarkdownHeadingCollapsed": true,
    "tags": []
   },
   "source": [
    "# 2024-07-05"
   ]
  },
  {
   "cell_type": "markdown",
   "id": "67f5cbc0-e277-48e7-a71d-0fa9e04223c6",
   "metadata": {},
   "source": [
    "## 3985. 롤 케이크"
   ]
  },
  {
   "cell_type": "code",
   "execution_count": null,
   "id": "a371640e-d46d-4a3f-930d-81408f5520b2",
   "metadata": {},
   "outputs": [],
   "source": [
    "import sys\n",
    "input = sys.stdin.readline\n",
    "\n",
    "# 입력 받기\n",
    "L = int(input())\n",
    "N = int(input())\n",
    "\n",
    "# 케이크 배열 초기화\n",
    "cake_distribution = [0] * (L + 1)\n",
    "\n",
    "# 예상 최대 길이와 사람 변수 초기화\n",
    "max_expected_length, max_expected_person = 0, 0\n",
    "\n",
    "# 실제 케이크 조각 수령 개수 딕셔너리 초기화\n",
    "cake_count = {}\n",
    "\n",
    "for i in range(1, N + 1):\n",
    "    P, K = map(int, input().split())\n",
    "    \n",
    "    # 최대 요청 구간 길이와 그 사람 찾기\n",
    "    requested_length = K - P + 1\n",
    "    if requested_length > max_expected_length:\n",
    "        max_expected_length = requested_length\n",
    "        max_expected_person = i\n",
    "    \n",
    "    cake_count[i] = 0\n",
    "    \n",
    "    # 실제 케이크 배정\n",
    "    for j in range(P, K + 1):\n",
    "        if cake_distribution[j] == 0:\n",
    "            cake_distribution[j] = i\n",
    "            cake_count[i] += 1\n",
    "\n",
    "# 최대 요청 구간 길이를 요청한 사람 출력\n",
    "print(max_expected_person)\n",
    "# 실제로 가장 많은 케이크 조각을 차지한 사람 출력\n",
    "print(max(cake_count, key=cake_count.get))"
   ]
  },
  {
   "cell_type": "markdown",
   "id": "a843cd93-b6db-4d1f-9293-3bfe65547c4d",
   "metadata": {
    "jp-MarkdownHeadingCollapsed": true,
    "tags": []
   },
   "source": [
    "# 2024-07-06"
   ]
  },
  {
   "cell_type": "markdown",
   "id": "934af0bf-fd43-4d39-bee0-0ba8602c059c",
   "metadata": {},
   "source": [
    "## 1356. 유진수"
   ]
  },
  {
   "cell_type": "code",
   "execution_count": null,
   "id": "078ef17b-e8cf-4c1b-a354-080f0db61119",
   "metadata": {},
   "outputs": [],
   "source": [
    "import sys\n",
    "input = sys.stdin.readline\n",
    "\n",
    "# 입력받기\n",
    "N = input().rstrip()\n",
    "\n",
    "for i in range(1, len(N)):\n",
    "    # 왼쪽, 오른쪽 자리수 나누기\n",
    "    left = N[:i]\n",
    "    right = N[i:]\n",
    "        \n",
    "    left_mul, right_mul = 1, 1\n",
    "\n",
    "    # 왼쪽 자리수 곱 구하기\n",
    "    for l in left:\n",
    "        left_mul *= int(l)\n",
    "    # 오른쪽 자리수 곱 구하기\n",
    "    for r in right:\n",
    "        right_mul *= int(r)\n",
    "     \n",
    "    # 두 부분의 곱셈 결과가 같으면 'YES'를 출력하고 루프 종료\n",
    "    if left_mul == right_mul:\n",
    "        print('YES')\n",
    "        break     \n",
    "        \n",
    "# 두 부분의 곱셈 결과가 같은 경우가 없으면 'NO'를 출력\n",
    "else:\n",
    "    print('NO')"
   ]
  },
  {
   "cell_type": "markdown",
   "id": "017252f6-a257-40a2-8f91-67f2235401a9",
   "metadata": {
    "jp-MarkdownHeadingCollapsed": true,
    "tags": []
   },
   "source": [
    "# 2024-07-07"
   ]
  },
  {
   "cell_type": "markdown",
   "id": "2493b90e-94e0-48a1-8147-b39ed341202b",
   "metadata": {},
   "source": [
    "## 10163. 색종이"
   ]
  },
  {
   "cell_type": "code",
   "execution_count": null,
   "id": "d7c24efc-b65a-4552-ba91-2fa81e160753",
   "metadata": {},
   "outputs": [],
   "source": [
    "import sys\n",
    "input = sys.stdin.readline\n",
    "\n",
    "# 입력 받기\n",
    "N = int(input())\n",
    "# 최대 길이 격자 설정\n",
    "grid = [[0 for _ in range(1001)] for _ in range(1001)]\n",
    "\n",
    "# 색종이를 격자에 배치\n",
    "for i in range(1, N+1):\n",
    "    x1, y1, x2, y2 = map(int, input().split())\n",
    "    \n",
    "    for w in range(x1, x1+x2):\n",
    "        grid[w][y1:(y1+y2)] = [i] * y2\n",
    "            \n",
    "# 각 색종이의 면적 계산 후 출력\n",
    "for num in range(1, N+1):\n",
    "    answer = 0\n",
    "    for cnt in range(1001):\n",
    "        answer += grid[cnt].count(num)\n",
    "    print(answer)"
   ]
  },
  {
   "cell_type": "markdown",
   "id": "8d5c401b-5f5e-4591-8a82-67eccf219513",
   "metadata": {
    "jp-MarkdownHeadingCollapsed": true,
    "tags": []
   },
   "source": [
    "# 2024-07-08"
   ]
  },
  {
   "cell_type": "markdown",
   "id": "2c996b85-7b12-4eec-996a-2aaaea45bd74",
   "metadata": {},
   "source": [
    "## 9933. 민균이의 비밀번호"
   ]
  },
  {
   "cell_type": "code",
   "execution_count": null,
   "id": "118c76e9-c534-4224-ab2d-46395f24a3e4",
   "metadata": {},
   "outputs": [],
   "source": [
    "import sys\n",
    "input = sys.stdin.readline\n",
    "\n",
    "N = int(input())\n",
    "passwords = []\n",
    "\n",
    "for _ in range(N):\n",
    "    password = input().rstrip()\n",
    "    \n",
    "    # password가 palindrome이면 출력하고 break\n",
    "    if password == password[::-1]:\n",
    "        print(len(password), password[len(password) // 2])\n",
    "        break\n",
    "    # password가 palindrome이 아니고, 역방향 비밀번호가 없다면 리스트에 추가\n",
    "    elif password[::-1] not in passwords:\n",
    "        passwords.append(password)\n",
    "    else:\n",
    "        print(len(password), password[len(password) // 2])\n",
    "        break"
   ]
  },
  {
   "cell_type": "markdown",
   "id": "fed4ab32-c391-4c90-a66c-40fa1b8c460c",
   "metadata": {
    "jp-MarkdownHeadingCollapsed": true,
    "tags": []
   },
   "source": [
    "# 2024-07-09"
   ]
  },
  {
   "cell_type": "markdown",
   "id": "73032760-f428-44e4-a507-07241e09535b",
   "metadata": {},
   "source": [
    "## 10769. 행복한지 슬픈지"
   ]
  },
  {
   "cell_type": "code",
   "execution_count": null,
   "id": "1ebd37e2-b2ca-45a6-b4f1-60fe42cc0170",
   "metadata": {},
   "outputs": [],
   "source": [
    "# 문자열 입력 받기\n",
    "S = input()\n",
    "# 이모티콘 개수 저장할 변수 선언\n",
    "happy_cnt, sad_cnt = 0, 0\n",
    "\n",
    "# 전체 문자열에서 행복한 얼굴과 슬픈 얼굴 개수 세기\n",
    "happy_cnt = S.count(':-)')\n",
    "sad_cnt = S.count(':-(')\n",
    "\n",
    "if happy_cnt == 0 and sad_cnt == 0:\n",
    "    print('none')\n",
    "elif happy_cnt > sad_cnt:\n",
    "    print('happy')\n",
    "elif happy_cnt < sad_cnt:\n",
    "    print('sad')\n",
    "else:\n",
    "    print('unsure')"
   ]
  },
  {
   "cell_type": "markdown",
   "id": "fe70697d-cbc8-4872-8bc6-794e6c4e5202",
   "metadata": {
    "jp-MarkdownHeadingCollapsed": true,
    "tags": []
   },
   "source": [
    "# 2024-07-10"
   ]
  },
  {
   "cell_type": "markdown",
   "id": "e970443e-4444-4908-9536-3515c05654d7",
   "metadata": {},
   "source": [
    "## 2804. 크로스워드 만들기"
   ]
  },
  {
   "cell_type": "code",
   "execution_count": null,
   "id": "78852057-4951-4f8d-a27b-01f73c967c1e",
   "metadata": {},
   "outputs": [],
   "source": [
    "import sys\n",
    "input = sys.stdin.readline\n",
    "\n",
    "# 입력 받기\n",
    "A, B = input().split()\n",
    "\n",
    "# 교차점 변수 선언\n",
    "row, col = 0, 0 \n",
    "\n",
    "# A문자 중 B에 존재하는 첫번째 인덱스 찾기\n",
    "for i in range(len(A)):\n",
    "    if A[i] in B:\n",
    "        col = i\n",
    "        row = B.index(A[i])\n",
    "        break\n",
    "        \n",
    "# 교차하는 부분 그리기\n",
    "for a in range(len(B)):\n",
    "    if row == a:\n",
    "        print(A)\n",
    "    else:\n",
    "        for b in range(len(A)):\n",
    "            if col == b:\n",
    "                print(B[a], end='')\n",
    "            else:\n",
    "                print('.', end='')\n",
    "        print()"
   ]
  },
  {
   "cell_type": "markdown",
   "id": "f6113010-7316-439a-873b-7a2b8221a753",
   "metadata": {
    "jp-MarkdownHeadingCollapsed": true,
    "tags": []
   },
   "source": [
    "# 2024-07-11"
   ]
  },
  {
   "cell_type": "markdown",
   "id": "580b061b-7351-4eb3-95d8-16486c6b93f0",
   "metadata": {},
   "source": [
    "## 2999. 비밀 이메일"
   ]
  },
  {
   "cell_type": "code",
   "execution_count": null,
   "id": "c8b9f625-c62b-42ab-8360-b5b9e8a16ce9",
   "metadata": {},
   "outputs": [],
   "source": [
    "message = input()\n",
    "\n",
    "N = len(message)\n",
    "# 행과 열 변수 선언\n",
    "R, C = 0, 0\n",
    "\n",
    "# 가능한 모든 행과 열 조합 검사\n",
    "for i in range(1, int(N / 2) + 1):\n",
    "    for j in range(i, N + 1):\n",
    "        if i * j == N:\n",
    "            R, C = i, j\n",
    "        \n",
    "# 메시지를 행과 열에 맞춰서 출력\n",
    "for i in range(R):\n",
    "    for j in range(C):\n",
    "        print(message[i + j * R], end='')"
   ]
  },
  {
   "cell_type": "markdown",
   "id": "70f20162-e612-4469-bbe8-a5081982e041",
   "metadata": {
    "jp-MarkdownHeadingCollapsed": true,
    "tags": []
   },
   "source": [
    "# 2024-07-12"
   ]
  },
  {
   "cell_type": "markdown",
   "id": "0b829b1a-8a4d-4f4c-900c-45c7e1dc0f19",
   "metadata": {},
   "source": [
    "## 1296. 팀 이름 정하기"
   ]
  },
  {
   "cell_type": "code",
   "execution_count": null,
   "id": "644bac11-52be-4b58-9926-b62a140694a9",
   "metadata": {},
   "outputs": [],
   "source": [
    "import sys\n",
    "input = sys.stdin.readline\n",
    "\n",
    "# 연두 이름 입력 받기\n",
    "name = input().rstrip()\n",
    "N = int(input())\n",
    "\n",
    "# 정답 변수 선언\n",
    "answer = []\n",
    "for i in range(N):\n",
    "    # 팀 이름 입력 받기\n",
    "    team_name = input().rstrip()\n",
    "    \n",
    "    # 연두 이름과 팀 이름에서 개수 count하여 확률 구하기\n",
    "    L = name.count('L') + team_name.count('L')\n",
    "    O = name.count('O') + team_name.count('O')\n",
    "    V = name.count('V') + team_name.count('V')\n",
    "    E = name.count('E') + team_name.count('E')\n",
    "    \n",
    "    result = ((L+O) * (L+V) * (L+E) * (O+V) * (O+E) * (V+E)) % 100\n",
    "    answer.append((result, team_name))\n",
    "    \n",
    "# 점수 기준으로 내림차순 정렬하고, 점수가 동일하다면 알파벳 순서로 정렬\n",
    "answer.sort(key=lambda x: (-x[0], x[1]))\n",
    "\n",
    "print(answer[0][1])"
   ]
  },
  {
   "cell_type": "markdown",
   "id": "deaa9fca-4cf5-4073-b554-30c6f1046363",
   "metadata": {
    "jp-MarkdownHeadingCollapsed": true,
    "tags": []
   },
   "source": [
    "# 2024-07-13"
   ]
  },
  {
   "cell_type": "markdown",
   "id": "97e818ce-9f45-47fa-b6fb-c4b23c7a13e9",
   "metadata": {},
   "source": [
    "## 5533. 유니크"
   ]
  },
  {
   "cell_type": "code",
   "execution_count": null,
   "id": "f5406d6c-418a-43ca-93c7-8feb4e0d0345",
   "metadata": {},
   "outputs": [],
   "source": [
    "import sys\n",
    "input = sys.stdin.readline\n",
    "\n",
    "N = int(input())\n",
    "arr = [[], [], []]\n",
    "\n",
    "# N번 동안 각각의 경기 점수 입력\n",
    "for _ in range(N):\n",
    "    x, y, z = map(int, input().split())\n",
    "    arr[0].append(x)\n",
    "    arr[1].append(y)\n",
    "    arr[2].append(z)\n",
    "    \n",
    "answer = [0] * N\n",
    "\n",
    "for i in range(3):\n",
    "    # 각 값이 해당 회차 경기에서 중복되는지 확인\n",
    "    for j in range(N):\n",
    "        # 값이 중복되면 pass\n",
    "        if arr[i].count(arr[i][j]) >= 2:\n",
    "            pass\n",
    "        # 중복되지 않으면 점수에 추가\n",
    "        else:\n",
    "            answer[j] += arr[i][j]\n",
    "            \n",
    "for a in answer:\n",
    "    print(a)"
   ]
  },
  {
   "cell_type": "markdown",
   "id": "47cd8bd7-50aa-4136-8cc4-3b65923406c7",
   "metadata": {
    "jp-MarkdownHeadingCollapsed": true,
    "tags": []
   },
   "source": [
    "# 2024-07-14"
   ]
  },
  {
   "cell_type": "markdown",
   "id": "b94f63ac-2561-47ee-8f27-7366e4a98ab5",
   "metadata": {},
   "source": [
    "## 2979. 트럭 주차"
   ]
  },
  {
   "cell_type": "code",
   "execution_count": null,
   "id": "1d4efa6e-d0eb-4c7b-8b9e-2ba8702be458",
   "metadata": {},
   "outputs": [],
   "source": [
    "import sys\n",
    "input = sys.stdin.readline\n",
    "\n",
    "# 트럭 당 요금 입력받기\n",
    "A, B, C = map(int, input().split())\n",
    "\n",
    "# 시간대별 트럭 개수 배열 선언\n",
    "arr = [0] * 101\n",
    "\n",
    "# 정답 변수 선언\n",
    "answer = 0\n",
    "\n",
    "for _ in range(3):\n",
    "    # 3번의 도착, 출발 시간 입력 받기\n",
    "    arrive, departure = map(int, input().split())\n",
    "    \n",
    "    # 도착 시간부터 출발 시간까지 트럭 수 증가\n",
    "    for t in range(arrive, departure):\n",
    "        arr[t] += 1\n",
    "        \n",
    "# 트럭 개수당 요금 계산하여 정답 변수에 더하기\n",
    "for i in range(1, 101):\n",
    "    if arr[i] == 1:\n",
    "        answer += A\n",
    "    elif arr[i] == 2:\n",
    "        answer += (B * 2)\n",
    "    elif arr[i] == 3:\n",
    "        answer += (C * 3)\n",
    "        \n",
    "print(answer)"
   ]
  },
  {
   "cell_type": "markdown",
   "id": "4b26a738-642b-441a-8f2c-470141fd9592",
   "metadata": {
    "jp-MarkdownHeadingCollapsed": true,
    "tags": []
   },
   "source": [
    "# 2024-07-15"
   ]
  },
  {
   "cell_type": "markdown",
   "id": "9406fbf6-7ec6-408b-b03f-a060113c0de9",
   "metadata": {},
   "source": [
    "## 2789. 유학 금지"
   ]
  },
  {
   "cell_type": "code",
   "execution_count": null,
   "id": "e3b6fa64-4cdb-4761-b3f6-bd9d074e8177",
   "metadata": {},
   "outputs": [],
   "source": [
    "# 검열할 단어 CAMBRIDGE 집합 선언\n",
    "remove = set('CAMBRIDGE')  \n",
    "\n",
    "# 입력 받기\n",
    "word = input()\n",
    "\n",
    "# remove에 포함되지 않는 문자 리스트 컴프리헨션 후 join\n",
    "answer = ''.join([w for w in word if w not in remove])\n",
    "print(answer)"
   ]
  },
  {
   "cell_type": "markdown",
   "id": "c94b0ef8-4472-4042-9221-5357fc93ae48",
   "metadata": {
    "jp-MarkdownHeadingCollapsed": true,
    "tags": []
   },
   "source": [
    "# 2024-07-16"
   ]
  },
  {
   "cell_type": "markdown",
   "id": "6c76ef18-9190-49cf-bf5c-11333764f283",
   "metadata": {},
   "source": [
    "## 11098. 첼시를 도와줘!"
   ]
  },
  {
   "cell_type": "code",
   "execution_count": null,
   "id": "20d4b1f5-4de8-4d66-a5c4-0b44108ff7a6",
   "metadata": {},
   "outputs": [],
   "source": [
    "import sys\n",
    "input = sys.stdin.readline\n",
    "\n",
    "# 테스트 케이스 개수 입력 받기\n",
    "n = int(input())\n",
    "\n",
    "for _ in range(n):\n",
    "    # 각 테스트 케이스의 선수 수 입력 받기\n",
    "    p = int(input())\n",
    "    \n",
    "    # 정답 변수 초기화\n",
    "    answer = []\n",
    "    for _ in range(p):\n",
    "        \n",
    "        # 선수 가격과 이름 입력받아 정답 변수에 추가\n",
    "        price, name = input().split()\n",
    "        answer.append([int(price),name])\n",
    "        \n",
    "    # 선수 가격을 기준으로 내림차순 정렬\n",
    "    answer.sort(key = lambda x: -x[0])\n",
    "    print(answer[0][1])  "
   ]
  },
  {
   "cell_type": "markdown",
   "id": "45ac2bf8-3c4a-4814-9ff8-741a24efa54f",
   "metadata": {
    "jp-MarkdownHeadingCollapsed": true,
    "tags": []
   },
   "source": [
    "# 2024-07-17"
   ]
  },
  {
   "cell_type": "markdown",
   "id": "8f8307f8-0d7b-4b7c-a8d7-621752e504ec",
   "metadata": {},
   "source": [
    "## 14582. 오늘도 졌다"
   ]
  },
  {
   "cell_type": "code",
   "execution_count": null,
   "id": "17e82cb6-e592-4da3-9234-a8e0b10f3643",
   "metadata": {},
   "outputs": [],
   "source": [
    "import sys\n",
    "input = sys.stdin.readline\n",
    "\n",
    "A = list(map(int, input().split()))\n",
    "B = list(map(int, input().split()))\n",
    "\n",
    "# A와 B의 총 점수 변수 선언\n",
    "A_score, B_score = 0, 0\n",
    "\n",
    "# A가 B를 이겼던 시점이 있었는지 여부를 나타내는 플래그 변수\n",
    "winning = False\n",
    "\n",
    "for i in range(9):\n",
    "    # 현재 라운드의 A 점수 추가\n",
    "    A_score += A[i]\n",
    "    \n",
    "    # A의 총 점수가 B의 총 점수를 넘는 시점이 있는지 확인\n",
    "    if A_score > B_score:\n",
    "        winning = True\n",
    "    \n",
    "    # 현재 라운드의 A 점수 추가\n",
    "    B_score += B[i]\n",
    "        \n",
    "# A가 B를 이기는 시점이 있었고, 최종적으로 B의 점수가 더 높은 경우\n",
    "if winning and A_score < B_score:\n",
    "    print('Yes')\n",
    "else:\n",
    "    print('No')"
   ]
  },
  {
   "cell_type": "markdown",
   "id": "85378877-6c8e-440c-be2b-5e3dd8f021c5",
   "metadata": {
    "jp-MarkdownHeadingCollapsed": true,
    "tags": []
   },
   "source": [
    "# 2024-07-18"
   ]
  },
  {
   "cell_type": "markdown",
   "id": "9883bcc6-2351-4412-ad28-655bb912a3a3",
   "metadata": {},
   "source": [
    "## 17202. 핸드폰 번호 궁합"
   ]
  },
  {
   "cell_type": "code",
   "execution_count": null,
   "id": "2f9521d6-a02e-4c49-8894-a97711856fd8",
   "metadata": {},
   "outputs": [],
   "source": [
    "import sys\n",
    "input = sys.stdin.readline\n",
    "\n",
    "x = list(input().rstrip())\n",
    "y = list(input().rstrip())\n",
    "\n",
    "# 두 문자열을 교차하여 total 문자열 만들기\n",
    "total = ''\n",
    "for i in range(8):\n",
    "    total += x[i] + y[i]\n",
    "    \n",
    "while len(total) > 2: \n",
    "    tmp = []\n",
    "    \n",
    "    # total의 각 자리 숫자를 더한 결과의 마지막 숫자를 tmp에 추가\n",
    "    for i in range(len(total)-1):\n",
    "        hap = str(int(total[i]) + int(total[i+1]))\n",
    "        tmp.append(hap[-1])\n",
    "        \n",
    "    # tmp 리스트를 문자열로 결합하여 total로 갱신\n",
    "    total = ''.join(tmp)\n",
    "    \n",
    "print(total)"
   ]
  },
  {
   "cell_type": "markdown",
   "id": "e4155602-57bc-4ad7-9717-5d475bc124dc",
   "metadata": {
    "jp-MarkdownHeadingCollapsed": true,
    "tags": []
   },
   "source": [
    "# 2024-07-19"
   ]
  },
  {
   "cell_type": "markdown",
   "id": "83716e3a-8037-49ed-a636-ccee01be84d7",
   "metadata": {},
   "source": [
    "## 2033. 반올림"
   ]
  },
  {
   "cell_type": "code",
   "execution_count": null,
   "id": "7e7c4a0c-edd7-4c85-867a-fbcae2c565dc",
   "metadata": {},
   "outputs": [],
   "source": [
    "N = list(map(int, list(input())))\n",
    "\n",
    "# 리스트를 뒤집어 작은 자릿수부터 처리\n",
    "N = N[::-1]\n",
    "\n",
    "# 리스트의 각 요소를 순회 (마지막 요소는 제외)\n",
    "for i in range(len(N) - 1):\n",
    "    # 현재 숫자가 5 이상이면 다음 숫자에 1을 더함\n",
    "    if N[i] >= 5:\n",
    "        N[i + 1] += 1\n",
    "    \n",
    "    # 현재 숫자는 0으로 설정 (반올림 효과를 위해)\n",
    "    N[i] = 0\n",
    "\n",
    "# 리스트를 다시 원래 순서로 뒤집고, 각 요소를 문자열로 변환하여 출력\n",
    "print(''.join(map(str, N[::-1])))"
   ]
  },
  {
   "cell_type": "markdown",
   "id": "5c95618f-03bd-4505-bb97-0f656e36d23f",
   "metadata": {
    "jp-MarkdownHeadingCollapsed": true,
    "tags": []
   },
   "source": [
    "# 2024-07-20"
   ]
  },
  {
   "cell_type": "markdown",
   "id": "4a790a24-09b8-43da-b1b5-2bd736ad0640",
   "metadata": {},
   "source": [
    "## 28702. FizzBuzz"
   ]
  },
  {
   "cell_type": "code",
   "execution_count": null,
   "id": "252beda2-5635-415a-a670-092e36364143",
   "metadata": {},
   "outputs": [],
   "source": [
    "import sys\n",
    "input = sys.stdin.readeline\n",
    "\n",
    "# 입력 받기\n",
    "strings = [input().strip() for _ in range(3)]\n",
    "\n",
    "# 가장 마지막 숫자 찾기 \n",
    "for i in range(2, -1, -1):\n",
    "    # 인덱스를 기준으로 세 문자열 다음에 올 숫자 찾기\n",
    "    if strings[i].isdigit():\n",
    "        answer = int(strings[i]) + (3-i)\n",
    "        break      \n",
    "        \n",
    "# 조건에 맞추어 출력\n",
    "if answer % 15 == 0:\n",
    "    print('FizzBuzz')\n",
    "elif answer % 3 == 0:\n",
    "    print('Fizz')\n",
    "elif answer % 5 == 0:\n",
    "    print('Buzz')\n",
    "else:\n",
    "    print(answer)"
   ]
  },
  {
   "cell_type": "markdown",
   "id": "54b8beb3-944e-4afd-9fec-381d5dd4b857",
   "metadata": {
    "jp-MarkdownHeadingCollapsed": true,
    "tags": []
   },
   "source": [
    "# 2024-07-21"
   ]
  },
  {
   "cell_type": "markdown",
   "id": "c08fc5a4-87b9-480b-8ecf-ad4d0dee1781",
   "metadata": {},
   "source": [
    "## 2755. 이번학기 평점은 몇점?"
   ]
  },
  {
   "cell_type": "code",
   "execution_count": null,
   "id": "7dd1a069-0cd5-4eb1-8be3-989159bc3237",
   "metadata": {},
   "outputs": [],
   "source": [
    "import sys\n",
    "input = sys.stdin.readline\n",
    "\n",
    "# 성적 딕셔너리 선언\n",
    "grade = {'A+': 4.3, 'A0': 4.0, 'A-': 3.7, \n",
    "         'B+': 3.3, 'B0': 3.0, 'B-': 2.7, \n",
    "         'C+': 2.3, 'C0': 2.0, 'C-': 1.7, \n",
    "         'D+': 1.3, 'D0': 1.0, 'D-': 0.7, 'F': 0.0}\n",
    "\n",
    "# 과목 수 입력 받기\n",
    "N = int(input())\n",
    "\n",
    "# 평균 평점 변수 선언 (정답 변수)\n",
    "answer = 0\n",
    "\n",
    "# 전체 학점 변수 선언\n",
    "total_credits = 0\n",
    "\n",
    "# 과목별 학점과 평점 변수에 추가\n",
    "for _ in range(N):\n",
    "    tmp = list(input().split())\n",
    "    total_credits += int(tmp[1])\n",
    "    \n",
    "    answer += int(tmp[1]) * grade[tmp[2]]\n",
    "    \n",
    "# 출력 요구 형식에 맞추어 출력\n",
    "print(f'{answer/total_credits + 10**-10:.2f}')"
   ]
  },
  {
   "cell_type": "markdown",
   "id": "5f87e83a-83ea-4d0f-8cae-dc9645e5e985",
   "metadata": {
    "jp-MarkdownHeadingCollapsed": true,
    "tags": []
   },
   "source": [
    "# 2024-07-22"
   ]
  },
  {
   "cell_type": "markdown",
   "id": "db6df9dd-04df-4a3a-9250-2f3b17726993",
   "metadata": {},
   "source": [
    "## 2204. 도비의 난독증 테스트"
   ]
  },
  {
   "cell_type": "code",
   "execution_count": null,
   "id": "ef254c6f-8b61-41e7-bbc7-53e144035202",
   "metadata": {},
   "outputs": [],
   "source": [
    "import sys\n",
    "input = sys.stdin.readline\n",
    "\n",
    "while True:\n",
    "    # 단어의 개수 입력 받기\n",
    "    N = int(input())\n",
    "    \n",
    "    # 마지막 입력 판별\n",
    "    if N == 0:\n",
    "        break\n",
    "    \n",
    "    # 단어 리스트 초기화\n",
    "    words = []\n",
    "    for _ in range(N):\n",
    "        # 단어 입력받아 리스트에 추가\n",
    "        word = input().rstrip()\n",
    "        words.append(word)\n",
    "        \n",
    "    # 소문자 기준 정렬\n",
    "    words.sort(key = str.lower)\n",
    "    print(words[0])"
   ]
  },
  {
   "cell_type": "markdown",
   "id": "3e884452-bd33-438a-b3ab-445bab3685da",
   "metadata": {
    "jp-MarkdownHeadingCollapsed": true,
    "tags": []
   },
   "source": [
    "# 2024-07-23"
   ]
  },
  {
   "cell_type": "markdown",
   "id": "7894b1ec-5a62-4863-9681-10c8dc0eafdb",
   "metadata": {},
   "source": [
    "## 1302. 베스트셀러"
   ]
  },
  {
   "cell_type": "code",
   "execution_count": null,
   "id": "a5d866a4-9a82-43dc-b59e-21a3ad1de042",
   "metadata": {},
   "outputs": [],
   "source": [
    "import sys\n",
    "input = sys.stdin.readline\n",
    "\n",
    "# 팔린 책 개수 입력 받기\n",
    "N = int(input())\n",
    "\n",
    "# 각 책의 판매량 저장할 딕셔너리 선언\n",
    "sales = {}\n",
    "\n",
    "# N번 반복하여 책 판매량 저장\n",
    "for _ in range(N):\n",
    "    book = input().rstrip()\n",
    "    \n",
    "    if book not in sales:\n",
    "        sales[book] = 1\n",
    "    else:\n",
    "        sales[book] += 1\n",
    "        \n",
    "# 최대 판매량 변수 선언\n",
    "max_value = max(sales.values())\n",
    "answer = []\n",
    "\n",
    "# 최대 판매량과 동일한 판매량을 가진 책 제목을 정답 변수에 추가\n",
    "for k, v in sales.items():\n",
    "    if v == max_value:\n",
    "        answer.append(k)\n",
    "        \n",
    "# 동일할 경우 사전 순으로 가장 앞선 책 이름 출력을 위해 정렬\n",
    "answer.sort()\n",
    "print(answer[0])"
   ]
  },
  {
   "cell_type": "markdown",
   "id": "3ae1f5b5-82f2-4ce5-806c-d50f7a301d12",
   "metadata": {
    "jp-MarkdownHeadingCollapsed": true,
    "tags": []
   },
   "source": [
    "# 2024-07-24"
   ]
  },
  {
   "cell_type": "markdown",
   "id": "17b22805-d62e-4618-b5da-982dfa476f01",
   "metadata": {},
   "source": [
    "## 3036. 링"
   ]
  },
  {
   "cell_type": "code",
   "execution_count": null,
   "id": "b3dcc99d-5b37-4946-9bb4-0d038f7ccfeb",
   "metadata": {},
   "outputs": [],
   "source": [
    "import sys\n",
    "input = sys.stdin.readline\n",
    "\n",
    "# 유클리드 호제법\n",
    "def get_gcd(a, b):\n",
    "    while b != 0:\n",
    "        r = a % b\n",
    "        a, b = b, r\n",
    "    return a\n",
    "\n",
    "# 링 개수 입력 받기\n",
    "N = int(input())\n",
    "\n",
    "# 링의 반지름 입력 받기\n",
    "rings = list(map(int, input().split()))\n",
    "\n",
    "for i in range(1, len(rings)):\n",
    "    # 첫번째 링과 각각의 링 최대 공약수 구하기\n",
    "    gcd = get_gcd(rings[0], rings[i])\n",
    "    \n",
    "    # 출력 요구 형식에 맞추어 출력\n",
    "    print(f'{rings[0] // gcd}/{rings[i] // gcd}')"
   ]
  },
  {
   "cell_type": "markdown",
   "id": "6f13829e-a94a-4944-a963-207974f0ce88",
   "metadata": {
    "jp-MarkdownHeadingCollapsed": true,
    "tags": []
   },
   "source": [
    "# 2024-07-25"
   ]
  },
  {
   "cell_type": "markdown",
   "id": "a37f3226-73b8-42e1-9738-661eba597072",
   "metadata": {},
   "source": [
    "## 1940. 주몽"
   ]
  },
  {
   "cell_type": "code",
   "execution_count": null,
   "id": "04e939b0-a93a-4f07-97f6-a2f30cb78500",
   "metadata": {},
   "outputs": [],
   "source": [
    "import sys\n",
    "input = sys.stdin.readline\n",
    "\n",
    "# 재료의 개수 입력 받기\n",
    "N = int(input())\n",
    "\n",
    "# 갑옷을 만드는데 필요한 수 입력 받기\n",
    "M = int(input())\n",
    "\n",
    "# 재료 고유 번호 입력받고, 정렬하기\n",
    "arr = list(map(int, input().split()))\n",
    "arr.sort()\n",
    "\n",
    "# 포인터 선언\n",
    "left = 0\n",
    "right = N-1\n",
    "\n",
    "# 정답 변수 선언\n",
    "answer = 0\n",
    "\n",
    "# 두 포인터가 만나지 않는 동안 반복\n",
    "while left < right:\n",
    "    # 현재 두 포인터가 가리키는 요소의 합 계산\n",
    "    current_sum = arr[left] + arr[right]\n",
    "    \n",
    "    # 두 수의 합이 M과 같으면\n",
    "    # 정답 카운트 증가, 좌/우 포인터 이동\n",
    "    if current_sum == M:\n",
    "        answer += 1\n",
    "        left += 1\n",
    "        right -= 1\n",
    "        \n",
    "    # 두 수의 합이 M보다 작으면\n",
    "    # 왼쪽 포인터를 오른쪽으로 한 칸 이동하여 합 증가시킴\n",
    "    elif current_sum < M:\n",
    "        left += 1\n",
    "    \n",
    "    # 두 수의 합이 M보다 크면\n",
    "    # 오른쪽 포인터를 왼쪽으로 한 칸 이동하여 합 감소시킴\n",
    "    else:\n",
    "        right -= 1\n",
    "        \n",
    "print(answer)"
   ]
  },
  {
   "cell_type": "markdown",
   "id": "6ec13011-c06a-4f2d-bfad-895e1b199748",
   "metadata": {
    "jp-MarkdownHeadingCollapsed": true,
    "tags": []
   },
   "source": [
    "# 2024-07-26"
   ]
  },
  {
   "cell_type": "markdown",
   "id": "ea3909c6-27c9-4035-a561-c46d176dd2b1",
   "metadata": {},
   "source": [
    "## 3986. 좋은 단어"
   ]
  },
  {
   "cell_type": "code",
   "execution_count": null,
   "id": "2610c236-cb89-42cd-8b25-274e6ed0bd8a",
   "metadata": {},
   "outputs": [],
   "source": [
    "import sys\n",
    "input = sys.stdin.readline\n",
    "\n",
    "# 단어의 수 입력 받기\n",
    "N = int(input())\n",
    "\n",
    "# 정답 변수 선언\n",
    "answer = 0\n",
    "\n",
    "for _ in range(N):\n",
    "    # 단어 입력 받기\n",
    "    word = input().rstrip()\n",
    "    \n",
    "    # 문자를 저장할 임시 변수 선언\n",
    "    tmp = []\n",
    "    for i in range(len(word)):\n",
    "        \n",
    "        # 임시 리스트가 비어있는 경우 현재 문자를 추가\n",
    "        if not tmp:\n",
    "            tmp.append(word[i])\n",
    "        # 임시 리스트의 마지막 문자와 현재 문자가 같은 경우 마지막 문자를 제거\n",
    "        elif tmp[-1] == word[i]:\n",
    "            tmp.pop(-1)\n",
    "        # 임시 리스트의 마지막 문자와 현재 문자가 다른 경우 현재 문자를 추가\n",
    "        else:\n",
    "            tmp.append(word[i])\n",
    "    \n",
    "    # 임시 리스트가 비어있다면 좋은 단어로 간주하여 정답 변수 증가\n",
    "    if not tmp:\n",
    "        answer += 1\n",
    "            \n",
    "print(answer)"
   ]
  },
  {
   "cell_type": "markdown",
   "id": "7c96f08b-115b-4cd1-9cf8-0169c1152cf6",
   "metadata": {
    "jp-MarkdownHeadingCollapsed": true,
    "tags": []
   },
   "source": [
    "# 2024-07-27"
   ]
  },
  {
   "cell_type": "markdown",
   "id": "15dbe191-9433-4565-b954-83f9dbd63c2b",
   "metadata": {},
   "source": [
    "## 9237. 이장님 초대"
   ]
  },
  {
   "cell_type": "code",
   "execution_count": null,
   "id": "c286de50-5a0a-46fe-9845-dc1395329b8c",
   "metadata": {},
   "outputs": [],
   "source": [
    "import sys\n",
    "input = sys.stdin.readline\n",
    "\n",
    "# 묘목의 수 입력 받기\n",
    "N = int(input())\n",
    "\n",
    "# 각 묘목 성장 시간 입력 받기\n",
    "time = list(map(int, input().split()))\n",
    "\n",
    "# 오래 걸리는 것부터 심기 위해 내림차순 정렬\n",
    "time.sort(reverse=True)\n",
    "\n",
    "# 각 묘목이 다 자라는 날을 계산\n",
    "# 심는 데 걸리는 시간과 성장이 완료되는 시간을 합산\n",
    "# i는 해당 묘목을 심는 순서\n",
    "result = [time[i] + 1 + i for i in range(len(time))]\n",
    "\n",
    "# 모든 묘목이 다 자라는 날 중 가장 늦은 날 + 1 (다 자란 다음 날 축제를 열기 때문)\n",
    "print(max(result)+1)"
   ]
  },
  {
   "cell_type": "markdown",
   "id": "a3d730d3-818b-48e3-8cbe-9accf76e2562",
   "metadata": {
    "jp-MarkdownHeadingCollapsed": true,
    "tags": []
   },
   "source": [
    "# 2024-07-28"
   ]
  },
  {
   "cell_type": "markdown",
   "id": "59270eb7-a744-4d98-9b55-2ce4370f8da5",
   "metadata": {},
   "source": [
    "## 15688. 수 정렬하기 5"
   ]
  },
  {
   "cell_type": "code",
   "execution_count": null,
   "id": "602a2d3e-5368-4819-b245-443dc30f2d71",
   "metadata": {},
   "outputs": [],
   "source": [
    "import sys\n",
    "input = sys.stdin.readline\n",
    "\n",
    "# 수의 개수 입력받기\n",
    "N = int(input())\n",
    "\n",
    "# N개의 숫자를 입력받아 리스트 nums에 저장\n",
    "nums = [int(input()) for _ in range(N)]\n",
    "\n",
    "# nums 리스트를 정렬한 결과를 출력\n",
    "# * 연산자를 사용하여 리스트의 요소를 개별 인수로 전달하고, \n",
    "# sep='\\n'을 사용하여 요소를 줄바꿈으로 구분하여 출력\n",
    "print(*sorted(nums), sep='\\n')"
   ]
  },
  {
   "cell_type": "markdown",
   "id": "5e4ed6c1-90e0-4873-85bd-295bb3af81d9",
   "metadata": {
    "jp-MarkdownHeadingCollapsed": true,
    "tags": []
   },
   "source": [
    "# 2024-07-29"
   ]
  },
  {
   "cell_type": "markdown",
   "id": "3c7e27ed-2432-46ed-9796-0b642a333812",
   "metadata": {},
   "source": [
    "## 11652. 카드"
   ]
  },
  {
   "cell_type": "code",
   "execution_count": null,
   "id": "2f8be937-ba15-4b5a-b280-fb5755468bde",
   "metadata": {},
   "outputs": [],
   "source": [
    "import sys\n",
    "input = sys.stdin.readline\n",
    "\n",
    "# 카드 개수 입력받기\n",
    "N = int(input())\n",
    "\n",
    "# 숫자 빈도 저장할 딕셔너리 선언\n",
    "nums = {}\n",
    "\n",
    "# 숫자 카드의 숫자를 입력받아 딕셔너리에 빈도 기록\n",
    "for _ in range(N):\n",
    "    num = int(input())\n",
    "    nums[num] = nums.get(num, 0) + 1\n",
    "    \n",
    "# 가장 많이 소유한 정수 찾기\n",
    "max_count = max(nums.values())\n",
    "\n",
    "# 최대 빈도수를 가진 숫자들 리스트로 저장\n",
    "answers = [k for k, v in nums.items() if v == max_count]\n",
    "\n",
    "# 여러 개일 경우 가장 작은 정수 출력\n",
    "print(min(answers))"
   ]
  },
  {
   "cell_type": "markdown",
   "id": "5d24705c-8982-4d0b-a5d1-e8de7657a45b",
   "metadata": {
    "jp-MarkdownHeadingCollapsed": true,
    "tags": []
   },
   "source": [
    "# 2024-07-30"
   ]
  },
  {
   "cell_type": "markdown",
   "id": "7045c924-4195-4b0b-9e69-bed1a92178b0",
   "metadata": {},
   "source": [
    "## 14490. 백대열"
   ]
  },
  {
   "cell_type": "code",
   "execution_count": null,
   "id": "572ce4dc-0af0-4f50-9012-c10af9abb8d2",
   "metadata": {},
   "outputs": [],
   "source": [
    "# 유클리드 호제법을 사용하여 두 숫자의 최대공약수를 계산하는 함수\n",
    "def gcd(a, b):\n",
    "    while b != 0:\n",
    "        a, b = b, a % b\n",
    "    return a\n",
    "\n",
    "# 입력 받기\n",
    "n, m = map(int, input().split(':'))\n",
    "\n",
    "# n과 m의 최대공약수 계산\n",
    "g = gcd(n, m)\n",
    "\n",
    "# n과 m을 최대공약수로 나눈 값을 ':'로 구분하여 출력\n",
    "print(f'{n//g}:{m//g}')"
   ]
  },
  {
   "cell_type": "markdown",
   "id": "25f34187-3536-4e8e-b1c7-3959c6a2c6a4",
   "metadata": {
    "jp-MarkdownHeadingCollapsed": true,
    "tags": []
   },
   "source": [
    "# 2024-07-31"
   ]
  },
  {
   "cell_type": "markdown",
   "id": "6eb6bf59-ae33-419c-bb3f-d69d8c62cb47",
   "metadata": {},
   "source": [
    "## 5347. LCM"
   ]
  },
  {
   "cell_type": "code",
   "execution_count": null,
   "id": "f1eb4a5c-08f3-452f-a639-d7cae9625d04",
   "metadata": {},
   "outputs": [],
   "source": [
    "# 유클리드 호제법을 사용하여 두 숫자의 최대공약수를 계산하는 함수\n",
    "def gcd(a, b):\n",
    "    while b != 0:\n",
    "        a, b = b, a%b\n",
    "    return a\n",
    "\n",
    "# 입력 받기\n",
    "n = int(input())\n",
    "\n",
    "for _ in range(n):\n",
    "    # 두 수 입력 받기\n",
    "    a, b = map(int, input().split())\n",
    "    \n",
    "    # 두 수의 최대 공약수 구하기\n",
    "    g = gcd(a, b)\n",
    "    \n",
    "    # 최대 공약수 활용하여 최소 공배수 구하기\n",
    "    print(f'{a*b//g}')"
   ]
  },
  {
   "cell_type": "markdown",
   "id": "7edfba25-ec0d-4181-9cb7-66acc4ddfdcf",
   "metadata": {
    "jp-MarkdownHeadingCollapsed": true,
    "tags": []
   },
   "source": [
    "# 2024-08-01"
   ]
  },
  {
   "cell_type": "markdown",
   "id": "aeb04e86-3945-4a52-89b9-1ba239570aee",
   "metadata": {},
   "source": [
    "## 1402. 아무래도이문제는A번난이도인것같다"
   ]
  },
  {
   "cell_type": "code",
   "execution_count": null,
   "id": "9e900e44-139e-4a6d-baa8-bcfaef7d3492",
   "metadata": {},
   "outputs": [],
   "source": [
    "import sys\n",
    "input = sys.stdin.readline\n",
    "\n",
    "T = int(input())\n",
    "\n",
    "for _ in range(T):\n",
    "    a, b = map(int, input().split())\n",
    "    \n",
    "    # 모든 A가 B로 변할 수 있기에 모두 'yes'를 출력한다\n",
    "    print('yes')"
   ]
  },
  {
   "cell_type": "markdown",
   "id": "73f56d1b-aedc-4cd9-bfb1-37f72a559a32",
   "metadata": {
    "jp-MarkdownHeadingCollapsed": true,
    "tags": []
   },
   "source": [
    "# 2024-08-03"
   ]
  },
  {
   "cell_type": "markdown",
   "id": "1084cd93-7404-4f3e-9c96-7eb70f2d64bf",
   "metadata": {},
   "source": [
    "## 24060. 알고리즘 수업 - 병합 정렬 1"
   ]
  },
  {
   "cell_type": "code",
   "execution_count": null,
   "id": "df2d6085-8902-42a1-9458-78f5d63a1d1a",
   "metadata": {},
   "outputs": [],
   "source": [
    "import sys\n",
    "input = sys.stdin.readline\n",
    "\n",
    "def merge_sort(A, p, r): \n",
    "    if p < r:\n",
    "        q = (p + r) // 2          # q는 p, r의 중간 지점\n",
    "        merge_sort(A, p, q)       # 전반부 정렬\n",
    "        merge_sort(A, q + 1, r)   # 후반부 정렬\n",
    "        merge(A, p, q, r)         # 병합\n",
    "\n",
    "def merge(A, p, q, r):\n",
    "    global cnt, res\n",
    "    i = p      # 첫 번째 부분 배열의 시작 인덱스\n",
    "    j = q +1   # 두 번째 부분 배열의 시작 인덱스\n",
    "    tmp = []\n",
    "    \n",
    "    # 두 부분 배열을 비교하며 병합\n",
    "    while i <= q and j <= r:\n",
    "        if A[i] <= A[j]:\n",
    "            tmp.append(A[i])\n",
    "            i += 1\n",
    "        else:\n",
    "            tmp.append(A[j])\n",
    "            j += 1\n",
    "            \n",
    "    # 왼쪽 배열 부분이 남은 경우\n",
    "    while i <= q:\n",
    "        tmp.append(A[i])\n",
    "        i += 1\n",
    "        \n",
    "    # 오른쪽 배열 부분이 남은 경우\n",
    "    while j <= r:\n",
    "        tmp.append(A[j])\n",
    "        j += 1\n",
    "        \n",
    "    # 병합된 결과를 원래 배열에 복사\n",
    "    for i in range(len(tmp)):\n",
    "        A[p + i] = tmp[i]\n",
    "        cnt += 1\n",
    "        if cnt == K:\n",
    "            res = tmp[i]\n",
    "\n",
    "N, K = map(int, input().split())\n",
    "A = list(map(int, input().split()))\n",
    "cnt = 0\n",
    "res = -1\n",
    "merge_sort(A, 0, N - 1)\n",
    "print(res)"
   ]
  },
  {
   "cell_type": "markdown",
   "id": "043a4bde-25cb-4514-aed9-bf03f7661f85",
   "metadata": {
    "jp-MarkdownHeadingCollapsed": true,
    "tags": []
   },
   "source": [
    "# 2024-08-04"
   ]
  },
  {
   "cell_type": "markdown",
   "id": "b7278e00-998a-4554-9067-ff8232a5c806",
   "metadata": {},
   "source": [
    "## 4779. 칸토어 집합"
   ]
  },
  {
   "cell_type": "code",
   "execution_count": null,
   "id": "477ab411-2041-4650-9a28-787fb0d2e0c6",
   "metadata": {},
   "outputs": [],
   "source": [
    "import sys\n",
    "input = sys.stdin.readline\n",
    "\n",
    "def cantor(S):\n",
    "    length = len(S) // 3\n",
    "    \n",
    "    # 문자열의 길이가 1이 되었을 때, 문자열을 반환\n",
    "    if length == 0:\n",
    "        return S\n",
    "    \n",
    "    # 재귀적으로 중간 부분을 공백으로 바꿔줌\n",
    "    part1 = cantor(S[:length])\n",
    "    part2 = ' ' * length\n",
    "    part3 = cantor(S[length * 2:])\n",
    "    \n",
    "    return part1 + part2 + part3\n",
    "\n",
    "while True:\n",
    "    try:\n",
    "        # 입력값을 받아서 초기 문자열 생성\n",
    "        N = int(input())\n",
    "        S = '-' * (3**N)\n",
    "        # 칸토어 집합 생성 및 출력\n",
    "        print(cantor(S))\n",
    "    except:\n",
    "        break"
   ]
  },
  {
   "cell_type": "markdown",
   "id": "07b53bca-9685-4024-af56-1f3d959e090f",
   "metadata": {
    "jp-MarkdownHeadingCollapsed": true,
    "tags": []
   },
   "source": [
    "# 2024-08-05"
   ]
  },
  {
   "cell_type": "markdown",
   "id": "bafd2149-609a-4a8a-abe8-9aee82a34396",
   "metadata": {},
   "source": [
    "## 2447. 별 찍기 - 10"
   ]
  },
  {
   "cell_type": "code",
   "execution_count": null,
   "id": "60682329-19df-4466-bea3-e12b9d77a6ae",
   "metadata": {},
   "outputs": [],
   "source": [
    "def draw_stars(n):\n",
    "    # 기본 단계: n이 1이면, 단일 별을 반환\n",
    "    if n == 1:\n",
    "        return ['*']\n",
    "    \n",
    "    # 재귀 호출: n을 3으로 나눈 크기의 패턴을 가져옴\n",
    "    smaller_stars = draw_stars(n // 3)\n",
    "    result = []\n",
    "    \n",
    "    # 첫 번째 부분: 작은 패턴을 가로로 세 번 반복\n",
    "    for pattern in smaller_stars:\n",
    "        result.append(pattern * 3)\n",
    "        \n",
    "    # 두 번째 부분: 작은 패턴을 사용하여 가운데에 공백을 두고 배치\n",
    "    for pattern in smaller_stars:\n",
    "        result.append(pattern + ' ' * (n // 3) + pattern)\n",
    "        \n",
    "    # 세 번째 부분: 작은 패턴을 다시 가로로 세 번 반복\n",
    "    for pattern in smaller_stars:\n",
    "        result.append(pattern * 3)\n",
    "\n",
    "    return result\n",
    "\n",
    "N = int(input())\n",
    "print('\\n'.join(draw_stars(N)))"
   ]
  },
  {
   "cell_type": "markdown",
   "id": "bded01af-f90d-4ac3-a688-0cd8e9d67b65",
   "metadata": {
    "jp-MarkdownHeadingCollapsed": true,
    "tags": []
   },
   "source": [
    "# 2024-08-06"
   ]
  },
  {
   "cell_type": "markdown",
   "id": "b3d30cdc-7128-49aa-9819-223683100f09",
   "metadata": {},
   "source": [
    "## 2303. 숫자 게임"
   ]
  },
  {
   "cell_type": "code",
   "execution_count": null,
   "id": "ed022f81-60bd-44ed-b8f3-6e6b07c21f60",
   "metadata": {},
   "outputs": [],
   "source": [
    "import sys\n",
    "input = sys.stdin.readline\n",
    "\n",
    "# 숫자 게임 참가 인원 수 입력 받기\n",
    "N = int(input())\n",
    "\n",
    "# 각 인원의 최대 값을 저장할 리스트\n",
    "total = []\n",
    "\n",
    "for _ in range(N):\n",
    "    cards = list(map(int, input().split()))\n",
    "    tmp = []\n",
    "    \n",
    "    # 3장의 카드 합의 일의 자리 수 구하기\n",
    "    for i in range(len(cards)-2):\n",
    "        for j in range(i+1, len(cards)-1):\n",
    "            for k in range(j+1, len(cards)):\n",
    "                tmp.append((cards[i] + cards[j] + cards[k]) % 10)\n",
    "                \n",
    "    # 가장 큰 일의 자리 수 추가\n",
    "    total.append(max(tmp))\n",
    "    \n",
    "max_val = max(total)\n",
    "# 최대값과 같은 값을 가진 인덱스들을 찾고 1을 더해 사람의 번호와 매치\n",
    "answer = [idx+1 for idx, value in enumerate(total) if value == max_val]\n",
    "print(answer[-1])"
   ]
  },
  {
   "cell_type": "markdown",
   "id": "0c8816d7-4ac6-4ffb-a450-cb681582e601",
   "metadata": {
    "jp-MarkdownHeadingCollapsed": true,
    "tags": []
   },
   "source": [
    "# 2024-08-07"
   ]
  },
  {
   "cell_type": "markdown",
   "id": "af00c83a-bf6f-4d0c-b373-d58fd1e219f1",
   "metadata": {},
   "source": [
    "## 5555. 반지"
   ]
  },
  {
   "cell_type": "code",
   "execution_count": null,
   "id": "497d831f-4355-479e-aea9-8f5ef4ea3367",
   "metadata": {
    "tags": []
   },
   "outputs": [],
   "source": [
    "import sys\n",
    "input = sys.stdin.readline\n",
    "\n",
    "# 찾고자 하는 문자열 입력 받기\n",
    "word = input().rstrip()\n",
    "\n",
    "# 반지의 개수 입력 받기\n",
    "N = int(input())\n",
    "\n",
    "# 정답 변수 선언\n",
    "answer = 0\n",
    "\n",
    "# 반지의 문자열 입력 받기\n",
    "rings = [input().rstrip() for _ in range(N)]\n",
    "\n",
    "for ring in rings:\n",
    "    # 문자열 이어 붙여서 원형처럼 만들기\n",
    "    # 찾고자 하는 문자열이 포함된다면 정답 변수 증가\n",
    "    if word in ring + ring:\n",
    "        answer += 1\n",
    "        \n",
    "print(answer)"
   ]
  },
  {
   "cell_type": "markdown",
   "id": "bc11e917-0cb7-433e-8495-b079695a4568",
   "metadata": {
    "jp-MarkdownHeadingCollapsed": true,
    "tags": []
   },
   "source": [
    "# 2024-08-08"
   ]
  },
  {
   "cell_type": "markdown",
   "id": "6505841c-69e2-4592-b4dd-913e49ecae41",
   "metadata": {},
   "source": [
    "## 2535. 아시아 정보 올림피아드"
   ]
  },
  {
   "cell_type": "code",
   "execution_count": null,
   "id": "053b085b-e602-4fee-8183-48ef0ceb3eb4",
   "metadata": {},
   "outputs": [],
   "source": [
    "import sys\n",
    "input = sys.stdin.readline\n",
    "\n",
    "# 학생 수 입력 받기\n",
    "N = int(input())\n",
    "\n",
    "# 대회 성적 입력 받기\n",
    "L = [list(map(int, input().split())) for _ in range(N)]\n",
    "\n",
    "# 점수 기준 내림차순 정렬\n",
    "sorted_L = sorted(L, key= lambda x: -x[-1])\n",
    "\n",
    "tmp = []\n",
    "cnt = 0\n",
    "for country, student, points in sorted_L:\n",
    "    # 특정 나라에서 최대 2명까지만 출력하기 위해 \n",
    "    # 해당 나라가 tmp 리스트에 2번 미만으로 등장했는지 확인\n",
    "    if tmp.count(country) < 2:\n",
    "        \n",
    "        # 출력된 학생 수 증가\n",
    "        cnt += 1        \n",
    "        # 출력된 나라를 tmp 리스트에 추가\n",
    "        tmp.append(country)\n",
    "        \n",
    "        # 나라와 학생 번호 출력\n",
    "        print(country, student, sep=' ')\n",
    "        \n",
    "    # 3명의 학생을 출력했다면 반복문 종료\n",
    "    if cnt == 3:\n",
    "        break"
   ]
  },
  {
   "cell_type": "markdown",
   "id": "b0438a6f-1846-4bee-972d-9751b3f7d6df",
   "metadata": {
    "jp-MarkdownHeadingCollapsed": true,
    "tags": []
   },
   "source": [
    "# 2024-08-09"
   ]
  },
  {
   "cell_type": "markdown",
   "id": "d7c15b1a-3e95-4921-bd7d-accbc66ac452",
   "metadata": {},
   "source": [
    "## 10431. 줄세우기"
   ]
  },
  {
   "cell_type": "code",
   "execution_count": null,
   "id": "17ccff3b-6e85-4ac6-8b9b-ba301304da7b",
   "metadata": {},
   "outputs": [],
   "source": [
    "import sys\n",
    "input = sys.stdin.readline\n",
    "\n",
    "P = int(input())\n",
    "\n",
    "for _ in range(P):\n",
    "    # 테스트 케이스 번호와 아이들 키 입력 받기\n",
    "    L = list(map(int, input().split()))\n",
    "    \n",
    "    # 정답 변수 초기화\n",
    "    answer = 0\n",
    "    \n",
    "    # 첫번째부터 끝에서 두번째 아이와\n",
    "    # i 뒤에 위치한 아이들 비교\n",
    "    for i in range(1, len(L)-1):   \n",
    "        for j in range(i+1, len(L)):\n",
    "            # 앞 사람이 뒷사람보다 크면 자리 바꾸기\n",
    "            if L[i] > L[j]:\n",
    "                L[i], L[j] = L[j], L[i]\n",
    "                answer += 1\n",
    "                \n",
    "    # 테스트 케이스 번호와 걸음수 출력\n",
    "    print(L[0], answer)"
   ]
  },
  {
   "cell_type": "markdown",
   "id": "2960e066-f63e-4e5a-8128-ebccbef4c1e9",
   "metadata": {
    "jp-MarkdownHeadingCollapsed": true,
    "tags": []
   },
   "source": [
    "# 2024-08-10"
   ]
  },
  {
   "cell_type": "markdown",
   "id": "a61256cb-9f39-4198-afa2-636a3b0af321",
   "metadata": {},
   "source": [
    "## 14405. 피카츄"
   ]
  },
  {
   "cell_type": "code",
   "execution_count": null,
   "id": "48f8af3e-758b-4ed5-863b-0fc5e6f0e40d",
   "metadata": {},
   "outputs": [],
   "source": [
    "# 문자열 입력 받기\n",
    "s = input()\n",
    "\n",
    "# 발음할 수 있는 문자를 공백으로 치환\n",
    "s = s.replace('pi',' ')\n",
    "s = s.replace('ka',' ')\n",
    "s = s.replace('chu',' ')\n",
    "\n",
    "# 공백을 제거했을 때 길이가 0이면 발음할 수 있는 문자열\n",
    "print('YES' if len(s.strip()) == 0 else 'NO')"
   ]
  },
  {
   "cell_type": "markdown",
   "id": "9b98a479-f0c7-458f-a54e-e03bb7838fab",
   "metadata": {
    "jp-MarkdownHeadingCollapsed": true,
    "tags": []
   },
   "source": [
    "# 2024-08-11"
   ]
  },
  {
   "cell_type": "markdown",
   "id": "eb804c41-9935-46f7-91fe-60c1bd2f01f1",
   "metadata": {},
   "source": [
    "## 3049. 다각형의 대각선"
   ]
  },
  {
   "cell_type": "code",
   "execution_count": null,
   "id": "6d5a25d1-14ab-4337-8cd9-5f52685a3f76",
   "metadata": {},
   "outputs": [],
   "source": [
    "N = int(input())\n",
    "# 다각형의 4개의 꼭짓점을 선택하여 \n",
    "# 두 대각선을 그릴 수 있는 모든 경우의 수를 계산\n",
    "print(N * (N - 1) * (N - 2) * (N - 3) // 24)"
   ]
  },
  {
   "cell_type": "markdown",
   "id": "a48dbdb8-7306-49d2-b965-de332251a3e2",
   "metadata": {
    "jp-MarkdownHeadingCollapsed": true,
    "tags": []
   },
   "source": [
    "# 2024-08-12"
   ]
  },
  {
   "cell_type": "markdown",
   "id": "cee79d59-1c3a-4af3-9d37-d8f06822caf5",
   "metadata": {},
   "source": [
    "## 14912. 숫자 빈도수"
   ]
  },
  {
   "cell_type": "code",
   "execution_count": null,
   "id": "9f31a697-e03f-48f4-9c78-2d92717617e0",
   "metadata": {},
   "outputs": [],
   "source": [
    "n, d = input().split()\n",
    "n = int(n)\n",
    "answer = 0\n",
    "\n",
    "for i in range(1, n+1):\n",
    "    # i를 문자열로 변환 후, d의 등장 횟수를 셈\n",
    "    answer += str(i).count(d)\n",
    "        \n",
    "print(answer)"
   ]
  },
  {
   "cell_type": "markdown",
   "id": "15914484-36f2-4d8e-8bfb-812ef28b3083",
   "metadata": {
    "jp-MarkdownHeadingCollapsed": true,
    "tags": []
   },
   "source": [
    "# 2024-08-13"
   ]
  },
  {
   "cell_type": "markdown",
   "id": "fe1bb6ae-b8f4-4920-8b7f-ddadf67e1eee",
   "metadata": {},
   "source": [
    "## 25757. 임스와 함께하는 미니게임"
   ]
  },
  {
   "cell_type": "code",
   "execution_count": null,
   "id": "f689451b-2f00-4661-8a50-9c9bcb0bc8e2",
   "metadata": {},
   "outputs": [],
   "source": [
    "import sys\n",
    "input = sys.stdin.readline\n",
    "\n",
    "N, game = input().split()\n",
    "names = set()\n",
    "game_type = {'Y':1, 'F':2, 'O':3}\n",
    "\n",
    "for _ in range(int(N)):\n",
    "    name = input().rstrip()\n",
    "    names.add(name)\n",
    "    \n",
    "print(len(names) // game_type[game])"
   ]
  },
  {
   "cell_type": "markdown",
   "id": "a2fc3c06-dd52-4264-98a8-ebc8c88fb185",
   "metadata": {
    "jp-MarkdownHeadingCollapsed": true,
    "tags": []
   },
   "source": [
    "# 2024-08-14"
   ]
  },
  {
   "cell_type": "markdown",
   "id": "5719deb0-f53b-4d5f-b54a-1acd48c0b25d",
   "metadata": {},
   "source": [
    "## 16212. 정열적인 정렬"
   ]
  },
  {
   "cell_type": "code",
   "execution_count": null,
   "id": "2ae9712b-2592-4202-87d5-52a60d87c69c",
   "metadata": {},
   "outputs": [],
   "source": [
    "import sys\n",
    "input = sys.stdin.readline\n",
    "\n",
    "N = int(input())  \n",
    "\n",
    "# 공백으로 구분된 숫자들을 리스트로 변환\n",
    "a = list(map(int, input().split()))  \n",
    "\n",
    "# 정렬된 리스트를 공백으로 구분하여 출력\n",
    "print(*sorted(a))"
   ]
  },
  {
   "cell_type": "markdown",
   "id": "6649abed-4419-403d-a066-a24a963cde5c",
   "metadata": {
    "jp-MarkdownHeadingCollapsed": true,
    "tags": []
   },
   "source": [
    "# 2024-08-15"
   ]
  },
  {
   "cell_type": "markdown",
   "id": "32abf3bb-70e8-4cde-af88-39f661022c45",
   "metadata": {},
   "source": [
    "## 3135. 라디오"
   ]
  },
  {
   "cell_type": "code",
   "execution_count": null,
   "id": "3b1d0d09-0f88-4c4c-9e85-a6bb75472da6",
   "metadata": {},
   "outputs": [],
   "source": [
    "import sys\n",
    "input = sys.stdin.readline\n",
    "\n",
    "A, B = map(int, input().split())\n",
    "N = int(input())\n",
    "\n",
    "# 즐겨찾기 주파수 입력 받기\n",
    "favorites = [int(input()) for _ in range(N)]\n",
    "\n",
    "# 직접 이동할 시 버튼 클릭 횟수\n",
    "answer = abs(B-A)\n",
    "\n",
    "# 최소 주파수 계산\n",
    "for fav in favorites:\n",
    "    \n",
    "    # 즐겨찾기 주파수를 사용할 시 버튼 클릭 횟수\n",
    "    tmp = abs(fav-B) + 1\n",
    "    \n",
    "    # min값으로 갱신\n",
    "    answer = min(answer, tmp)\n",
    "    \n",
    "print(answer)"
   ]
  },
  {
   "cell_type": "markdown",
   "id": "0008d2dc-814a-45a2-8460-361f4a04527e",
   "metadata": {
    "jp-MarkdownHeadingCollapsed": true,
    "tags": []
   },
   "source": [
    "# 2024-08-16"
   ]
  },
  {
   "cell_type": "markdown",
   "id": "ed257553-b152-4f23-bfd5-4a5034c16a6c",
   "metadata": {},
   "source": [
    "## 1531. 투명"
   ]
  },
  {
   "cell_type": "code",
   "execution_count": null,
   "id": "47befa69-4603-4042-bf3c-332af0e0f47c",
   "metadata": {},
   "outputs": [],
   "source": [
    "import sys\n",
    "input = sys.stdin.readline\n",
    "\n",
    "N, M = map(int, input().split())\n",
    "arr = [[0] * 101 for _ in range(101)]\n",
    "\n",
    "# 범위 내 모든 좌표의 값을 1씩 증가\n",
    "for _ in range(N):\n",
    "    x1, y1, x2, y2 = map(int, input().split())\n",
    "    \n",
    "    for row in range(x1, x2 + 1):\n",
    "        for col in range(y1, y2 + 1):\n",
    "            arr[row][col] += 1\n",
    "            \n",
    "# 값이 M보다 큰 칸의 수를 세기 (보이지 않는 그림의 개수)            \n",
    "answer = sum(1 for i in range(101) for j in range(101) if arr[i][j] > M)\n",
    "print(answer)"
   ]
  },
  {
   "cell_type": "markdown",
   "id": "2d1b7e4e-be00-4f3a-bd64-65868a2c8e6d",
   "metadata": {
    "jp-MarkdownHeadingCollapsed": true,
    "tags": []
   },
   "source": [
    "# 2024-08-17"
   ]
  },
  {
   "cell_type": "markdown",
   "id": "62b52c89-9f6f-4479-a195-d1c91a7aa5ab",
   "metadata": {},
   "source": [
    "## 6550. 부분 문자열"
   ]
  },
  {
   "cell_type": "code",
   "execution_count": null,
   "id": "ec904993-c52d-4e14-aa56-b2b9ac4cd57d",
   "metadata": {},
   "outputs": [],
   "source": [
    "import sys\n",
    "input = sys.stdin.readline\n",
    "\n",
    "while True:\n",
    "    try:\n",
    "        s, t = input().split()\n",
    "        chars_to_match = list(s)\n",
    "        \n",
    "        for char in t:\n",
    "            # chars_to_match가 비어있지 않고, \n",
    "            # t의 현재 문자가 chars_to_match의 첫 번째 문자와 같다면\n",
    "            # chars_to_match의 해당 문자를 제거하여 다음 문자로 넘어감\n",
    "            if chars_to_match and chars_to_match[0] == char:\n",
    "                chars_to_match.pop(0)\n",
    "        \n",
    "        # chars_to_match가 비어 있으면 s가 t의 부분 문자열\n",
    "        print('Yes' if not chars_to_match else 'No')\n",
    "                \n",
    "    except:\n",
    "        break"
   ]
  },
  {
   "cell_type": "markdown",
   "id": "04b423d7-21d9-4ce8-bbfc-87e1ebd24b6a",
   "metadata": {
    "jp-MarkdownHeadingCollapsed": true,
    "tags": []
   },
   "source": [
    "# 2024-08-18"
   ]
  },
  {
   "cell_type": "markdown",
   "id": "4a14c21b-3724-4488-a6c5-2c73e8e690c5",
   "metadata": {},
   "source": [
    "## 5648. 역원소 정렬"
   ]
  },
  {
   "cell_type": "code",
   "execution_count": null,
   "id": "3532e5e2-7ba2-4677-9715-58244bea45c8",
   "metadata": {},
   "outputs": [],
   "source": [
    "import sys\n",
    "input = sys.stdin.read\n",
    "\n",
    "N, *nums = input().split()\n",
    "\n",
    "# 각 문자열을 뒤집어서 저장\n",
    "for num in range(int(N)):\n",
    "    nums[num] = nums[num][::-1]\n",
    "    \n",
    "# 문자열을 정수로 변환\n",
    "nums = list(map(int, nums))\n",
    "\n",
    "# 오름차순 정렬 후 줄바꿈을 구분자로 출력\n",
    "print(*sorted(nums), sep='\\n')"
   ]
  },
  {
   "cell_type": "markdown",
   "id": "58ee5021-084a-4989-92a5-caf464c28eec",
   "metadata": {
    "jp-MarkdownHeadingCollapsed": true,
    "tags": []
   },
   "source": [
    "# 2024-08-19"
   ]
  },
  {
   "cell_type": "markdown",
   "id": "afd3e1d9-31db-415f-8391-377dd102eacd",
   "metadata": {},
   "source": [
    "## 1817. 짐 챙기는 숌"
   ]
  },
  {
   "cell_type": "code",
   "execution_count": null,
   "id": "a1e2a60e-f912-4ccb-b652-8289718fe1c5",
   "metadata": {},
   "outputs": [],
   "source": [
    "import sys\n",
    "input = sys.stdin.readline\n",
    "\n",
    "N, M = map(int, input().split())\n",
    "answer = 0\n",
    "\n",
    "if N == 0:\n",
    "    pass\n",
    "else:\n",
    "    books = list(map(int, input().split()))\n",
    "    # 현재 담을 수 있는 무게\n",
    "    current_weight = 0\n",
    "    \n",
    "    for book in books:\n",
    "        # 박스에 현재 책을 담을 수 있으면,\n",
    "        # 현재 남은 무게에서 책의 무게를 차감\n",
    "        if current_weight - book >= 0:\n",
    "            current_weight -= book\n",
    "            continue\n",
    "            \n",
    "        # 박스에 현재 책을 담을 수 있으면,\n",
    "        # 새로운 박스를 사용하고 무게를 갱신\n",
    "        else:\n",
    "            current_weight = M\n",
    "            answer += 1\n",
    "            current_weight -= book\n",
    "\n",
    "print(answer)"
   ]
  },
  {
   "cell_type": "markdown",
   "id": "990078e4-4318-48bc-83b3-0157fe72aa01",
   "metadata": {
    "jp-MarkdownHeadingCollapsed": true,
    "tags": []
   },
   "source": [
    "# 2024-08-20"
   ]
  },
  {
   "cell_type": "markdown",
   "id": "47b662e8-ad1e-45be-8b37-5173d18cf29e",
   "metadata": {},
   "source": [
    "## 14729. 칠무해"
   ]
  },
  {
   "cell_type": "code",
   "execution_count": null,
   "id": "bcfedd54-7b62-4c95-85e6-7bcac332de2f",
   "metadata": {},
   "outputs": [],
   "source": [
    "import sys\n",
    "input = sys.stdin.readline\n",
    "\n",
    "# 학생 수 입력 받기\n",
    "N = int(input())\n",
    "\n",
    "# 학생들의 성적 입력 받기\n",
    "scores = [float(input()) for _ in range(N)]\n",
    "\n",
    "# 성적 오름차순 정렬\n",
    "scores.sort()\n",
    "\n",
    "# 하위 7개의 성적 출력\n",
    "for i in range(7):\n",
    "    print(f'{scores[i]:.3f}')"
   ]
  },
  {
   "cell_type": "markdown",
   "id": "c05a02fb-d4bf-4276-9115-683ec97904b2",
   "metadata": {
    "jp-MarkdownHeadingCollapsed": true,
    "tags": []
   },
   "source": [
    "# 2024-08-21"
   ]
  },
  {
   "cell_type": "markdown",
   "id": "28c1da06-f2b4-4df8-b20b-0b4fb8ba91b0",
   "metadata": {},
   "source": [
    "## 4158. CD"
   ]
  },
  {
   "cell_type": "code",
   "execution_count": null,
   "id": "c63325a7-0f0c-4bb3-9214-c358a9ebbc20",
   "metadata": {},
   "outputs": [],
   "source": [
    "import sys\n",
    "input = sys.stdin.readline\n",
    "\n",
    "while True:\n",
    "    # N, M 입력 받기\n",
    "    N, M = map(int, input().split())\n",
    "    \n",
    "    # N, M이 모두 0일 경우 break\n",
    "    if N == 0 and M == 0:\n",
    "        break\n",
    "        \n",
    "    set_N = set()\n",
    "    set_M = set()\n",
    "    \n",
    "    # N개의 원소를 set_N에 추가\n",
    "    for _ in range(N):\n",
    "        set_N.add(input())\n",
    "        \n",
    "    # M개의 원소를 set_M에 추가\n",
    "    for _ in range(M):\n",
    "        set_M.add(input())\n",
    "        \n",
    "    # set_N과 set_M의 교집합의 크기(공통 원소의 개수)를 출력\n",
    "    print(len(set_N & set_M))"
   ]
  },
  {
   "cell_type": "markdown",
   "id": "2e1de428-5f78-4cb8-9e17-5f256d339b77",
   "metadata": {
    "jp-MarkdownHeadingCollapsed": true,
    "tags": []
   },
   "source": [
    "# 2024-08-22"
   ]
  },
  {
   "cell_type": "markdown",
   "id": "1b511452-b6cf-4eff-ac3c-72132298248e",
   "metadata": {},
   "source": [
    "## 2456. 나는 학급회장이다"
   ]
  },
  {
   "cell_type": "code",
   "execution_count": null,
   "id": "a7289839-39ec-490f-bf92-0f499a8b6d31",
   "metadata": {},
   "outputs": [],
   "source": [
    "import sys\n",
    "input = sys.stdin.readline\n",
    "\n",
    "N = int(input())\n",
    "\n",
    "score = [[0] * 3 for _ in range(3)]\n",
    "\n",
    "# 각 학생의 투표 결과 처리\n",
    "for _ in range(N):\n",
    "    a, b, c = map(int, input().split())\n",
    "    score[0][a-1] += a\n",
    "    score[1][b-1] += b\n",
    "    score[2][c-1] += c\n",
    "    \n",
    "# 각 후보의 총점을 계산하는 리스트 생성\n",
    "total_score = [[idx, sum(sc)] for idx, sc in enumerate(score)]\n",
    "\n",
    "# 최고 점수 구하기\n",
    "max_score = max(map(lambda x:x[1], total_score))\n",
    "\n",
    "# 최고 점수를 받은 후보들 필터링\n",
    "candidate = list(filter(lambda x: x[1] == max_score, total_score))\n",
    "\n",
    "# 만약 최고 점수를 받은 후보가 여러 명이라면 3점을 더 많이 받은 후보를 선택\n",
    "if len(candidate) >= 2:\n",
    "    max_three_count = max(map(lambda x: score[x[0]][2], candidate))\n",
    "    candidate = list(filter(lambda x: score[x[0]][2] == max_three_count, candidate))\n",
    "\n",
    "# 만약 3점을 받은 횟수가 같은 후보가 여러 명이라면 2점을 더 많이 받은 후보를 선택\n",
    "if len(candidate) >= 2:\n",
    "    max_two_count = max(map(lambda x: score[x[0]][1], candidate))\n",
    "    candidate = list(filter(lambda x: score[x[0]][1] == max_two_count, candidate))\n",
    "\n",
    "# 여전히 후보가 여러 명이라면 회장을 결정할 수 없음\n",
    "if len(candidate) >= 2:\n",
    "    print(0, max_score)\n",
    "\n",
    "# 회장이 결정된 경우 후보의 인덱스 + 1(후보 번호)와 점수를 출력\n",
    "else:\n",
    "    print(candidate[0][0]+1, candidate[0][1])"
   ]
  },
  {
   "cell_type": "markdown",
   "id": "8b033e28-0a58-45f3-adae-49e4f5ab0210",
   "metadata": {
    "jp-MarkdownHeadingCollapsed": true,
    "tags": []
   },
   "source": [
    "# 2024-08-23"
   ]
  },
  {
   "cell_type": "markdown",
   "id": "b6cf8011-d436-4db3-abe5-f33ada998bfd",
   "metadata": {},
   "source": [
    "## 1057. 토너먼트"
   ]
  },
  {
   "cell_type": "code",
   "execution_count": null,
   "id": "aafddaf9-0abe-4c3b-b453-ac77ae903366",
   "metadata": {},
   "outputs": [],
   "source": [
    "N, a, b = map(int, input().split())\n",
    "cnt = 0\n",
    "\n",
    "while a != b:\n",
    "    a -= a // 2\n",
    "    b -= b // 2\n",
    "    cnt += 1\n",
    "print(cnt)"
   ]
  },
  {
   "cell_type": "markdown",
   "id": "68b70c90-5c1f-464a-9b4c-ffb46bc774ca",
   "metadata": {},
   "source": [
    "# 2024-11"
   ]
  },
  {
   "cell_type": "markdown",
   "id": "8c9e804b-ad28-4418-94b1-4b28312a6170",
   "metadata": {
    "jp-MarkdownHeadingCollapsed": true,
    "tags": []
   },
   "source": [
    "## 2024-11-07"
   ]
  },
  {
   "cell_type": "markdown",
   "id": "5345b3bd-99d1-43c3-b3d0-4dcd3ba0cd0f",
   "metadata": {},
   "source": [
    "### 11721. 열 개씩 끊어 출력하기"
   ]
  },
  {
   "cell_type": "code",
   "execution_count": null,
   "id": "a9529cb6-791c-4d73-947e-152b4a3b1a50",
   "metadata": {},
   "outputs": [],
   "source": [
    "import sys\n",
    "input = sys.stdin.readline\n",
    "\n",
    "word = input()\n",
    "\n",
    "for idx in range(0, len(word), 10):\n",
    "    print(word[idx:idx+10])"
   ]
  },
  {
   "cell_type": "markdown",
   "id": "a73a89fe-f696-49c4-a910-49a8ad3b7ea7",
   "metadata": {
    "jp-MarkdownHeadingCollapsed": true,
    "tags": []
   },
   "source": [
    "## 2024-11-08"
   ]
  },
  {
   "cell_type": "markdown",
   "id": "c6951828-fb80-4189-8353-570e1c43e7a7",
   "metadata": {},
   "source": [
    "### 11719. 그대로 출력하기 2"
   ]
  },
  {
   "cell_type": "code",
   "execution_count": null,
   "id": "12f017d1-3eac-45c3-a8ee-08023d6087f8",
   "metadata": {},
   "outputs": [],
   "source": [
    "while True:\n",
    "    try:\n",
    "        print(input())\n",
    "    except:\n",
    "        break"
   ]
  },
  {
   "cell_type": "code",
   "execution_count": null,
   "id": "19e4292d-f69e-44b0-b49e-d1dd5a124f78",
   "metadata": {},
   "outputs": [],
   "source": [
    "import sys\n",
    "print(sys.stdin.read())"
   ]
  },
  {
   "cell_type": "markdown",
   "id": "bac8997e-30d1-49c7-b240-82b336467c30",
   "metadata": {},
   "source": [
    "### 10886. 0 = not cute / 1 = cute"
   ]
  },
  {
   "cell_type": "code",
   "execution_count": null,
   "id": "eef07445-ba32-4789-83dd-72cf41374178",
   "metadata": {},
   "outputs": [],
   "source": [
    "N = int(input())\n",
    "\n",
    "# vote_cnt[0]: '귀엽지 않다' 투표 수, vote_cnt[1]: '귀엽다' 투표 수\n",
    "vote_cnt = [0, 0]\n",
    "\n",
    "# 투표 데이터를 받아 각 항목에 대해 집계\n",
    "for _ in range(N):\n",
    "    v = int(input())\n",
    "    vote_cnt[v] += 1\n",
    "    \n",
    "# 최종 결과 출력\n",
    "if vote_cnt[1] > vote_cnt[0]:\n",
    "    print('Junhee is cute!')\n",
    "else:\n",
    "    print('Junhee is not cute!')"
   ]
  },
  {
   "cell_type": "markdown",
   "id": "5730866b-ed92-460b-bec6-f2ccc400aa28",
   "metadata": {},
   "source": [
    "### 5576. 콘테스트"
   ]
  },
  {
   "cell_type": "code",
   "execution_count": null,
   "id": "c659adb0-3c25-4205-993a-176e71d2bb21",
   "metadata": {},
   "outputs": [],
   "source": [
    "import sys\n",
    "input = sys.stdin.readline\n",
    "\n",
    "# W 대학과 K 대학의 점수를 입력받고 리스트로 저장\n",
    "W_score = sorted([int(input()) for _ in range(10)], reverse=True)\n",
    "K_score = sorted([int(input()) for _ in range(10)], reverse=True)\n",
    "\n",
    "# 각 대학의 상위 3명 점수의 합을 계산하여 출력\n",
    "print(sum(W_score[:3]), sum(K_score[:3]))"
   ]
  },
  {
   "cell_type": "markdown",
   "id": "b22798ff-3f01-4ee0-810f-3eb8fd768f40",
   "metadata": {
    "jp-MarkdownHeadingCollapsed": true,
    "tags": []
   },
   "source": [
    "## 2024-11-09"
   ]
  },
  {
   "cell_type": "markdown",
   "id": "68856e1c-615a-402b-8760-e34ad0b4a3cd",
   "metadata": {},
   "source": [
    "### 5063. TGN"
   ]
  },
  {
   "cell_type": "code",
   "execution_count": null,
   "id": "4793d85c-773d-4bd3-9a79-6df1e386c171",
   "metadata": {},
   "outputs": [],
   "source": [
    "import sys\n",
    "input = sys.stdin.readline\n",
    "\n",
    "N = int(input())\n",
    "\n",
    "for _ in range(N):\n",
    "    r, e, c = map(int, input().split())\n",
    "    # 광고를 했을 때의 순이익\n",
    "    profit_diff = e - c\n",
    "    \n",
    "    if r > profit_diff:\n",
    "        print('do not advertise')\n",
    "    elif r < profit_diff:\n",
    "        print('advertise')\n",
    "    else:\n",
    "        print('does not matter')"
   ]
  },
  {
   "cell_type": "markdown",
   "id": "53b81832-ad71-4dcc-9afc-f348c98f630f",
   "metadata": {},
   "source": [
    "### 10821. 정수의 개수"
   ]
  },
  {
   "cell_type": "code",
   "execution_count": null,
   "id": "0c96bce8-68d0-4bea-91da-67c7355f5b2b",
   "metadata": {},
   "outputs": [],
   "source": [
    "# , 를 구분자로 정수의 개수 출력\n",
    "print(len(input().split(',')))"
   ]
  },
  {
   "cell_type": "markdown",
   "id": "0a7a06ce-8cb7-4bc1-a2ef-46d77afa4ca7",
   "metadata": {},
   "source": [
    "### 1952. 달팽이2"
   ]
  },
  {
   "cell_type": "code",
   "execution_count": null,
   "id": "3da6a093-e4f0-4b43-a182-86bda5e02343",
   "metadata": {},
   "outputs": [],
   "source": [
    "M, N = map(int, input().split())\n",
    "\n",
    "if M > N:\n",
    "    print(2 * N - 1)\n",
    "else:\n",
    "    print(2 * M - 2)"
   ]
  },
  {
   "cell_type": "code",
   "execution_count": null,
   "id": "2c7ed2ad-37b4-4ca4-a06d-414af068b47f",
   "metadata": {},
   "outputs": [],
   "source": [
    "M, N = map(int, input().split())\n",
    "\n",
    "# M이 N보다 작거나 같으면 True로 1을 빼고, False일 경우 0을 뺌\n",
    "print(2 * min(M, N) - 1 - (M <= N))"
   ]
  },
  {
   "cell_type": "markdown",
   "id": "207519eb-449a-4496-aba3-132a29ccb2bd",
   "metadata": {
    "jp-MarkdownHeadingCollapsed": true,
    "tags": []
   },
   "source": [
    "## 2024-11-10"
   ]
  },
  {
   "cell_type": "markdown",
   "id": "d1cd2567-a4ed-4554-9df9-c312760a7da2",
   "metadata": {},
   "source": [
    "### 10214. Baseball"
   ]
  },
  {
   "cell_type": "code",
   "execution_count": null,
   "id": "8321b025-66b6-454a-990c-d0ae54e46668",
   "metadata": {},
   "outputs": [],
   "source": [
    "import sys\n",
    "input = sys.stdin.readline\n",
    "\n",
    "T = int(input())\n",
    "\n",
    "for _ in range(T):\n",
    "    Y_score, K_score = 0, 0\n",
    "    \n",
    "    for _ in range(9):\n",
    "        Y, K = map(int, input().split())\n",
    "        Y_score += Y\n",
    "        K_score += K\n",
    "    \n",
    "    # 딕셔너리 활용하여 정답 출력\n",
    "    answer = {Y_score > K_score: 'Yonsei', Y_score < K_score: 'Korea', Y_score == K_score: 'Draw'}\n",
    "    print(answer[True])"
   ]
  },
  {
   "cell_type": "markdown",
   "id": "e2e94478-9059-43b2-9e2a-d5b5e29b5c7f",
   "metadata": {},
   "source": [
    "### 2355. 시그마"
   ]
  },
  {
   "cell_type": "code",
   "execution_count": null,
   "id": "9d8f0644-a9a5-430d-a09c-9f152476ea5f",
   "metadata": {},
   "outputs": [],
   "source": [
    "A, B = map(int, input().split())\n",
    "\n",
    "# 등차수열의 합 공식 사용\n",
    "start, end = min(A, B), max(A, B)\n",
    "answer = (end - start + 1) * (start + end) // 2\n",
    "\n",
    "print(answer)"
   ]
  },
  {
   "cell_type": "markdown",
   "id": "11a34ffc-a9d4-4bde-bbe2-df0362c1ffaa",
   "metadata": {},
   "source": [
    "### 18406. 럭키 스트레이트"
   ]
  },
  {
   "cell_type": "code",
   "execution_count": null,
   "id": "0bce4040-bf6a-4b1e-bb3d-a6f59b3157c0",
   "metadata": {},
   "outputs": [],
   "source": [
    "N = list(map(int, input()))\n",
    "\n",
    "# 자릿수를 기준으로 반으로 나누기\n",
    "left = N[:len(N)//2]\n",
    "right = N[len(N)//2:]\n",
    "\n",
    "# 합이 같으면 'LUCKY' 출력, 다르다면 'READY' 출력\n",
    "print('LUCKY' if sum(left) == sum(right) else 'READY')"
   ]
  },
  {
   "cell_type": "markdown",
   "id": "53fcbb7e-d807-4ded-80ae-604255b33068",
   "metadata": {
    "jp-MarkdownHeadingCollapsed": true,
    "tags": []
   },
   "source": [
    "## 2024-11-11"
   ]
  },
  {
   "cell_type": "markdown",
   "id": "5bc6beb4-a015-41a1-9848-f6f64388e063",
   "metadata": {},
   "source": [
    "### 30802. 웰컴 키트"
   ]
  },
  {
   "cell_type": "code",
   "execution_count": null,
   "id": "cdbcec15-3382-4983-931c-5569aed54110",
   "metadata": {},
   "outputs": [],
   "source": [
    "import sys\n",
    "input = sys.stdin.readline\n",
    "\n",
    "N = int(input())\n",
    "L = list(map(int, input().split()))\n",
    "T, P = map(int, input().split())\n",
    "\n",
    "# ceil 구현\n",
    "shirt_bundles = sum(i//T + (i%T > 0) for i in L)\n",
    "pen_bundles = N // P\n",
    "remaining_pens = N % P\n",
    "\n",
    "print(shirt_bundles)\n",
    "print(pen_bundles, remaining_pens)"
   ]
  },
  {
   "cell_type": "code",
   "execution_count": null,
   "id": "cfd10b68-3329-4682-b891-bc6dd3e7b7fc",
   "metadata": {},
   "outputs": [],
   "source": [
    "# math 사용\n",
    "import math\n",
    "import sys\n",
    "input = sys.stdin.readline\n",
    "\n",
    "N = int(input())\n",
    "L = list(map(int, input().split()))\n",
    "T, P = map(int, input().split())\n",
    "\n",
    "shirt_bundles = sum(math.ceil(i / T) for i in L)\n",
    "pen_bundles = N // P\n",
    "remaining_pens = N % P\n",
    "\n",
    "print(shirt_bundles)\n",
    "print(pen_bundles, remaining_pens)"
   ]
  },
  {
   "cell_type": "markdown",
   "id": "0cd3c15e-0fdd-4678-b9a2-dcf38c056a15",
   "metadata": {
    "jp-MarkdownHeadingCollapsed": true,
    "tags": []
   },
   "source": [
    "## 2024-11-12"
   ]
  },
  {
   "cell_type": "markdown",
   "id": "f9b2a73a-e9da-46cb-9e48-ffadffc7b97a",
   "metadata": {},
   "source": [
    "### 15953. 상금 헌터"
   ]
  },
  {
   "cell_type": "code",
   "execution_count": null,
   "id": "387d6bbb-23e0-4cbe-b4fe-ae23f04d16cd",
   "metadata": {},
   "outputs": [],
   "source": [
    "import sys\n",
    "input = sys.stdin.readline\n",
    "\n",
    "T = int(input())\n",
    "\n",
    "for _ in range(T):\n",
    "    prize = 0\n",
    "    a, b = map(int, input().split())\n",
    "      \n",
    "    if a == 0:\n",
    "        pass\n",
    "    elif a == 1:\n",
    "        prize += 5000000\n",
    "    elif a <= 3:\n",
    "        prize += 3000000\n",
    "    elif a <= 6:\n",
    "        prize += 2000000\n",
    "    elif a <= 10:\n",
    "        prize += 500000\n",
    "    elif a <= 15:\n",
    "        prize += 300000\n",
    "    elif a <= 21:\n",
    "        prize += 100000\n",
    "    else:\n",
    "        pass\n",
    "    \n",
    "    if b == 0:\n",
    "        pass\n",
    "    elif b == 1:\n",
    "        prize += 5120000\n",
    "    elif b <= 3:\n",
    "        prize += 2560000\n",
    "    elif b <= 7:\n",
    "        prize += 1280000\n",
    "    elif b <= 15:\n",
    "        prize += 640000\n",
    "    elif b <= 31:\n",
    "        prize += 320000\n",
    "    else:\n",
    "        pass\n",
    "    \n",
    "    print(prize)"
   ]
  },
  {
   "cell_type": "code",
   "execution_count": null,
   "id": "e762c0e1-7501-4e53-90f2-5a0ad5e9bdad",
   "metadata": {},
   "outputs": [],
   "source": [
    "import sys\n",
    "input = sys.stdin.readline\n",
    "\n",
    "prizes_2017 = [0, 5000000, 3000000, 2000000, 500000, 300000, 100000]\n",
    "limits_2017 = [0, 1, 3, 6, 10, 15, 21]\n",
    "prizes_2018 = [0, 5120000, 2560000, 1280000, 640000, 320000]\n",
    "limits_2018 = [0, 1, 3, 7, 15, 31]\n",
    "\n",
    "T = int(input())\n",
    "\n",
    "for _ in range(T):\n",
    "    prize = 0\n",
    "    a, b = map(int, input().split())\n",
    "    \n",
    "    for i in range(len(limits_2017)):\n",
    "        if a <= limits_2017[i]:\n",
    "            prize += prizes_2017[i]\n",
    "            break\n",
    "            \n",
    "    for i in range(len(limits_2018)):\n",
    "        if b <= limits_2018[i]:\n",
    "            prize += prizes_2018[i]\n",
    "            break\n",
    "            \n",
    "    print(prize)"
   ]
  },
  {
   "cell_type": "markdown",
   "id": "90334160-22e4-45e2-bc42-e247a623be6f",
   "metadata": {
    "jp-MarkdownHeadingCollapsed": true,
    "tags": []
   },
   "source": [
    "## 2024-11-13"
   ]
  },
  {
   "cell_type": "markdown",
   "id": "5057c4f4-9fd0-430e-bb23-2aa6116428b6",
   "metadata": {},
   "source": [
    "### 23971. ZOAC 4\n",
    "https://www.acmicpc.net/problem/23971"
   ]
  },
  {
   "cell_type": "code",
   "execution_count": null,
   "id": "af784849-6768-402d-8f78-6188a41199bd",
   "metadata": {},
   "outputs": [],
   "source": [
    "import sys\n",
    "input = sys.stdin.readline\n",
    "\n",
    "H, W, N, M = map(int, input().split())\n",
    "\n",
    "# ceil 구현\n",
    "row = W // (M+1) + (W % (M+1) > 0)\n",
    "col = H // (N+1) + (H % (N+1) > 0)\n",
    "\n",
    "print(row * col)"
   ]
  },
  {
   "cell_type": "code",
   "execution_count": null,
   "id": "e91547ba-2064-492f-8416-79a91dfa25c1",
   "metadata": {},
   "outputs": [],
   "source": [
    "# math 사용\n",
    "import math\n",
    "import sys\n",
    "input = sys.stdin.readline\n",
    "\n",
    "H, W, N, M = map(int, input().split())\n",
    "\n",
    "row = math.ceil(W / (M+1))\n",
    "col = math.ceil(H / (N+1))\n",
    "\n",
    "print(row * col)"
   ]
  },
  {
   "cell_type": "markdown",
   "id": "d82267a6-2dde-4fd7-8a80-f719230b5a67",
   "metadata": {},
   "source": [
    "### 11328. Strfry\n",
    "https://www.acmicpc.net/problem/11328"
   ]
  },
  {
   "cell_type": "code",
   "execution_count": null,
   "id": "ff611174-e92c-4d99-a971-9af9729ec3ea",
   "metadata": {},
   "outputs": [],
   "source": [
    "import sys\n",
    "input = sys.stdin.readline\n",
    "\n",
    "N = int(input())\n",
    "\n",
    "for _ in range(N):\n",
    "    A, B = map(sorted, list(input().split()))\n",
    "    print('Possible' if A == B else 'Impossible')"
   ]
  },
  {
   "cell_type": "markdown",
   "id": "b128e93b-4fc3-4c60-aca3-9b7321190c44",
   "metadata": {},
   "source": [
    "### 14697. 방 배정하기\n",
    "https://www.acmicpc.net/problem/14697"
   ]
  },
  {
   "cell_type": "code",
   "execution_count": null,
   "id": "e67710e3-e8eb-4038-bec4-32b3de28b05d",
   "metadata": {},
   "outputs": [],
   "source": [
    "A, B, C, N = map(int, input().split())\n",
    "\n",
    "L = [A, B, C]\n",
    "dp = [0 for _ in range(N+1)]\n",
    "dp[0] = 1\n",
    "\n",
    "for i in range(1, N+1):\n",
    "    for j in L:\n",
    "        if i - j >= 0 and dp[i - j]:\n",
    "            dp[i] = 1\n",
    "\n",
    "print(dp)"
   ]
  },
  {
   "cell_type": "markdown",
   "id": "f329ca19-1600-426d-8263-34ff03097c12",
   "metadata": {
    "jp-MarkdownHeadingCollapsed": true,
    "tags": []
   },
   "source": [
    "## 2024-11-15"
   ]
  },
  {
   "cell_type": "markdown",
   "id": "fd51447e-c21e-4820-a602-a2111b618b7b",
   "metadata": {},
   "source": [
    "### 17496. 스타후르츠\n",
    "https://www.acmicpc.net/problem/17496"
   ]
  },
  {
   "cell_type": "code",
   "execution_count": null,
   "id": "9c91c882-afc0-4a29-a7bd-93f2ba2ab758",
   "metadata": {},
   "outputs": [],
   "source": [
    "import sys\n",
    "input = sys.stdin.readline\n",
    "\n",
    "N, T, C, P = map(int, input().split())\n",
    "\n",
    "# 수확 가능한 횟수\n",
    "harvest_days = (N - 1) // T\n",
    "\n",
    "# 벌 수 있는 총 수익\n",
    "print(harvest_days * C * P)"
   ]
  },
  {
   "cell_type": "markdown",
   "id": "7e42f105-538b-4d63-9020-b80c6e704cfa",
   "metadata": {
    "jp-MarkdownHeadingCollapsed": true,
    "tags": []
   },
   "source": [
    "## 2024-11-16"
   ]
  },
  {
   "cell_type": "markdown",
   "id": "fbc9f647-79f8-4ee8-a540-fbb3657f663f",
   "metadata": {},
   "source": [
    "### 17614. 369\n",
    "https://www.acmicpc.net/problem/17614"
   ]
  },
  {
   "cell_type": "code",
   "execution_count": null,
   "id": "3edcb95d-722b-4c49-bcf8-1f79ddee0133",
   "metadata": {},
   "outputs": [],
   "source": [
    "N = int(input())\n",
    "rules = ['3', '6', '9']\n",
    "answer = 0\n",
    "\n",
    "for i in range(1, N+1):\n",
    "    for char in str(i):\n",
    "        if char in rules:\n",
    "            answer += 1\n",
    "            \n",
    "print(answer)"
   ]
  },
  {
   "cell_type": "markdown",
   "id": "73a2ddc1-9348-4f01-b59b-9101423bd4e0",
   "metadata": {
    "jp-MarkdownHeadingCollapsed": true,
    "tags": []
   },
   "source": [
    "## 2024-11-17"
   ]
  },
  {
   "cell_type": "markdown",
   "id": "ca452345-5735-4c45-90e3-0daea51c22a0",
   "metadata": {},
   "source": [
    "### 11966. 2의 제곱인가?\n",
    "https://www.acmicpc.net/problem/11966"
   ]
  },
  {
   "cell_type": "code",
   "execution_count": null,
   "id": "45dc572a-d3ae-4048-b8d3-6ff744679cfe",
   "metadata": {},
   "outputs": [],
   "source": [
    "N = int(input())\n",
    "nums = [2**i for i in range(31)]\n",
    "\n",
    "print(1 if N in nums else 0)"
   ]
  },
  {
   "cell_type": "markdown",
   "id": "e6526547-0ea1-4226-ae56-40514a92a690",
   "metadata": {
    "jp-MarkdownHeadingCollapsed": true,
    "tags": []
   },
   "source": [
    "## 2024-11-18"
   ]
  },
  {
   "cell_type": "markdown",
   "id": "6c0f02d6-ea2f-4586-898f-94053cef6c70",
   "metadata": {},
   "source": [
    "### 14656. 조교는 새디스트야!!\n",
    "https://www.acmicpc.net/problem/14656"
   ]
  },
  {
   "cell_type": "code",
   "execution_count": null,
   "id": "5125efde-f7cb-4826-bca9-a6d6fb0208d6",
   "metadata": {},
   "outputs": [],
   "source": [
    "import sys\n",
    "input = sys.stdin.readline\n",
    "\n",
    "N = int(input())\n",
    "L = list(map(int, input().split()))\n",
    "L2 = [i for i in range(1, N+1)]\n",
    "\n",
    "answer = 0\n",
    "for idx in range(N):\n",
    "    if L[idx] != L2[idx]:\n",
    "        answer += 1\n",
    "        \n",
    "print(answer)"
   ]
  },
  {
   "cell_type": "markdown",
   "id": "3d493573-b376-408c-a63e-867039f396a8",
   "metadata": {
    "jp-MarkdownHeadingCollapsed": true,
    "tags": []
   },
   "source": [
    "## 2024-11-20"
   ]
  },
  {
   "cell_type": "markdown",
   "id": "4a14d683-118e-4d0c-863e-ef650c62c62a",
   "metadata": {},
   "source": [
    "### 12790. Mini Fantasy War\n",
    "https://www.acmicpc.net/problem/12790"
   ]
  },
  {
   "cell_type": "code",
   "execution_count": null,
   "id": "63d7e0f7-05b1-4f63-9bd7-9d39d43001cb",
   "metadata": {},
   "outputs": [],
   "source": [
    "import sys\n",
    "input = sys.stdin.readline\n",
    "\n",
    "T = int(input())\n",
    "\n",
    "for _ in  range(T):\n",
    "    L = list(map(int, input().split()))\n",
    "    total_stats = [L[i]+L[i+4] for i in range(4)]\n",
    "    \n",
    "    answer = (\n",
    "        max(total_stats[0], 1) +\n",
    "        max(total_stats[1], 1) * 5 + \n",
    "        max(total_stats[2], 0) * 2 +\n",
    "        total_stats[3] * 2\n",
    "    )\n",
    "    \n",
    "    print(answer)"
   ]
  },
  {
   "cell_type": "markdown",
   "id": "cc124451-d09f-4864-a9b9-2f52eaa96d0f",
   "metadata": {},
   "source": [
    "### 16673. 고려대학교에는 공식 와인이 있다\n",
    "https://www.acmicpc.net/problem/16673"
   ]
  },
  {
   "cell_type": "code",
   "execution_count": null,
   "id": "228ff986-eaf5-48b1-836d-e32c6b470717",
   "metadata": {},
   "outputs": [],
   "source": [
    "C, K, P = map(int, input().split())\n",
    "\n",
    "# 등차수열 합: Σn = n(n+1)/2\n",
    "arithmetic_sum = C * (C + 1) // 2\n",
    "\n",
    "# 제곱합: Σn^2 = n(n+1)(2n+1)/6\n",
    "square_sum = C * (C + 1) * (2 * C + 1) // 6\n",
    "\n",
    "# 총 와인 수 계산\n",
    "answer = K * arithmetic_sum + P * square_sum\n",
    "\n",
    "# 결과 출력\n",
    "print(answer)"
   ]
  },
  {
   "cell_type": "markdown",
   "id": "20df44b2-79d0-44fb-b22c-caac2c46da5f",
   "metadata": {
    "jp-MarkdownHeadingCollapsed": true,
    "tags": []
   },
   "source": [
    "## 2024-11-21"
   ]
  },
  {
   "cell_type": "markdown",
   "id": "e262bd6c-b36a-43b2-8afa-346b4ddb96a7",
   "metadata": {},
   "source": [
    "### 11586. 지영 공주님의 마법 거울\n",
    "https://www.acmicpc.net/problem/11586"
   ]
  },
  {
   "cell_type": "code",
   "execution_count": null,
   "id": "89c30e1a-706f-499c-b0ee-3516e3735944",
   "metadata": {},
   "outputs": [],
   "source": [
    "N = int(input())\n",
    "L = []\n",
    "\n",
    "# N개의 문자열을 입력받아 리스트 L에 추가\n",
    "for _ in range(N):\n",
    "    L.append(input())\n",
    "    \n",
    "K = int(input())\n",
    "\n",
    "# K가 2인 경우, 각 문자열을 뒤집음 (좌우반전)\n",
    "if K == 2:\n",
    "    for i in range(N):\n",
    "        L[i] = L[i][::-1]\n",
    "# # K가 3인 경우, 문자열 리스트의 순서를 뒤집음 (상하반전)\n",
    "elif K == 3:\n",
    "    L = L[::-1]\n",
    "    \n",
    "for j in range(N):\n",
    "    print(L[j])"
   ]
  },
  {
   "cell_type": "markdown",
   "id": "925c2078-ea33-4bb0-a596-858f62b85a33",
   "metadata": {
    "jp-MarkdownHeadingCollapsed": true,
    "tags": []
   },
   "source": [
    "## 2024-11-22"
   ]
  },
  {
   "cell_type": "markdown",
   "id": "ea8636c8-096f-4273-91ab-b6ad25628b5b",
   "metadata": {},
   "source": [
    "### IBM 빼기 1\n",
    "https://www.acmicpc.net/problem/6321"
   ]
  },
  {
   "cell_type": "code",
   "execution_count": null,
   "id": "3f459dbb-6a04-401b-9ed9-23b92a511470",
   "metadata": {},
   "outputs": [],
   "source": [
    "n = int(input())\n",
    "\n",
    "for num in range(1, n+1):\n",
    "    name = input()\n",
    "    answer = ''\n",
    "    \n",
    "    for i in range(len(name)):\n",
    "        # 현재 문자를 아스키 코드로 변환하고 1을 더함 (다음 문자로 이동)\n",
    "        char = ord(name[i]) + 1\n",
    "        \n",
    "        # 아스키 코드 값이 'Z'(90)를 초과하면 'A'(65)로 순환\n",
    "        if char > 90:\n",
    "            char = 65\n",
    "            \n",
    "        answer += chr(char)\n",
    "        \n",
    "    print(f'String #{num}')\n",
    "    print(answer)\n",
    "    print()"
   ]
  },
  {
   "cell_type": "markdown",
   "id": "b8a93073-511e-4d7c-b08e-1347a032ae11",
   "metadata": {
    "jp-MarkdownHeadingCollapsed": true,
    "tags": []
   },
   "source": [
    "## 2024-11-24"
   ]
  },
  {
   "cell_type": "markdown",
   "id": "fea47bbb-ff7d-422c-abd6-0c6aab87a3b8",
   "metadata": {},
   "source": [
    "### 20053. 최소, 최대 2\n",
    "https://www.acmicpc.net/problem/20053"
   ]
  },
  {
   "cell_type": "code",
   "execution_count": null,
   "id": "22f9f98e-26f4-4b36-aaca-b608b1f28df8",
   "metadata": {},
   "outputs": [],
   "source": [
    "import sys\n",
    "input = sys.stdin.readline\n",
    "\n",
    "T = int(input())\n",
    "\n",
    "for _ in range(T):\n",
    "    N = int(input())\n",
    "    L = list(map(int, input().split()))\n",
    "    print(min(L), max(L))"
   ]
  },
  {
   "cell_type": "markdown",
   "id": "382f856e-331e-4589-8706-a2bcb44b9ed0",
   "metadata": {},
   "source": [
    "### 16431. 베시와 데이지\n",
    "https://www.acmicpc.net/problem/16431"
   ]
  },
  {
   "cell_type": "code",
   "execution_count": null,
   "id": "5aec345f-d822-4db3-abca-1becc2ae778a",
   "metadata": {},
   "outputs": [],
   "source": [
    "import sys\n",
    "input = sys.stdin.readline\n",
    "\n",
    "B_x, B_y = map(int, input().split())\n",
    "D_x, D_y = map(int, input().split())\n",
    "J_x, J_y = map(int, input().split())\n",
    "\n",
    "# 대각선 이동이 가능하여 더 긴 거리가 이동 횟수\n",
    "B_answer = max(abs(J_x - B_x), abs(J_y - B_y))\n",
    "\n",
    "# 대각선 이동이 불가능해서 가로와 세로의 합이 이동 횟수\n",
    "D_answer = abs(J_x - D_x) + abs(J_y - D_y)\n",
    "\n",
    "if B_answer == D_answer:\n",
    "    print('tie')\n",
    "elif B_answer > D_answer:\n",
    "    print('daisy')\n",
    "else:\n",
    "    print('bessie')"
   ]
  },
  {
   "cell_type": "markdown",
   "id": "c0c0d4ae-110e-4965-8996-998ae5c3019d",
   "metadata": {
    "jp-MarkdownHeadingCollapsed": true,
    "tags": []
   },
   "source": [
    "## 2024-11-25"
   ]
  },
  {
   "cell_type": "markdown",
   "id": "40d3767b-4350-4d52-83f9-c68b3207975d",
   "metadata": {},
   "source": [
    "### 14920. 3n+1 수열\n",
    "https://www.acmicpc.net/problem/14920"
   ]
  },
  {
   "cell_type": "code",
   "execution_count": null,
   "id": "331c3816-13ab-4399-8f2e-6c6cfa427728",
   "metadata": {},
   "outputs": [],
   "source": [
    "n = int(input())\n",
    "answer = 1\n",
    "\n",
    "# n이 1이 될 때까지 반복\n",
    "while n != 1:\n",
    "    if n % 2 == 0:\n",
    "        n = n // 2\n",
    "    else:\n",
    "        n = 3 * n + 1\n",
    "        \n",
    "    answer += 1\n",
    "    \n",
    "print(answer)"
   ]
  },
  {
   "cell_type": "markdown",
   "id": "44f4cdfb-3fb3-4c69-bcab-afc57d615cb0",
   "metadata": {
    "jp-MarkdownHeadingCollapsed": true,
    "tags": []
   },
   "source": [
    "## 2024-11-26"
   ]
  },
  {
   "cell_type": "markdown",
   "id": "a7958ee6-a7fc-4d90-86df-f685d4adc159",
   "metadata": {},
   "source": [
    "### 17618. 신기한 수\n",
    "https://www.acmicpc.net/problem/17618"
   ]
  },
  {
   "cell_type": "code",
   "execution_count": null,
   "id": "1996a60d-f572-4175-8f2c-97be5f6637cb",
   "metadata": {},
   "outputs": [],
   "source": [
    "N = int(input())\n",
    "answer = 0\n",
    "\n",
    "for num in range(1, N+1):\n",
    "    # num의 각 자릿수를 합산\n",
    "    hap = sum(int(digit) for digit in str(num))\n",
    "    \n",
    "    if num % hap == 0:\n",
    "        answer += 1\n",
    "        \n",
    "print(answer)"
   ]
  },
  {
   "cell_type": "code",
   "execution_count": null,
   "id": "afdf9d40-98bd-4f70-8d89-62b995473f88",
   "metadata": {},
   "outputs": [],
   "source": [
    "N = int(input())\n",
    "answer = 0\n",
    "\n",
    "for num in range(1, N + 1):\n",
    "    hap = 0\n",
    "    tmp = num\n",
    "    \n",
    "    # num의 각 자릿수를 합산\n",
    "    while tmp > 0:\n",
    "        hap += tmp % 10\n",
    "        tmp //= 10\n",
    "\n",
    "    if num % hap == 0:\n",
    "        answer += 1\n",
    "\n",
    "print(answer)"
   ]
  },
  {
   "cell_type": "markdown",
   "id": "eeef050b-a4de-43df-b552-a10020f3d33a",
   "metadata": {
    "jp-MarkdownHeadingCollapsed": true,
    "tags": []
   },
   "source": [
    "## 2024-11-27"
   ]
  },
  {
   "cell_type": "markdown",
   "id": "d138c2d6-d3d4-434b-bc9f-9d8f9dbde7c3",
   "metadata": {},
   "source": [
    "### 9076. 점수 집계\n",
    "https://www.acmicpc.net/problem/9076"
   ]
  },
  {
   "cell_type": "code",
   "execution_count": null,
   "id": "960ff162-eddc-4ec4-a273-41f96cecc4d7",
   "metadata": {},
   "outputs": [],
   "source": [
    "import sys\n",
    "input = sys.stdin.readline\n",
    "\n",
    "T = int(input())\n",
    "\n",
    "for _ in range(T):\n",
    "    # 입력값을 정렬하며 리스트 생성\n",
    "    L = sorted(map(int, input().split()))  \n",
    "    \n",
    "    # 최댓값과 최솟값 제외한 값이 4 이상이면 KIN 출력\n",
    "    if L[-2] - L[1] >= 4:  \n",
    "        print('KIN')\n",
    "    # 최댓값과 최솟값 제외한 값이 4 이하면 나머지 값의 합 출력\n",
    "    else:\n",
    "        print(sum(L[1:-1]))  "
   ]
  },
  {
   "cell_type": "markdown",
   "id": "285f6720-eabd-45aa-b4b6-80b1e50b4bbe",
   "metadata": {
    "jp-MarkdownHeadingCollapsed": true,
    "tags": []
   },
   "source": [
    "## 2024-11-28"
   ]
  },
  {
   "cell_type": "markdown",
   "id": "3edaa302-9378-41a3-b79f-c1d1dced7dba",
   "metadata": {},
   "source": [
    "### 2702. 초6 수학\n",
    "https://www.acmicpc.net/problem/2702"
   ]
  },
  {
   "cell_type": "code",
   "execution_count": null,
   "id": "29616142-d3a6-4437-b670-d68d7892e318",
   "metadata": {},
   "outputs": [],
   "source": [
    "import sys\n",
    "input = sys.stdin.readline\n",
    " \n",
    "T = int(input())\n",
    " \n",
    "for _ in range(T):\n",
    "    a, b = map(int, input().split())\n",
    "    \n",
    "    for i in range(min(a,b), 0, -1):\n",
    "        if a % i == 0 and b % i == 0:\n",
    "            gcd = i\n",
    "            lcm = a * b // gcd\n",
    "            break\n",
    "            \n",
    "    print(lcm, gcd)"
   ]
  },
  {
   "cell_type": "code",
   "execution_count": null,
   "id": "31a9aa38-11bf-4ea3-b32c-31465dca9bad",
   "metadata": {},
   "outputs": [],
   "source": [
    "import sys\n",
    "input = sys.stdin.readline\n",
    " \n",
    "T = int(input())\n",
    " \n",
    "def gcd(a, b):\n",
    "    while b:\n",
    "        a, b = b, a % b\n",
    "    return a\n",
    " \n",
    "for _ in range(T):\n",
    "    a, b = map(int, input().split())\n",
    "    gcd_value = gcd(a, b)\n",
    "    lcm_value = a * b // gcd_value\n",
    "    print(lcm_value, gcd_value)"
   ]
  },
  {
   "cell_type": "markdown",
   "id": "d44e40ed-9e70-4df5-87a2-f901f55030b7",
   "metadata": {
    "jp-MarkdownHeadingCollapsed": true,
    "tags": []
   },
   "source": [
    "## 2024-11-29"
   ]
  },
  {
   "cell_type": "markdown",
   "id": "ae82a0ea-9718-47fc-b9ba-6f382100b995",
   "metadata": {},
   "source": [
    "### 5218. 알파벳 거리\n",
    "https://www.acmicpc.net/problem/5218"
   ]
  },
  {
   "cell_type": "code",
   "execution_count": null,
   "id": "5d7bb778-f67b-4336-ab9c-4c610c9da340",
   "metadata": {},
   "outputs": [],
   "source": [
    "import sys\n",
    "input = sys.stdin.readline\n",
    "\n",
    "T = int(input())\n",
    "\n",
    "for _ in range(T):\n",
    "    x, y = input().split()\n",
    "    answer = []\n",
    "    \n",
    "    for idx in range(len(x)):\n",
    "        if ord(x[idx]) > ord(y[idx]):\n",
    "            answer.append(26 - (ord(x[idx])-ord(y[idx])))\n",
    "        else:\n",
    "            answer.append(ord(y[idx]) - ord(x[idx]))\n",
    "            \n",
    "    print(\"Distances:\", *answer)"
   ]
  },
  {
   "cell_type": "markdown",
   "id": "85442d12-c8cd-4f70-93af-8771175ddde3",
   "metadata": {
    "jp-MarkdownHeadingCollapsed": true,
    "tags": []
   },
   "source": [
    "# 2024-12"
   ]
  },
  {
   "cell_type": "markdown",
   "id": "793c9d68-aa9a-4c2f-86f2-0dae6d7b5d19",
   "metadata": {},
   "source": [
    "## 2024-12-02"
   ]
  },
  {
   "cell_type": "markdown",
   "id": "435b1c7c-3e16-4d1a-b69f-ac313a17e146",
   "metadata": {},
   "source": [
    "### 2511. 카드놀이\n",
    "https://www.acmicpc.net/problem/2511"
   ]
  },
  {
   "cell_type": "code",
   "execution_count": null,
   "id": "2f4389d4-2551-422c-b1c3-4e3a41ff6fcd",
   "metadata": {},
   "outputs": [],
   "source": [
    "A = list(map(int, input().split()))\n",
    "B = list(map(int, input().split()))\n",
    "\n",
    "if A == B:\n",
    "    print(10, 10)\n",
    "    print('D')\n",
    "    \n",
    "else:\n",
    "    A_pt = 0\n",
    "    B_pt = 0\n",
    "\n",
    "    for i  in range(len(A)):\n",
    "        if A[i] > B[i]:\n",
    "            A_pt += 3\n",
    "            win = 'A'\n",
    "        elif A[i] < B[i]:\n",
    "            B_pt += 3\n",
    "            win = 'B'\n",
    "        else:\n",
    "            A_pt += 1\n",
    "            B_pt += 1\n",
    "\n",
    "    print(A_pt, B_pt)\n",
    "    if A_pt == B_pt:\n",
    "        print(win)\n",
    "    else:\n",
    "        print('A' if A_pt > B_pt else 'B')"
   ]
  },
  {
   "cell_type": "markdown",
   "id": "7563e88b-fc9d-4214-9697-80b981ef018b",
   "metadata": {},
   "source": [
    "# 2025-01"
   ]
  },
  {
   "cell_type": "markdown",
   "id": "2eece9d3-20ab-4eb0-bda7-5e36ef7cf219",
   "metadata": {
    "jp-MarkdownHeadingCollapsed": true,
    "tags": []
   },
   "source": [
    "## 2025-01-13"
   ]
  },
  {
   "cell_type": "markdown",
   "id": "ca42779a-30b9-4e7d-9058-b33f0fccd35f",
   "metadata": {},
   "source": [
    "### 15781번 헬멧과 조끼\n",
    "https://www.acmicpc.net/problem/15781"
   ]
  },
  {
   "cell_type": "code",
   "execution_count": null,
   "id": "936a0a4b-0e1d-4015-a40c-f12c69dc6d7e",
   "metadata": {},
   "outputs": [],
   "source": [
    "import sys\n",
    "input = sys.stdin.readline\n",
    "\n",
    "N, M = map(int, input().split())\n",
    "H = list(map(int, input().split()))\n",
    "V = list(map(int, input().split()))\n",
    "\n",
    "print(max(H)+max(V))"
   ]
  },
  {
   "cell_type": "markdown",
   "id": "266a6cbf-b8cf-4022-b469-8b5eba53be5f",
   "metadata": {},
   "source": [
    "### 10822번 더하기\n",
    "https://www.acmicpc.net/problem/10822"
   ]
  },
  {
   "cell_type": "code",
   "execution_count": null,
   "id": "ddaa5db6-7287-480e-bb4f-4777e74cc826",
   "metadata": {},
   "outputs": [],
   "source": [
    "import sys\n",
    "input = sys.stdin.readline\n",
    "\n",
    "S = list(map(int, input().split(',')))\n",
    "print(sum(S))"
   ]
  },
  {
   "cell_type": "markdown",
   "id": "001a5525-ebb3-4eed-b174-7ef904ac6420",
   "metadata": {},
   "source": [
    "### 16968번 차량 번호판 1"
   ]
  },
  {
   "cell_type": "code",
   "execution_count": null,
   "id": "b836543c-3e9d-4f17-baca-ece9c6e6f3fb",
   "metadata": {},
   "outputs": [],
   "source": [
    "P = input()\n",
    "\n",
    "if P[0] == 'd':\n",
    "    answer = 10\n",
    "else:\n",
    "    answer = 26\n",
    "    \n",
    "for i in range(1, len(P)):\n",
    "    if P[i] == 'd':\n",
    "        if P[i-1] == 'd':\n",
    "            answer *= 9\n",
    "        else:\n",
    "            answer *= 10\n",
    "    \n",
    "    else:\n",
    "        if P[i-1] == 'c':\n",
    "            answer *= 25\n",
    "        else:\n",
    "            answer *= 26\n",
    "            \n",
    "print(answer)"
   ]
  },
  {
   "cell_type": "markdown",
   "id": "4cadefdd-4523-440c-91cb-005941179e7e",
   "metadata": {
    "jp-MarkdownHeadingCollapsed": true,
    "tags": []
   },
   "source": [
    "## 2025-01-14"
   ]
  },
  {
   "cell_type": "markdown",
   "id": "9ad31cc8-da67-45ad-ba7f-295a9ed0e745",
   "metadata": {},
   "source": [
    "### 3449번 해밍 거리\n",
    "https://www.acmicpc.net/problem/3449"
   ]
  },
  {
   "cell_type": "code",
   "execution_count": null,
   "id": "ead28888-ce90-434e-b3e2-5e74cee8822d",
   "metadata": {},
   "outputs": [],
   "source": [
    "import sys\n",
    "input = sys.stdin.readline\n",
    "\n",
    "T = int(input())\n",
    "\n",
    "for _ in range(T):\n",
    "    a = input()\n",
    "    b = input()\n",
    "    answer = 0\n",
    "    \n",
    "    for i in range(len(a)):\n",
    "        if a[i] != b[i]:\n",
    "            answer += 1\n",
    "            \n",
    "    print(f'Hamming distance is {answer}.')"
   ]
  },
  {
   "cell_type": "markdown",
   "id": "abdb5a5c-fa99-466a-9789-f1d8589068d8",
   "metadata": {},
   "source": [
    "### 12605번 단어순서 뒤집기\n",
    "https://www.acmicpc.net/problem/12605"
   ]
  },
  {
   "cell_type": "code",
   "execution_count": null,
   "id": "e43ee911-7b07-4a42-8894-9bad8676fc95",
   "metadata": {},
   "outputs": [],
   "source": [
    "import sys\n",
    "input = sys.stdin.readline\n",
    "\n",
    "N = int(input())\n",
    "\n",
    "for x in range(1, N + 1):\n",
    "    words = input().split()\n",
    "    print(f\"Case #{x}: {' '.join(words[::-1])}\")"
   ]
  },
  {
   "cell_type": "markdown",
   "id": "096dc3b3-b869-41a5-9895-8b4a0bb0e51b",
   "metadata": {},
   "source": [
    "### 10801번 카드게임\n",
    "https://www.acmicpc.net/problem/10801"
   ]
  },
  {
   "cell_type": "code",
   "execution_count": null,
   "id": "f28ee5dc-30e8-4050-b1c0-6a53ed7865b3",
   "metadata": {},
   "outputs": [],
   "source": [
    "import sys\n",
    "input = sys.stdin.readline\n",
    "\n",
    "A = list(map(int, input().split()))\n",
    "B = list(map(int, input().split()))\n",
    "\n",
    "a_score = 0\n",
    "b_score = 0\n",
    "for a, b in zip(A, B):\n",
    "    if a > b:\n",
    "        a_score += 1\n",
    "    elif a < b:\n",
    "        b_score += 1\n",
    "\n",
    "if a_score > b_score:\n",
    "    print('A')\n",
    "elif a_score < b_score:\n",
    "    print('B')\n",
    "else:\n",
    "    print('D')"
   ]
  },
  {
   "cell_type": "markdown",
   "id": "26e63f4b-e1ea-4996-8244-3df8a5cfc111",
   "metadata": {
    "jp-MarkdownHeadingCollapsed": true,
    "tags": []
   },
   "source": [
    "## 2025-01-15"
   ]
  },
  {
   "cell_type": "markdown",
   "id": "9a34ae39-63b1-4a85-adfe-f2c1937574bd",
   "metadata": {},
   "source": [
    "### 14568번 2017 연세대학교 프로그래밍 경시대회\n",
    "https://www.acmicpc.net/problem/14568"
   ]
  },
  {
   "cell_type": "code",
   "execution_count": null,
   "id": "5416eebd-3303-47fe-811c-c490b36aa093",
   "metadata": {},
   "outputs": [],
   "source": [
    "import sys\n",
    "input = sys.stdin.readline\n",
    "\n",
    "N = int(input())\n",
    "S = 0\n",
    "\n",
    "# 택희가 가져갈 사탕의 개수를 2부터 시작해 2씩 증가시킴\n",
    "for i in range(2, N-1, 2):\n",
    "    # N-i는 택희가 사탕 i개를 가져간 후 남은 사탕의 개수\n",
    "    # 남규가 영훈이 보다 2개 더 가져가야 하므로 2개 제외\n",
    "    # 남은 사탕을 남규와 영훈이 나눠 가진다면 조건 성립 (최소 1개 이상씩)\n",
    "    S += (N-i-2) // 2\n",
    "    \n",
    "print(S)"
   ]
  },
  {
   "cell_type": "code",
   "execution_count": null,
   "id": "34b78e47-4348-41af-9474-a25c4749a621",
   "metadata": {},
   "outputs": [],
   "source": [
    "import sys\n",
    "input = sys.stdin.readline\n",
    "\n",
    "N = int(input())\n",
    "answer = 0\n",
    "\n",
    "for T in range(2, N, 2): # 택희는 짝수\n",
    "    for Y in range(1, N - T): # 영훈의 사탕 개수\n",
    "        G = N - T - Y # 남규의 사탕 개수 계산\n",
    "        if G >= 1 and G >= Y + 2: # 조건 검증\n",
    "            answer += 1\n",
    "\n",
    "print(answer)"
   ]
  },
  {
   "cell_type": "markdown",
   "id": "0bbc4763-0948-4976-a86c-551db06a1f7d",
   "metadata": {},
   "source": [
    "### 16916번 부분 문자열\n",
    "https://www.acmicpc.net/problem/16916"
   ]
  },
  {
   "cell_type": "code",
   "execution_count": null,
   "id": "1061e24b-c8dd-4f84-814a-a51b7668cacd",
   "metadata": {},
   "outputs": [],
   "source": [
    "S, P = (input() for _ in range(2))\n",
    "print(1 if P in S else 0)"
   ]
  },
  {
   "cell_type": "markdown",
   "id": "f5bb344d-f1dd-4b39-8107-213cb203e368",
   "metadata": {},
   "source": [
    "### 2435번 기상청 인턴 신현수\n",
    "https://www.acmicpc.net/problem/2435"
   ]
  },
  {
   "cell_type": "code",
   "execution_count": null,
   "id": "53a91ad6-eb6e-4b4b-915e-fded74341dd4",
   "metadata": {},
   "outputs": [],
   "source": [
    "N, K = map(int, input().split())\n",
    "T = list(map(int, input().split()))\n",
    "\n",
    "# answer를 가장 작은 값으로 초기화 (음수 합을 제대로 처리하기 위해)\n",
    "answer = -float('inf')  \n",
    "\n",
    "for i in range(N-K+1):\n",
    "    # 현재 구간의 합과 기존의 최대 합을 비교하여 높은 값을 answer에 갱신\n",
    "    answer = max(answer, sum(T[i:i+K]))\n",
    "\n",
    "print(answer)"
   ]
  },
  {
   "cell_type": "markdown",
   "id": "8f4369b0-0502-47dd-9beb-ad5d2d4d658e",
   "metadata": {
    "jp-MarkdownHeadingCollapsed": true,
    "tags": []
   },
   "source": [
    "## 2025-01-16"
   ]
  },
  {
   "cell_type": "markdown",
   "id": "a5adea48-479e-4f29-92a2-4a081e6552a5",
   "metadata": {},
   "source": [
    "### 11134번 쿠키애호가\n",
    "https://www.acmicpc.net/problem/11134"
   ]
  },
  {
   "cell_type": "code",
   "execution_count": null,
   "id": "5b2028a4-1175-4881-a542-22922ef066a6",
   "metadata": {},
   "outputs": [],
   "source": [
    "import sys\n",
    "input = sys.stdin.readline\n",
    "\n",
    "T = int(input())\n",
    "\n",
    "for _ in range(T):\n",
    "    N, C = map(int, input().split())\n",
    "    print(N//C + (1 if N%C else 0))"
   ]
  },
  {
   "cell_type": "markdown",
   "id": "07f83ef1-0e5f-4f04-8d6f-da5ebbc64d87",
   "metadata": {},
   "source": [
    "### 14720번 우유 축제\n",
    "https://www.acmicpc.net/problem/14720"
   ]
  },
  {
   "cell_type": "code",
   "execution_count": null,
   "id": "90ada06d-6c2f-440d-9da5-a2faf407031a",
   "metadata": {},
   "outputs": [],
   "source": [
    "import sys\n",
    "input = sys.stdin.readline\n",
    "\n",
    "N = int(input())\n",
    "L = list(map(int, input().split()))\n",
    "cnt = 0\n",
    "answer = 0\n",
    "\n",
    "for i in range(N):\n",
    "    if L[i] == cnt:\n",
    "        cnt += 1\n",
    "        answer += 1\n",
    "        \n",
    "    if cnt == 3:\n",
    "        cnt = 0\n",
    "        \n",
    "print(answer)"
   ]
  },
  {
   "cell_type": "markdown",
   "id": "421bd955-3e64-48f3-a745-65d7cd565b6f",
   "metadata": {},
   "source": [
    "### 4150번 피보나치 수\n",
    "https://www.acmicpc.net/problem/4150"
   ]
  },
  {
   "cell_type": "code",
   "execution_count": null,
   "id": "bbd89432-7670-468e-bd6e-2cd08342a36a",
   "metadata": {},
   "outputs": [],
   "source": [
    "N = int(input())\n",
    "\n",
    "dp = [0] * (N+3)\n",
    "dp[1] = 1\n",
    "dp[2] = 1\n",
    "\n",
    "for i in range(3, N+1):\n",
    "    dp[i] = dp[i-1] + dp[i-2]\n",
    "    \n",
    "print(dp[N])"
   ]
  },
  {
   "cell_type": "code",
   "execution_count": null,
   "id": "c219dc55-c10b-4514-a745-341064331342",
   "metadata": {},
   "outputs": [],
   "source": [
    "N = int(input())\n",
    "\n",
    "if N == 1 or N == 2:\n",
    "    print(1)\n",
    "else:\n",
    "    a, b = 1, 1\n",
    "    for _ in range(3, N+1):\n",
    "        a, b = b, a+b\n",
    "        \n",
    "    print(b)"
   ]
  },
  {
   "cell_type": "markdown",
   "id": "874cee86-00f2-4237-b91a-7cdc25ffea73",
   "metadata": {
    "jp-MarkdownHeadingCollapsed": true,
    "tags": []
   },
   "source": [
    "## 2025-01-19"
   ]
  },
  {
   "cell_type": "markdown",
   "id": "feb829c8-11b5-4f6c-ad94-99d6817fba42",
   "metadata": {},
   "source": [
    "### 15667번 2018 연세대학교 프로그래밍 경진대회\n",
    "https://www.acmicpc.net/problem/15667"
   ]
  },
  {
   "cell_type": "code",
   "execution_count": null,
   "id": "b169f8a4-b6ee-46ec-8176-b81f9e85a984",
   "metadata": {},
   "outputs": [],
   "source": [
    "N = int(input())\n",
    "\n",
    "for i in range(1, N+1):\n",
    "    if 1 + i + i**2 == N:\n",
    "        print(i)"
   ]
  },
  {
   "cell_type": "markdown",
   "id": "ce8add04-db1a-456c-bce2-b710582e4b9a",
   "metadata": {},
   "source": [
    "### 2495번 연속구간\n",
    "https://www.acmicpc.net/problem/2495"
   ]
  },
  {
   "cell_type": "code",
   "execution_count": null,
   "id": "813b3992-5a88-4386-9147-044437b77152",
   "metadata": {},
   "outputs": [],
   "source": [
    "import sys\n",
    "input = sys.stdin.readline\n",
    "\n",
    "for _ in range(3):\n",
    "    S = input()\n",
    "    cnt = 1\n",
    "    answer = 1\n",
    "    \n",
    "    for i in range(1, 8):\n",
    "        if S[i] == S[i-1]:\n",
    "            cnt += 1\n",
    "        else:\n",
    "            answer = max(cnt, answer)\n",
    "            cnt = 1\n",
    "            \n",
    "    answer = max(cnt, answer)\n",
    "    print(answer)"
   ]
  },
  {
   "cell_type": "markdown",
   "id": "537d8175-2de1-4298-a7e1-8cff0d06e628",
   "metadata": {},
   "source": [
    "### 9455번 박스\n",
    "https://www.acmicpc.net/problem/9455"
   ]
  },
  {
   "cell_type": "code",
   "execution_count": null,
   "id": "0f11d9cd-e9ad-46df-a657-bc15be11416a",
   "metadata": {},
   "outputs": [],
   "source": [
    "import sys\n",
    "input = sys.stdin.readline\n",
    "\n",
    "T = int(input())\n",
    "\n",
    "for _ in range(T):\n",
    "    m, n = map(int, input().split())\n",
    "    grid = [list(map(int, input().split())) for _ in range(m)]\n",
    "    \n",
    "    answer = 0\n",
    "    for col in range(n):\n",
    "        empty_cnt = 0 # 현재 열에서 만난 빈 칸(0)의 개수\n",
    "        for row in range(m-1, -1, -1): # 아래에서 위로 탐색\n",
    "            if grid[row][col] == 0:\n",
    "                empty_cnt += 1\n",
    "            else: # 박스인 경우\n",
    "                answer += empty_cnt # 빈 칸 거리만큼 이동\n",
    "                \n",
    "    print(answer)"
   ]
  },
  {
   "cell_type": "markdown",
   "id": "79902a5d-d872-47de-bd93-b14ed13e6be5",
   "metadata": {
    "jp-MarkdownHeadingCollapsed": true,
    "tags": []
   },
   "source": [
    "## 2025-01-20"
   ]
  },
  {
   "cell_type": "markdown",
   "id": "8528a9b2-728e-4c55-8da1-40527592856a",
   "metadata": {},
   "source": [
    "### 4084번 Viva la Diferencia\n",
    "https://www.acmicpc.net/problem/4084"
   ]
  },
  {
   "cell_type": "code",
   "execution_count": null,
   "id": "cbce4ecb-93d0-4766-8dc3-f65887a7be23",
   "metadata": {},
   "outputs": [],
   "source": [
    "import sys\n",
    "input = sys.stdin.readline\n",
    "\n",
    "while True:\n",
    "    L = list(map(int, input().split()))\n",
    "    answer = 0\n",
    "\n",
    "    if L == [0, 0, 0, 0]:  \n",
    "        break\n",
    "\n",
    "    while len(set(L)) > 1: # 모든 값이 동일하지 않으면 반복\n",
    "        # 각 값의 차이를 계산하여 새 리스트 생성\n",
    "        L = [abs(L[i] - L[(i + 1) % 4]) for i in range(4)] \n",
    "        answer += 1  \n",
    "\n",
    "    print(answer)  "
   ]
  },
  {
   "cell_type": "markdown",
   "id": "6c48230f-a32b-4f57-9ae3-736d26b20fd3",
   "metadata": {},
   "source": [
    "### 5586번 JOI와 IOI\n",
    "https://www.acmicpc.net/problem/5586"
   ]
  },
  {
   "cell_type": "code",
   "execution_count": null,
   "id": "76d98dd6-5187-427a-a3d3-836427c59063",
   "metadata": {},
   "outputs": [],
   "source": [
    "S = input()\n",
    "cnt_JOI, cnt_IOI = 0, 0\n",
    "\n",
    "for i in range(len(S)-2):\n",
    "    if S[i:i+3] == 'JOI':\n",
    "        cnt_JOI += 1\n",
    "    elif S[i:i+3] == 'IOI':\n",
    "        cnt_IOI += 1\n",
    "        \n",
    "print(cnt_JOI, cnt_IOI, sep='\\n')"
   ]
  },
  {
   "cell_type": "markdown",
   "id": "a550166e-d42b-425f-9b23-8f4c8accfa89",
   "metadata": {},
   "source": [
    "### 8595번 히든 넘버\n",
    "https://www.acmicpc.net/problem/8595"
   ]
  },
  {
   "cell_type": "code",
   "execution_count": null,
   "id": "45712608-72e8-4423-bff6-d557df8e7c65",
   "metadata": {},
   "outputs": [],
   "source": [
    "import sys\n",
    "input = sys.stdin.readline\n",
    "\n",
    "n = int(input())\n",
    "S = input()\n",
    "\n",
    "answer = 0\n",
    "tmp = ''  \n",
    "\n",
    "for char in S:\n",
    "    if char.isdigit():  # 숫자인 경우\n",
    "        tmp += char  # `tmp`에 추가\n",
    "    else:  # 알파벳인 경우\n",
    "        if tmp:  # `tmp`가 비어 있지 않다면\n",
    "            answer += int(tmp)  # `tmp`를 숫자로 변환 후 합산\n",
    "            tmp = ''  # 초기화\n",
    "\n",
    "# 숫자로 끝날 경우 `tmp`에 남은 숫자 처리\n",
    "if tmp:\n",
    "    answer += int(tmp)\n",
    "\n",
    "print(answer)"
   ]
  },
  {
   "cell_type": "markdown",
   "id": "a021b43f-d73c-4921-b12b-36da6bb47678",
   "metadata": {},
   "source": [
    "### 16395번 파스칼의 삼각형\n",
    "https://www.acmicpc.net/problem/16395"
   ]
  },
  {
   "cell_type": "code",
   "execution_count": null,
   "id": "c2ec19e1-346d-487f-b17a-a8241b1e7142",
   "metadata": {},
   "outputs": [],
   "source": [
    "n, k = map(int, input().split())\n",
    "answer = []\n",
    "\n",
    "for i in range(n):\n",
    "    row = []\n",
    "    for j in range(i+1):\n",
    "        if j == 0 or j == i: # 첫 열과 마지막 열은 항상 1\n",
    "            row.append(1)\n",
    "        else: # 중간 값은 바로 위 행의 인접한 두 수의 합\n",
    "            row.append(answer[i-1][j-1] + answer[i-1][j])\n",
    "    answer.append(row)\n",
    "    \n",
    "print(answer[n-1][k-1])"
   ]
  },
  {
   "cell_type": "markdown",
   "id": "9482a9b5-b921-4fcd-81ab-431bd67e5894",
   "metadata": {
    "jp-MarkdownHeadingCollapsed": true,
    "tags": []
   },
   "source": [
    "## 2025-01-21"
   ]
  },
  {
   "cell_type": "markdown",
   "id": "041d57b9-4d76-4a5c-bbef-1d474fef2f7d",
   "metadata": {},
   "source": [
    "### 5618번 공약수\n",
    "https://www.acmicpc.net/problem/5618"
   ]
  },
  {
   "cell_type": "code",
   "execution_count": null,
   "id": "88014ab6-313a-49fe-847f-6bb89029a1b8",
   "metadata": {},
   "outputs": [],
   "source": [
    "def gcd(a,b):\n",
    "    while b:\n",
    "        a, b = b, a % b\n",
    "    return a\n",
    "\n",
    "n = int(input())\n",
    "L = list(map(int, input().split()))\n",
    "answer = []\n",
    "\n",
    "if n == 2:\n",
    "    gcd_all = gcd(L[0], L[1])\n",
    "else:\n",
    "    gcd_all = gcd(gcd(L[0], L[1]), L[2])\n",
    "    \n",
    "for i in range(1, int(gcd_all**0.5)+1):\n",
    "    if gcd_all % i == 0: # 두 수 또는 여러 수의 공약수는 항상 그들의 최대공약수(GCD)의 약수\n",
    "        answer.append(i)\n",
    "        if gcd_all // i != i: # i와 gcd_all // i가 다를 때만 추가\n",
    "            answer.append(gcd_all // i)\n",
    "            \n",
    "answer.sort()\n",
    "for ans in answer:\n",
    "    print(ans)"
   ]
  },
  {
   "cell_type": "markdown",
   "id": "aec81984-c22e-462a-bef1-25b11f747cfd",
   "metadata": {},
   "source": [
    "### 4641번 Doubles\n",
    "https://www.acmicpc.net/problem/4641"
   ]
  },
  {
   "cell_type": "code",
   "execution_count": null,
   "id": "58744126-90a9-45c2-9f4b-5fc0a1c0c166",
   "metadata": {},
   "outputs": [],
   "source": [
    "import sys\n",
    "input = sys.stdin.readline\n",
    "\n",
    "while True:\n",
    "    L = list(map(int, input().split()))\n",
    "    \n",
    "    if len(L) == 1:\n",
    "        break\n",
    "        \n",
    "    answer = 0\n",
    "    for i in range(len(L)-1):\n",
    "        if L[i] % 2 == 0 and L[i] // 2 in L: # 짝수일 경우 절반 값이 리스트에 있는지 확인\n",
    "            answer += 1\n",
    "                \n",
    "    print(answer)"
   ]
  },
  {
   "cell_type": "markdown",
   "id": "78138d60-8258-416e-acd1-12648fb9394d",
   "metadata": {},
   "source": [
    "### 15904번 UCPC는 무엇의 약자일까?\n",
    "https://www.acmicpc.net/problem/15904"
   ]
  },
  {
   "cell_type": "code",
   "execution_count": null,
   "id": "fda5473a-8167-42e0-a442-708d5e0dc7a5",
   "metadata": {},
   "outputs": [],
   "source": [
    "S = input()\n",
    "answer = 'UCPC'\n",
    "idx = 0\n",
    "\n",
    "for s in S:\n",
    "    if s == answer[idx]:\n",
    "        idx += 1\n",
    "    \n",
    "    if idx == 4:\n",
    "        print('I love UCPC')\n",
    "        break\n",
    "        \n",
    "else: # 반복문이 break 없이 끝나면\n",
    "    print('I hate UCPC')"
   ]
  },
  {
   "cell_type": "markdown",
   "id": "c6adccdb-e8ca-4ae9-81ae-d1a142123ea0",
   "metadata": {
    "jp-MarkdownHeadingCollapsed": true,
    "tags": []
   },
   "source": [
    "## 2025-01-22"
   ]
  },
  {
   "cell_type": "markdown",
   "id": "941478fd-0b8d-4ac7-a6ae-7cb9279a543f",
   "metadata": {},
   "source": [
    "### 10539번 수빈이와 수열\n",
    "https://www.acmicpc.net/problem/10539"
   ]
  },
  {
   "cell_type": "code",
   "execution_count": null,
   "id": "208da9b1-d285-4b2b-bd56-36d39a96033c",
   "metadata": {},
   "outputs": [],
   "source": [
    "N = int(input())  \n",
    "B = list(map(int, input().split())) \n",
    "\n",
    "A = [B[0]]  # 첫 번째 원소는 B[0]과 동일\n",
    "\n",
    "# A의 나머지 원소를 계산\n",
    "for i in range(1, N):\n",
    "    current_sum = B[i] * (i + 1)  # 현재까지의 누적합 계산\n",
    "    previous_sum = sum(A)         # 이전까지의 누적합\n",
    "    A.append(current_sum - previous_sum)  # A[i] 계산\n",
    "\n",
    "print(*A)"
   ]
  },
  {
   "cell_type": "markdown",
   "id": "73dd3f6b-b935-43c3-9b7d-73e2828858cb",
   "metadata": {},
   "source": [
    "### 10823번 더하기 2\n",
    "https://www.acmicpc.net/problem/10823"
   ]
  },
  {
   "cell_type": "code",
   "execution_count": null,
   "id": "2e8cc255-b0ef-4794-8904-4a291da6fe34",
   "metadata": {},
   "outputs": [],
   "source": [
    "S = ''\n",
    "while True:\n",
    "    try:\n",
    "        tmp = input()\n",
    "        S += tmp # 입력받은 문자열을 S에 추가\n",
    "        \n",
    "    except:\n",
    "        break\n",
    "    \n",
    "# S를 ','로 분리하여 각 요소를 정수로 변환한 뒤 합산\n",
    "print(sum(map(int, S.split(','))))"
   ]
  },
  {
   "cell_type": "markdown",
   "id": "0e8b94be-836c-4871-8827-d1f898635923",
   "metadata": {},
   "source": [
    "### 10709번 기상캐스터\n",
    "https://www.acmicpc.net/problem/10709"
   ]
  },
  {
   "cell_type": "code",
   "execution_count": null,
   "id": "bc25bb8f-20d9-444c-b395-629dd141a0a7",
   "metadata": {},
   "outputs": [],
   "source": [
    "H, W = map(int, input().split())  \n",
    "array = [input().strip() for _ in range(H)] \n",
    "\n",
    "# 결과 저장을 위한 2D 리스트 초기화\n",
    "answer = [[-1] * W for _ in range(H)]\n",
    "\n",
    "# 구름 도달 시간 계산\n",
    "for i in range(H):\n",
    "    last_time = -1\n",
    "    for j in range(W):\n",
    "        if array[i][j] == 'c': # 현재 구름이 있으면\n",
    "            answer[i][j] = 0 # 시간은 0\n",
    "            last_time = 0 # 구름 위치(도달 시간) 초기화\n",
    "        elif last_time != -1: # 구름이 있었을 경우(오른쪽으로 이동중)\n",
    "            last_time += 1\n",
    "            answer[i][j] = last_time\n",
    "            \n",
    "print(answer)"
   ]
  },
  {
   "cell_type": "markdown",
   "id": "a5ef24d0-fe96-45de-8761-f09158a90b54",
   "metadata": {
    "jp-MarkdownHeadingCollapsed": true,
    "tags": []
   },
   "source": [
    "## 2025-01-23"
   ]
  },
  {
   "cell_type": "markdown",
   "id": "ad003217-5b64-43f7-a4c2-c5406a17748e",
   "metadata": {},
   "source": [
    "### 8320번 직사각형을 만드는 방법\n",
    "https://www.acmicpc.net/problem/8320"
   ]
  },
  {
   "cell_type": "code",
   "execution_count": null,
   "id": "496a0a6a-83b2-4ea9-a644-aa9be6e59177",
   "metadata": {},
   "outputs": [],
   "source": [
    "n = int(input()) \n",
    "\n",
    "answer = 0\n",
    "\n",
    "for i in range(1, n + 1):\n",
    "    check = []  \n",
    "    for j in range(2, i // 2 + 1): # 2부터 i의 절반까지 탐색\n",
    "        if i % j == 0: # j가 i의 약수라면\n",
    "            if j in check: # j가 이미 확인된 약수라면\n",
    "                break  \n",
    "            else:\n",
    "                answer += 1 # 새로운 직사각형 발견\n",
    "                check.append(i // j) # i를 j로 나눈 몫도 확인한 약수로 추가\n",
    "    answer += 1  # 자기 자신 (1 x i) 직사각형 추가\n",
    "    \n",
    "print(answer)  "
   ]
  },
  {
   "cell_type": "markdown",
   "id": "9aed68ab-696e-40ce-92b3-ede7944bbb26",
   "metadata": {
    "jp-MarkdownHeadingCollapsed": true,
    "tags": []
   },
   "source": [
    "## 2025-01-24"
   ]
  },
  {
   "cell_type": "markdown",
   "id": "b1c853d0-62a1-4725-b090-bc26fe34e58a",
   "metadata": {},
   "source": [
    "### 5054번 주차의 신\n",
    "https://www.acmicpc.net/problem/5054"
   ]
  },
  {
   "cell_type": "code",
   "execution_count": null,
   "id": "a8fef3d4-e71d-4db3-a19b-f189700361d7",
   "metadata": {},
   "outputs": [],
   "source": [
    "import sys\n",
    "input = sys.stdin.readline\n",
    "\n",
    "t = int(input())  # 테스트 케이스 수\n",
    "results = []\n",
    "\n",
    "for _ in range(t):\n",
    "    n = int(input())  # 상점의 수\n",
    "    shops = list(map(int, input().split()))  # 상점들의 좌표\n",
    "    min_pos = min(shops)  # 가장 가까운 상점 위치\n",
    "    max_pos = max(shops)  # 가장 먼 상점 위치\n",
    "    results.append((max_pos - min_pos) * 2)  # 최소 이동 거리 계산\n",
    "\n",
    "for result in results:\n",
    "    print(result)"
   ]
  },
  {
   "cell_type": "markdown",
   "id": "81396f03-fa67-4203-ba8a-9c333ec56e4e",
   "metadata": {
    "jp-MarkdownHeadingCollapsed": true,
    "tags": []
   },
   "source": [
    "## 2025-01-25"
   ]
  },
  {
   "cell_type": "markdown",
   "id": "0e543e32-be7c-4be8-b878-979a63cea3f6",
   "metadata": {},
   "source": [
    "### 23037번 5의 수난\n",
    "https://www.acmicpc.net/problem/23037"
   ]
  },
  {
   "cell_type": "code",
   "execution_count": null,
   "id": "9ec5b156-c0b2-47f1-b4ff-6100e556dc46",
   "metadata": {},
   "outputs": [],
   "source": [
    "n = input()\n",
    "answer = [int(i)**5 for i in n]\n",
    "print(sum(answer))"
   ]
  },
  {
   "cell_type": "markdown",
   "id": "a32c5b42-5136-4c8a-91a3-d6aff719aba5",
   "metadata": {
    "jp-MarkdownHeadingCollapsed": true,
    "tags": []
   },
   "source": [
    "## 2025-01-26"
   ]
  },
  {
   "cell_type": "markdown",
   "id": "0ee56049-af7e-49aa-ac0b-4b5b1eb21925",
   "metadata": {},
   "source": [
    "### 10829번 이진수 변환\n",
    "https://www.acmicpc.net/problem/10829"
   ]
  },
  {
   "cell_type": "code",
   "execution_count": null,
   "id": "1cf61602-366c-406f-822f-896a95f62bdc",
   "metadata": {},
   "outputs": [],
   "source": [
    "print(bin(int(input()))[2:])"
   ]
  },
  {
   "cell_type": "markdown",
   "id": "c41735e0-0724-4fe2-a9d7-c09265f8dbc4",
   "metadata": {},
   "source": [
    "### 2816번 디지털 티비\n",
    "https://www.acmicpc.net/problem/2816"
   ]
  },
  {
   "cell_type": "code",
   "execution_count": null,
   "id": "8c3df0cf-d0ba-413a-a5b8-e27c723d9ca0",
   "metadata": {},
   "outputs": [],
   "source": [
    "N = int(input())\n",
    "channels = [input() for _ in range(N)]\n",
    "\n",
    "kbs1, kbs2 = channels.index('KBS1'), channels.index('KBS2')\n",
    "\n",
    "if kbs1 > kbs2:\n",
    "    kbs2 += 1\n",
    "    \n",
    "print('1' * kbs1 + '4' * kbs1 + '1' * kbs2 + '4' * (kbs2-1))"
   ]
  },
  {
   "cell_type": "markdown",
   "id": "cd1ffd1a-50dd-4d8e-975e-72f4a83ec9d1",
   "metadata": {},
   "source": [
    "### 1268번 임시 반장 정하기\n",
    "https://www.acmicpc.net/problem/1268"
   ]
  },
  {
   "cell_type": "code",
   "execution_count": null,
   "id": "4cb5e5c0-2f71-4f71-a504-d96fa28a0a0d",
   "metadata": {},
   "outputs": [],
   "source": [
    "import sys\n",
    "input = sys.stdin.readline\n",
    "\n",
    "n = int(input())  \n",
    "classes = [list(map(int, input().split())) for _ in range(n)]  \n",
    "\n",
    "max_count = 0\n",
    "leader = 0\n",
    "\n",
    "# 각 학생별로 다른 학생들과 겹치는 반의 수를 계산\n",
    "for i in range(n):\n",
    "    count = 0  # i번 학생과 같은 반이었던 학생 수\n",
    "    for j in range(n):\n",
    "        if i == j: \n",
    "            continue\n",
    "            \n",
    "        # i번 학생과 j번 학생의 학년별 반 비교\n",
    "        for k in range(5):  # 1학년부터 5학년까지\n",
    "            if classes[i][k] == classes[j][k]:  # 같은 반인 경우\n",
    "                count += 1\n",
    "                break  # 한 번이라도 같은 반이면 더 확인할 필요 없음\n",
    "                \n",
    "    # 가장 많이 겹친 학생 업데이트 (횟수가 더 많거나, 회수가 같지만 번호가 작은 경우)\n",
    "    if count > max_count or (count == max_count and i < leader):\n",
    "        max_count = count\n",
    "        leader = i\n",
    "\n",
    "# 학생 번호는 1번부터 시작하므로 1을 더함\n",
    "print(leader + 1)"
   ]
  },
  {
   "cell_type": "markdown",
   "id": "18ba9c90-90be-498b-9d75-6cba5746a27d",
   "metadata": {},
   "source": [
    "## 2025-01-27"
   ]
  },
  {
   "cell_type": "markdown",
   "id": "d333fe09-8645-4b02-9090-ef18cc751582",
   "metadata": {},
   "source": [
    "### 5032번 탄산 음료\n",
    "https://www.acmicpc.net/problem/5032"
   ]
  },
  {
   "cell_type": "code",
   "execution_count": null,
   "id": "45c97f79-b9da-4a54-8340-1acf1172df80",
   "metadata": {},
   "outputs": [],
   "source": [
    "e, f, c = map(int, input().split())\n",
    "\n",
    "bottles = e+f\n",
    "answer = 0\n",
    "\n",
    "# 교환 가능한 빈 병이 남아있는 동안 계속 교환\n",
    "while bottles >= c:\n",
    "    drinks = bottles // c # 교환해서 얻은 음료의 수\n",
    "    answer += drinks\n",
    "    \n",
    "    bottles = bottles % c + drinks # 교환 후 빈 병 수 초기화\n",
    "    \n",
    "print(answer)"
   ]
  }
 ],
 "metadata": {
  "kernelspec": {
   "display_name": "self1",
   "language": "python",
   "name": "self1"
  },
  "language_info": {
   "codemirror_mode": {
    "name": "ipython",
    "version": 3
   },
   "file_extension": ".py",
   "mimetype": "text/x-python",
   "name": "python",
   "nbconvert_exporter": "python",
   "pygments_lexer": "ipython3",
   "version": "3.7.16"
  }
 },
 "nbformat": 4,
 "nbformat_minor": 5
}
